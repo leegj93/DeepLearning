{
 "cells": [
  {
   "cell_type": "code",
   "execution_count": 1,
   "metadata": {},
   "outputs": [],
   "source": [
    "import numpy as np\n",
    "import pandas as pd"
   ]
  },
  {
   "cell_type": "code",
   "execution_count": 2,
   "metadata": {},
   "outputs": [
    {
     "data": {
      "text/plain": [
       "2.23606797749979"
      ]
     },
     "execution_count": 2,
     "metadata": {},
     "output_type": "execute_result"
    }
   ],
   "source": [
    "x=np.array([2,1])\n",
    "np.linalg.norm(x)"
   ]
  },
  {
   "cell_type": "code",
   "execution_count": 3,
   "metadata": {},
   "outputs": [
    {
     "data": {
      "text/plain": [
       "4.47213595499958"
      ]
     },
     "execution_count": 3,
     "metadata": {},
     "output_type": "execute_result"
    }
   ],
   "source": [
    "x=np.array([4,2])\n",
    "np.linalg.norm(x)"
   ]
  },
  {
   "cell_type": "code",
   "execution_count": 4,
   "metadata": {},
   "outputs": [
    {
     "data": {
      "text/plain": [
       "0"
      ]
     },
     "execution_count": 4,
     "metadata": {},
     "output_type": "execute_result"
    }
   ],
   "source": [
    "a=np.array([1,1])\n",
    "b=np.array([-1,1])\n",
    "a @ b"
   ]
  },
  {
   "cell_type": "code",
   "execution_count": null,
   "metadata": {},
   "outputs": [],
   "source": [
    "#추천시스템(CF 기반)\n",
    "#CF: 유사도 기반 평점 예측, 영화 추천, 음악 추천...등에 활용됨\n",
    "#사용자기반/아이템(하이브리드)기반 CF\n",
    "#아이템기반:사용자 정보 부족, 여러 트랜잭션에서 중복 아이템이\n",
    "#적은 경우(의미있는 데이터 추출이 어려운 경우)\n",
    "\n",
    "#홍길동(트랜잭션):A, B(아이템)\n",
    "#임꺽정:C,D\n",
    "#이순신:E,F"
   ]
  },
  {
   "cell_type": "code",
   "execution_count": 5,
   "metadata": {},
   "outputs": [],
   "source": [
    "critics={\n",
    "    'BTS':{'암수살인':5, '바울':4, '할로윈':1.5},\n",
    "    '손흥민':{'바울':5, '할로윈':2},\n",
    "    '조용필':{'암수살인':2.5, '바울':2, '할로윈':1},\n",
    "    '나훈아':{'암수살인':3.5, '바울':4, '할로윈':5}\n",
    "}"
   ]
  },
  {
   "cell_type": "code",
   "execution_count": 11,
   "metadata": {},
   "outputs": [
    {
     "name": "stdout",
     "output_type": "stream",
     "text": [
      "{'암수살인': 5, '바울': 4, '할로윈': 1.5}\n",
      "{'암수살인': 5, '바울': 4, '할로윈': 1.5}\n"
     ]
    }
   ],
   "source": [
    "print(critics.get('BTS'))\n",
    "print(critics['BTS'])"
   ]
  },
  {
   "cell_type": "code",
   "execution_count": 13,
   "metadata": {
    "scrolled": true
   },
   "outputs": [],
   "source": [
    "#print(critics.get('BTS2')) #None\n",
    "#print(critics['BTS2'])    #에러"
   ]
  },
  {
   "cell_type": "code",
   "execution_count": 14,
   "metadata": {},
   "outputs": [
    {
     "name": "stdout",
     "output_type": "stream",
     "text": [
      "5\n"
     ]
    }
   ],
   "source": [
    "print(critics.get('BTS').get('암수살인'))"
   ]
  },
  {
   "cell_type": "code",
   "execution_count": null,
   "metadata": {},
   "outputs": [],
   "source": []
  },
  {
   "cell_type": "code",
   "execution_count": 15,
   "metadata": {},
   "outputs": [
    {
     "data": {
      "text/plain": [
       "3.1622776601683795"
      ]
     },
     "execution_count": 15,
     "metadata": {},
     "output_type": "execute_result"
    }
   ],
   "source": [
    "#피타고라스(2차원)\n",
    "from math import sqrt\n",
    "sqrt(pow(1,2)+pow(3,2))"
   ]
  },
  {
   "cell_type": "code",
   "execution_count": 16,
   "metadata": {},
   "outputs": [],
   "source": [
    "def sim(i, j):\n",
    "    return sqrt(pow(i,2)+pow(j,2))"
   ]
  },
  {
   "cell_type": "code",
   "execution_count": 19,
   "metadata": {},
   "outputs": [
    {
     "data": {
      "text/plain": [
       "3.1622776601683795"
      ]
     },
     "execution_count": 19,
     "metadata": {},
     "output_type": "execute_result"
    }
   ],
   "source": [
    "var1=critics['손흥민']['바울']-critics['조용필']['바울']\n",
    "var2=critics['손흥민']['할로윈']-critics['조용필']['할로윈']\n",
    "sim(var1,var2)"
   ]
  },
  {
   "cell_type": "code",
   "execution_count": 23,
   "metadata": {},
   "outputs": [
    {
     "name": "stdout",
     "output_type": "stream",
     "text": [
      "BTS  :  0.4721359549995794\n",
      "조용필  :  0.2402530733520421\n",
      "나훈아  :  0.2402530733520421\n"
     ]
    }
   ],
   "source": [
    "for i in critics:\n",
    "    if i!='손흥민':\n",
    "        var1=critics['손흥민']['바울']-critics[i]['바울']\n",
    "        var2=critics['손흥민']['할로윈']-critics[i]['할로윈']\n",
    "        print(i, \" : \", 1/(1+sim(var1,var2)) )\n",
    "    #손흥민과 다른사람과의 거리"
   ]
  },
  {
   "cell_type": "code",
   "execution_count": null,
   "metadata": {},
   "outputs": [],
   "source": [
    "# 10편 영화, 100점 만점 평점\n",
    "# 9편의 영화, 손 & B : 동일한 평점\n",
    "# 1편의 영화 손:0점, B:100점 \n",
    "        "
   ]
  },
  {
   "cell_type": "code",
   "execution_count": 26,
   "metadata": {},
   "outputs": [
    {
     "name": "stdout",
     "output_type": "stream",
     "text": [
      "0.4721359549995794\n"
     ]
    }
   ],
   "source": [
    "def sim_distance(data,user1, user2):\n",
    "    #유클리디안 기반 거리(같은 영화 본것에 대한)\n",
    "    rsum=0\n",
    "    for i in data[user1]: #i:손흥민이 본 영화 중 한 편\n",
    "        if i in data[user2]:#같은 영화\n",
    "            rsum+=pow(data[user1][i]-data[user2][i],2)\n",
    "    return 1/(1+sqrt(rsum))\n",
    "    \n",
    "print(sim_distance(critics, '손흥민', 'BTS'))\n"
   ]
  },
  {
   "cell_type": "code",
   "execution_count": null,
   "metadata": {},
   "outputs": [],
   "source": [
    "#인원에 상관없이\n",
    "#정렬 -> 가장 유사한 상위 n명 추출하는 기능\n",
    "\n",
    "#prototype \n",
    "#top_match(영화평점딕셔너리, 기준사람(손흥민), 상위N명, 적용함수)"
   ]
  },
  {
   "cell_type": "code",
   "execution_count": 28,
   "metadata": {},
   "outputs": [
    {
     "data": {
      "text/plain": [
       "[(0.4721359549995794, 'BTS'), (0.2402530733520421, '조용필')]"
      ]
     },
     "execution_count": 28,
     "metadata": {},
     "output_type": "execute_result"
    }
   ],
   "source": [
    "def top_match(data, name, n=2, sim_f=sim_distance):\n",
    "#구현\n",
    "    myList=[]\n",
    "    for i in data:\n",
    "        if name!=i:\n",
    "            myList.append((sim_f(data,name,i),i))\n",
    "    myList.sort()\n",
    "    myList.reverse()\n",
    "    return myList[:n]\n",
    "top_match(critics, '손흥민')"
   ]
  },
  {
   "cell_type": "code",
   "execution_count": 29,
   "metadata": {},
   "outputs": [],
   "source": [
    "# 출력 예시\n",
    "# 유사도, 이름\n",
    "# 유사도, 이름"
   ]
  },
  {
   "cell_type": "code",
   "execution_count": 30,
   "metadata": {},
   "outputs": [],
   "source": [
    "critics = {\n",
    "    '조용필': {\n",
    "        '택시운전사': 2.5,\n",
    "        '겨울왕국': 3.5,\n",
    "        '리빙라스베가스': 3.0,\n",
    "        '넘버3': 3.5,\n",
    "        '사랑과전쟁': 2.5,\n",
    "        '세계대전': 3.0,\n",
    "    },\n",
    "    'BTS': {\n",
    "        '택시운전사': 1.0,\n",
    "        '겨울왕국': 4.5,\n",
    "        '리빙라스베가스': 0.5,\n",
    "        '넘버3': 1.5,\n",
    "        '사랑과전쟁': 4.5,\n",
    "        '세계대전': 5.0,\n",
    "    },\n",
    "    '강감찬': {\n",
    "        '택시운전사': 3.0,\n",
    "        '겨울왕국': 3.5,\n",
    "        '리빙라스베가스': 1.5,\n",
    "        '넘버3': 5.0,\n",
    "        '세계대전': 3.0,\n",
    "        '사랑과전쟁': 3.5,\n",
    "    },\n",
    "    '을지문덕': {\n",
    "        '택시운전사': 2.5,\n",
    "        '겨울왕국': 3.0,\n",
    "        '넘버3': 3.5,\n",
    "        '세계대전': 4.0,\n",
    "    },\n",
    "    '김유신': {\n",
    "        '겨울왕국': 3.5,\n",
    "        '리빙라스베가스': 3.0,\n",
    "        '세계대전': 4.5,\n",
    "        '넘버3': 4.0,\n",
    "        '사랑과전쟁': 2.5,\n",
    "    },\n",
    "    '유성룡': {\n",
    "        '택시운전사': 3.0,\n",
    "        '겨울왕국': 4.0,\n",
    "        '리빙라스베가스': 2.0,\n",
    "        '넘버3': 3.0,\n",
    "        '세계대전': 3.5,\n",
    "        '사랑과전쟁': 2.0,\n",
    "    },\n",
    "    '이황': {\n",
    "        '택시운전사': 3.0,\n",
    "        '겨울왕국': 4.0,\n",
    "        '세계대전': 3.0,\n",
    "        '넘버3': 5.0,\n",
    "        '사랑과전쟁': 3.5,\n",
    "    },\n",
    "    '이이': {'겨울왕국': 4.5, '사랑과전쟁': 1.0,\n",
    "             '넘버3': 4.0},\n",
    "}\n"
   ]
  },
  {
   "cell_type": "code",
   "execution_count": 31,
   "metadata": {},
   "outputs": [],
   "source": [
    "import matplotlib\n",
    "from matplotlib import font_manager, rc\n",
    "import platform\n",
    "if platform.system()==\"Windows\":\n",
    "    font_name=font_manager.FontProperties(fname=\"c:/Windows/Fonts/malgun.ttf\").get_name()\n",
    "    rc('font', family=font_name)\n",
    "matplotlib.rcParams['axes.unicode_minus']=False\n",
    "\n",
    "import warnings\n",
    "warnings.filterwarnings(\"ignore\")"
   ]
  },
  {
   "cell_type": "code",
   "execution_count": 32,
   "metadata": {},
   "outputs": [],
   "source": [
    "import matplotlib.pyplot as plt"
   ]
  },
  {
   "cell_type": "code",
   "execution_count": 36,
   "metadata": {},
   "outputs": [
    {
     "data": {
      "text/plain": [
       "[0, 5, 0, 5]"
      ]
     },
     "execution_count": 36,
     "metadata": {},
     "output_type": "execute_result"
    },
    {
     "data": {
      "image/png": "[encoded data removed]",
      "text/plain": [
       "<Figure size 1008x576 with 1 Axes>"
      ]
     },
     "metadata": {
      "needs_background": "light"
     },
     "output_type": "display_data"
    }
   ],
   "source": [
    "plt.figure(figsize=(14,8))\n",
    "plt.plot([1,2,3], [1,2,3], 'g^')\n",
    "#   plot([손흥민 평점], [이순신 평점], )\n",
    "plt.text(1,1,'사과')\n",
    "plt.axis([0,5,0,5])"
   ]
  },
  {
   "cell_type": "code",
   "execution_count": 46,
   "metadata": {},
   "outputs": [
    {
     "data": {
      "image/png": "[encoded data removed]",
      "text/plain": [
       "<Figure size 1008x576 with 1 Axes>"
      ]
     },
     "metadata": {
      "needs_background": "light"
     },
     "output_type": "display_data"
    }
   ],
   "source": [
    "def drawGraph(data, name1, name2):\n",
    "    li1=[]\n",
    "    li2=[]\n",
    "    plt.figure(figsize=(14,8))\n",
    "#     print(data[name1]['겨울왕국'])\n",
    "#     print(data[name2]['겨울왕국'])    \n",
    "    for i in data[name1]:\n",
    "        if i in data[name2]:\n",
    "            li1.append(data[name1][i])\n",
    "            li2.append(data[name2][i])\n",
    "            plt.text(data[name1][i], data[name2][i], i)\n",
    "    plt.plot(li1, li2, 'ro')\n",
    "    plt.xlabel(name1)\n",
    "    plt.ylabel(name2)\n",
    "    \n",
    "drawGraph(critics, 'BTS', '강감찬')   "
   ]
  },
  {
   "cell_type": "code",
   "execution_count": 48,
   "metadata": {},
   "outputs": [],
   "source": [
    "def sim_pearson(data, name1, name2):\n",
    "    sumX=0 # X의 합\n",
    "    sumY=0 # Y의 합\n",
    "    sumPowX=0 # X 제곱의 합\n",
    "    sumPowY=0 # Y 제곱의 합\n",
    "    sumXY=0 # X*Y의 합\n",
    "    count=0 #영화 개수\n",
    "    \n",
    "    for i in data[name1]: # i = key\n",
    "        if i in data[name2]: # 같은 영화를 평가했을때만\n",
    "            sumX+=data[name1][i]\n",
    "            sumY+=data[name2][i]\n",
    "            sumPowX+=pow(data[name1][i],2)\n",
    "            sumPowY+=pow(data[name2][i],2)\n",
    "            sumXY+=data[name1][i]*data[name2][i]\n",
    "            count+=1\n",
    "    \n",
    "    return ( sumXY- ((sumX*sumY)/count) )/ sqrt( (sumPowX - (pow(sumX,2) / count)) * (sumPowY - (pow(sumY,2)/count)))\n",
    " \n",
    "\n"
   ]
  },
  {
   "cell_type": "code",
   "execution_count": 49,
   "metadata": {},
   "outputs": [
    {
     "name": "stdout",
     "output_type": "stream",
     "text": [
      "0.21693045781865616\n"
     ]
    }
   ],
   "source": [
    "print(sim_pearson(critics, 'BTS', '강감찬'))\n",
    "#두 사람의 상관계수가 출력\n",
    "#'BTS'와 나머지 전체 사람들과의 상관계수\n",
    "#전체에 대해 상관계수(상위 n개 상관계수 리스트 출력)\n"
   ]
  },
  {
   "cell_type": "code",
   "execution_count": 51,
   "metadata": {},
   "outputs": [],
   "source": [
    "def top_match(data, name, n=3, sim_f=sim_pearson):\n",
    "#구현\n",
    "    myList=[]\n",
    "    for i in data:\n",
    "        if name!=i:\n",
    "            myList.append((sim_f(data,name,i),i))\n",
    "    myList.sort()\n",
    "    myList.reverse()\n",
    "    return myList[:n]"
   ]
  },
  {
   "cell_type": "code",
   "execution_count": 52,
   "metadata": {},
   "outputs": [
    {
     "data": {
      "text/plain": [
       "[(0.963795681875635, '이황'),\n",
       " (0.39605901719066977, '조용필'),\n",
       " (0.38124642583151164, '이이')]"
      ]
     },
     "execution_count": 52,
     "metadata": {},
     "output_type": "execute_result"
    }
   ],
   "source": [
    "top_match(critics, '강감찬', 3)"
   ]
  },
  {
   "cell_type": "code",
   "execution_count": null,
   "metadata": {},
   "outputs": [],
   "source": [
    "# 추천시스템(오늘 연습문제)\n",
    "# 예상평점 구해보자\n",
    "#     - 예상 점수 : 유사도 * (상대방의) 평점\n",
    "#     ex) '강감찬'이 안본 영화중 'A'영화를\n",
    "#     다른 사람들은 각각 4, 3, 2점 평점 줬다고 가정.\n",
    "#     유사도를 구해보니 0.9, 0.3, 0.7로 나왔다면,\n",
    "#     0.9*4점 => 3.6점 예상\n",
    "#     0.3*3점 => 0.9점 예상\n",
    "#     0.7*2점 => 1.4점 예상\n",
    "#     예상점수 총합 = 5.9점(예상점수합)/1.9점(유사도합)\n",
    "#     =>약 3점 예상됨\n",
    "#     ...\n",
    "#     만약 A영화 3점, B영화 2점, C영화 4점으로 예상됐다면\n",
    "#     강감찬에게 'C'영화를 추천\n",
    "    \n",
    "    "
   ]
  },
  {
   "cell_type": "code",
   "execution_count": null,
   "metadata": {},
   "outputs": [],
   "source": [
    "def getRec():\n",
    "    #구현"
   ]
  },
  {
   "cell_type": "code",
   "execution_count": 53,
   "metadata": {},
   "outputs": [],
   "source": [
    "train=pd.read_csv(\"train.csv\")\n",
    "test=pd.read_csv(\"test.csv\")"
   ]
  },
  {
   "cell_type": "code",
   "execution_count": 56,
   "metadata": {},
   "outputs": [],
   "source": [
    "train.head()\n",
    "test.head()\n",
    "train_id=train['Id']\n",
    "test_id=test['Id']"
   ]
  },
  {
   "cell_type": "code",
   "execution_count": 57,
   "metadata": {},
   "outputs": [],
   "source": [
    "train.drop(\"Id\", axis=1, inplace=True)\n",
    "test.drop(\"Id\", axis=1, inplace=True)"
   ]
  },
  {
   "cell_type": "code",
   "execution_count": 59,
   "metadata": {},
   "outputs": [],
   "source": [
    "train.head()\n",
    "import matplotlib.pyplot as plt\n",
    "import seaborn as sns"
   ]
  },
  {
   "cell_type": "code",
   "execution_count": 62,
   "metadata": {},
   "outputs": [
    {
     "data": {
      "text/plain": [
       "<matplotlib.axes._subplots.AxesSubplot at 0x21e308eb0f0>"
      ]
     },
     "execution_count": 62,
     "metadata": {},
     "output_type": "execute_result"
    },
    {
     "data": {
      "image/png": "[encoded data removed]",
      "text/plain": [
       "<Figure size 432x288 with 1 Axes>"
      ]
     },
     "metadata": {
      "needs_background": "light"
     },
     "output_type": "display_data"
    }
   ],
   "source": [
    "train.columns\n",
    "sns.distplot(train['SalePrice'])"
   ]
  },
  {
   "cell_type": "code",
   "execution_count": 70,
   "metadata": {},
   "outputs": [],
   "source": [
    "ntrain=train.shape[0] #(1460, 80)\n",
    "ntest=test.shape[0]#(1459, 79)\n",
    "ytrain=train.SalePrice.values"
   ]
  },
  {
   "cell_type": "code",
   "execution_count": 71,
   "metadata": {},
   "outputs": [],
   "source": [
    "#트레이닝 + 테스트 => null 처리"
   ]
  },
  {
   "cell_type": "code",
   "execution_count": 82,
   "metadata": {},
   "outputs": [
    {
     "data": {
      "text/plain": [
       "2919"
      ]
     },
     "execution_count": 82,
     "metadata": {},
     "output_type": "execute_result"
    }
   ],
   "source": [
    "allData=pd.concat((train, test)).reset_index(drop=True)\n",
    "allData.drop(['SalePrice'], axis=1, inplace=True)\n",
    "allData.head()\n",
    "allData.shape\n",
    "len(allData)"
   ]
  },
  {
   "cell_type": "code",
   "execution_count": 93,
   "metadata": {},
   "outputs": [
    {
     "data": {
      "text/plain": [
       "<matplotlib.axes._subplots.AxesSubplot at 0x21e31b8e0b8>"
      ]
     },
     "execution_count": 93,
     "metadata": {},
     "output_type": "execute_result"
    },
    {
     "data": {
      "image/png": "[encoded data removed]",
      "text/plain": [
       "<Figure size 432x288 with 1 Axes>"
      ]
     },
     "metadata": {
      "needs_background": "light"
     },
     "output_type": "display_data"
    }
   ],
   "source": [
    "allNa=(allData.isnull().sum() / len(allData))*100\n",
    "allNa #na 비율\n",
    "#문제\n",
    "#na비율을 기준으로 내림차순 정렬\n",
    "#na비율이 0인 컬럼들은 제외\n",
    "\n",
    "#출력\n",
    "# PoolQC           99.657417\n",
    "# MiscFeature      96.402878\n",
    "# ...\n",
    "\n",
    "allNa=allNa.drop(allNa[allNa==0].index).sort_values(ascending=False)\n",
    "allNa\n",
    "missingData=pd.DataFrame({'NA Ratio' : allNa})\n",
    "missingData\n",
    "\n",
    "plt.xticks(rotation='90')\n",
    "sns.barplot(x=allNa.index, y=allNa)"
   ]
  },
  {
   "cell_type": "code",
   "execution_count": null,
   "metadata": {},
   "outputs": [],
   "source": []
  }
 ],
 "metadata": {
  "kernelspec": {
   "display_name": "Python 3",
   "language": "python",
   "name": "python3"
  },
  "language_info": {
   "codemirror_mode": {
    "name": "ipython",
    "version": 3
   },
   "file_extension": ".py",
   "mimetype": "text/x-python",
   "name": "python",
   "nbconvert_exporter": "python",
   "pygments_lexer": "ipython3",
   "version": "3.7.3"
  }
 },
 "nbformat": 4,
 "nbformat_minor": 2
}

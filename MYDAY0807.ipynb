{
 "cells": [
  {
   "cell_type": "code",
   "execution_count": 85,
   "metadata": {},
   "outputs": [],
   "source": [
    "from keras.datasets import mnist\n",
    "import numpy as np"
   ]
  },
  {
   "cell_type": "code",
   "execution_count": 101,
   "metadata": {},
   "outputs": [
    {
     "data": {
      "text/plain": [
       "(10000, 28, 28)"
      ]
     },
     "execution_count": 101,
     "metadata": {},
     "output_type": "execute_result"
    }
   ],
   "source": [
    "(train_images, train_labels),(test_images, test_labels)=mnist.load_data()\n",
    "train_images.shape\n",
    "test_images.shape"
   ]
  },
  {
   "cell_type": "code",
   "execution_count": 102,
   "metadata": {},
   "outputs": [],
   "source": [
    "from keras import *\n",
    "from keras.utils import to_categorical"
   ]
  },
  {
   "cell_type": "code",
   "execution_count": 103,
   "metadata": {},
   "outputs": [],
   "source": [
    "network=models.Sequential()\n",
    "network.add(layers.Dense(512, activation='relu', input_shape=(28*28,)))\n",
    "network.add(layers.Dense(10, activation='softmax'))"
   ]
  },
  {
   "cell_type": "code",
   "execution_count": 104,
   "metadata": {},
   "outputs": [],
   "source": [
    "#훈련(컴파일)\n",
    "\n",
    "network.compile(loss='categorical_crossentropy', optimizer='rmsprop',metrics=['accuracy'])"
   ]
  },
  {
   "cell_type": "code",
   "execution_count": 105,
   "metadata": {},
   "outputs": [],
   "source": [
    "\n",
    "train_images=train_images.reshape((60000, 28*28))\n",
    "train_images=train_images.astype('float32')/255 #정규화\n",
    "\n",
    "test_images=test_images.reshape((10000, 28*28))\n",
    "test_images=test_images.astype('float32')/255\n",
    "\n",
    "\n"
   ]
  },
  {
   "cell_type": "code",
   "execution_count": 106,
   "metadata": {},
   "outputs": [
    {
     "name": "stderr",
     "output_type": "stream",
     "text": [
      "W0807 11:28:18.148976 10764 deprecation.py:323] From C:\\Users\\Kyujin\\Anaconda3\\lib\\site-packages\\tensorflow\\python\\ops\\math_grad.py:1250: add_dispatch_support.<locals>.wrapper (from tensorflow.python.ops.array_ops) is deprecated and will be removed in a future version.\n",
      "Instructions for updating:\n",
      "Use tf.where in 2.0, which has the same broadcast rule as np.where\n",
      "W0807 11:28:18.262706 10764 deprecation_wrapper.py:119] From C:\\Users\\Kyujin\\Anaconda3\\lib\\site-packages\\keras\\backend\\tensorflow_backend.py:986: The name tf.assign_add is deprecated. Please use tf.compat.v1.assign_add instead.\n",
      "\n"
     ]
    },
    {
     "name": "stdout",
     "output_type": "stream",
     "text": [
      "Epoch 1/5\n",
      "60000/60000 [==============================] - 7s 114us/step - loss: 0.2578 - acc: 0.9254 0s - loss: 0.2744\n",
      "Epoch 2/5\n",
      "60000/60000 [==============================] - 6s 93us/step - loss: 0.1061 - acc: 0.9688\n",
      "Epoch 3/5\n",
      "60000/60000 [==============================] - 6s 98us/step - loss: 0.0692 - acc: 0.9794\n",
      "Epoch 4/5\n",
      "60000/60000 [==============================] - 6s 96us/step - loss: 0.0507 - acc: 0.9854\n",
      "Epoch 5/5\n",
      "60000/60000 [==============================] - ETA: 0s - loss: 0.0372 - acc: 0.9887- ETA: 1s - l - 6s 97us/step - loss: 0.0373 - acc: 0.9887\n"
     ]
    },
    {
     "data": {
      "text/plain": [
       "<keras.callbacks.History at 0x1eb80fccb00>"
      ]
     },
     "execution_count": 106,
     "metadata": {},
     "output_type": "execute_result"
    }
   ],
   "source": [
    "train_labels=to_categorical(train_labels)\n",
    "test_labels=to_categorical(test_labels)\n",
    "\n",
    "network.fit(train_images, train_labels, epochs=5, batch_size=128)"
   ]
  },
  {
   "cell_type": "code",
   "execution_count": 107,
   "metadata": {},
   "outputs": [
    {
     "name": "stdout",
     "output_type": "stream",
     "text": [
      "10000/10000 [==============================] - 1s 84us/step\n"
     ]
    }
   ],
   "source": [
    "test_cost, test_acc= network.evaluate(test_images,test_labels)"
   ]
  },
  {
   "cell_type": "code",
   "execution_count": 108,
   "metadata": {},
   "outputs": [],
   "source": [
    "from konlpy.tag import Twitter"
   ]
  },
  {
   "cell_type": "code",
   "execution_count": 116,
   "metadata": {},
   "outputs": [],
   "source": [
    "import nltk\n",
    "from nltk.tokenize import word_tokenize\n",
    "from nltk.tokenize import WordPunctTokenizer"
   ]
  },
  {
   "cell_type": "code",
   "execution_count": null,
   "metadata": {},
   "outputs": [],
   "source": [
    "nltk.download()"
   ]
  },
  {
   "cell_type": "code",
   "execution_count": 120,
   "metadata": {},
   "outputs": [
    {
     "name": "stdout",
     "output_type": "stream",
     "text": [
      "['how', 'are', 'you', '?']\n",
      "['Do', \"n't\", 'touch', 'me']\n",
      "['Don', \"'\", 't', 'touch', 'me']\n"
     ]
    }
   ],
   "source": [
    "print(word_tokenize(\"how are you?\"))\n",
    "print(word_tokenize(\"Don't touch me\"))\n",
    "print(WordPunctTokenizer().tokenize(\"Don't touch me\"))\n"
   ]
  },
  {
   "cell_type": "code",
   "execution_count": 115,
   "metadata": {},
   "outputs": [],
   "source": []
  },
  {
   "cell_type": "code",
   "execution_count": 12,
   "metadata": {},
   "outputs": [],
   "source": [
    "from konlpy.tag import Okt\n",
    "from konlpy.tag import Hannanum"
   ]
  },
  {
   "cell_type": "code",
   "execution_count": 13,
   "metadata": {},
   "outputs": [
    {
     "name": "stderr",
     "output_type": "stream",
     "text": [
      "C:\\Users\\Kyujin\\Anaconda3\\lib\\site-packages\\jpype\\_core.py:210: UserWarning: \n",
      "-------------------------------------------------------------------------------\n",
      "Deprecated: convertStrings was not specified when starting the JVM. The default\n",
      "behavior in JPype will be False starting in JPype 0.8. The recommended setting\n",
      "for new code is convertStrings=False.  The legacy value of True was assumed for\n",
      "this session. If you are a user of an application that reported this warning,\n",
      "please file a ticket with the developer.\n",
      "-------------------------------------------------------------------------------\n",
      "\n",
      "  \"\"\")\n"
     ]
    }
   ],
   "source": [
    "hannanum= Hannanum()\n",
    "okt=Okt()"
   ]
  },
  {
   "cell_type": "code",
   "execution_count": 14,
   "metadata": {},
   "outputs": [
    {
     "name": "stdout",
     "output_type": "stream",
     "text": [
      "['Python is an interpreted, high-level, general-purpose programming language.', \"Created by Guido van Rossum and first released in 1991, Python's design philosophy emphasizes code readability with its notable use of significant whitespace.\", 'Its language constructs and object-oriented approach aim to help programmers write clear, logical code for small and large-scale projects.', '[27] Python is dynamically typed and garbage-collected.', 'It supports multiple programming paradigms, including procedural, object-oriented, and functional programming.', \"Python is often described as a 'batteries included' language due to its comprehensive standard library.\", '[28]']\n",
      "==================================================\n",
      "['Python', 'is', 'an', 'interpreted', ',', 'high-level', ',', 'general-purpose', 'programming', 'language', '.', 'Created', 'by', 'Guido', 'van', 'Rossum', 'and', 'first', 'released', 'in', '1991', ',', 'Python', \"'s\", 'design', 'philosophy', 'emphasizes', 'code', 'readability', 'with', 'its', 'notable', 'use', 'of', 'significant', 'whitespace', '.', 'Its', 'language', 'constructs', 'and', 'object-oriented', 'approach', 'aim', 'to', 'help', 'programmers', 'write', 'clear', ',', 'logical', 'code', 'for', 'small', 'and', 'large-scale', 'projects', '.', '[', '27', ']', 'Python', 'is', 'dynamically', 'typed', 'and', 'garbage-collected', '.', 'It', 'supports', 'multiple', 'programming', 'paradigms', ',', 'including', 'procedural', ',', 'object-oriented', ',', 'and', 'functional', 'programming', '.', 'Python', 'is', 'often', 'described', 'as', 'a', \"'batteries\", 'included', \"'\", 'language', 'due', 'to', 'its', 'comprehensive', 'standard', 'library', '.', '[', '28', ']']\n",
      "==================================================\n",
      "[('Python', 'NNP'), ('is', 'VBZ'), ('an', 'DT'), ('interpreted', 'JJ'), (',', ','), ('high-level', 'JJ'), (',', ','), ('general-purpose', 'JJ'), ('programming', 'NN'), ('language', 'NN'), ('.', '.'), ('Created', 'VBN'), ('by', 'IN'), ('Guido', 'NNP'), ('van', 'NN'), ('Rossum', 'NNP'), ('and', 'CC'), ('first', 'RB'), ('released', 'VBN'), ('in', 'IN'), ('1991', 'CD'), (',', ','), ('Python', 'NNP'), (\"'s\", 'POS'), ('design', 'NN'), ('philosophy', 'NN'), ('emphasizes', 'VBZ'), ('code', 'JJ'), ('readability', 'NN'), ('with', 'IN'), ('its', 'PRP$'), ('notable', 'JJ'), ('use', 'NN'), ('of', 'IN'), ('significant', 'JJ'), ('whitespace', 'NN'), ('.', '.'), ('Its', 'PRP$'), ('language', 'NN'), ('constructs', 'NNS'), ('and', 'CC'), ('object-oriented', 'JJ'), ('approach', 'NN'), ('aim', 'NN'), ('to', 'TO'), ('help', 'VB'), ('programmers', 'NNS'), ('write', 'VB'), ('clear', 'JJ'), (',', ','), ('logical', 'JJ'), ('code', 'NN'), ('for', 'IN'), ('small', 'JJ'), ('and', 'CC'), ('large-scale', 'JJ'), ('projects', 'NNS'), ('.', '.'), ('[', '$'), ('27', 'CD'), (']', 'NNP'), ('Python', 'NNP'), ('is', 'VBZ'), ('dynamically', 'RB'), ('typed', 'JJ'), ('and', 'CC'), ('garbage-collected', 'JJ'), ('.', '.'), ('It', 'PRP'), ('supports', 'VBZ'), ('multiple', 'JJ'), ('programming', 'NN'), ('paradigms', 'NN'), (',', ','), ('including', 'VBG'), ('procedural', 'JJ'), (',', ','), ('object-oriented', 'JJ'), (',', ','), ('and', 'CC'), ('functional', 'JJ'), ('programming', 'NN'), ('.', '.'), ('Python', 'NNP'), ('is', 'VBZ'), ('often', 'RB'), ('described', 'VBN'), ('as', 'IN'), ('a', 'DT'), (\"'batteries\", 'NNS'), ('included', 'VBD'), (\"'\", 'POS'), ('language', 'NN'), ('due', 'JJ'), ('to', 'TO'), ('its', 'PRP$'), ('comprehensive', 'JJ'), ('standard', 'NN'), ('library', 'NN'), ('.', '.'), ('[', 'CC'), ('28', 'CD'), (']', 'NN')]\n"
     ]
    }
   ],
   "source": [
    "from nltk.tokenize import *\n",
    "from nltk.tag import *\n",
    "\n",
    "text=\"Python is an interpreted, high-level, general-purpose programming language. Created by Guido van Rossum and first released in 1991, Python's design philosophy emphasizes code readability with its notable use of significant whitespace. Its language constructs and object-oriented approach aim to help programmers write clear, logical code for small and large-scale projects.[27] Python is dynamically typed and garbage-collected. It supports multiple programming paradigms, including procedural, object-oriented, and functional programming. Python is often described as a 'batteries included' language due to its comprehensive standard library.[28]\"\n",
    "print(sent_tokenize(text))\n",
    "print('='* 50)\n",
    "print(word_tokenize(text))\n",
    "print('='*50)\n",
    "print(pos_tag(word_tokenize(text)))"
   ]
  },
  {
   "cell_type": "code",
   "execution_count": 20,
   "metadata": {},
   "outputs": [
    {
     "name": "stdout",
     "output_type": "stream",
     "text": [
      "['오늘', '도', '지각', '하지', '않고', '열심히', '공부', '한', '여러분', ',', '이번', '주도', '힘냅시다']\n",
      "['오늘', '도', '지각', '하', '지', '않', '고', '열심히', '공부', '하', 'ㄴ', '여러분', ',', '이번', '주도', '힘내', 'ㅂ시다']\n",
      "==================================================\n",
      "[('오늘', 'Noun'), ('도', 'Josa'), ('지각', 'Noun'), ('하지', 'Verb'), ('않고', 'Verb'), ('열심히', 'Adverb'), ('공부', 'Noun'), ('한', 'Josa'), ('여러분', 'Noun'), (',', 'Punctuation'), ('이번', 'Noun'), ('주도', 'Noun'), ('힘냅시다', 'Verb')]\n",
      "==================================================\n",
      "['오늘', '지각', '공부', '여러분', '이번', '주도']\n"
     ]
    }
   ],
   "source": [
    "from konlpy.tag import Kkma\n",
    "kma=Kkma()\n",
    "print(okt.morphs(\"오늘도 지각하지 않고 열심히 공부한 여러분, 이번주도 힘냅시다\"))\n",
    "print(kma.morphs(\"오늘도 지각하지 않고 열심히 공부한 여러분, 이번주도 힘냅시다\"))\n",
    "print('='*50)\n",
    "print(okt.pos(\"오늘도 지각하지 않고 열심히 공부한 여러분, 이번주도 힘냅시다\"))\n",
    "print('='*50)\n",
    "\n",
    "print(okt.nouns(\"오늘도 지각하지 않고 열심히 공부한 여러분, 이번주도 힘냅시다\"))"
   ]
  },
  {
   "cell_type": "code",
   "execution_count": 21,
   "metadata": {},
   "outputs": [],
   "source": [
    "from nltk.stem import WordNetLemmatizer"
   ]
  },
  {
   "cell_type": "code",
   "execution_count": 22,
   "metadata": {},
   "outputs": [],
   "source": [
    "wnl=WordNetLemmatizer()"
   ]
  },
  {
   "cell_type": "code",
   "execution_count": 23,
   "metadata": {},
   "outputs": [
    {
     "name": "stdout",
     "output_type": "stream",
     "text": [
      "have\n"
     ]
    }
   ],
   "source": [
    "print(wnl.lemmatize(\"has\", \"v\"))"
   ]
  },
  {
   "cell_type": "code",
   "execution_count": 24,
   "metadata": {},
   "outputs": [],
   "source": [
    "#포터 알고리즘(어간 추출)\n",
    "from nltk.stem import PorterStemmer"
   ]
  },
  {
   "cell_type": "code",
   "execution_count": 25,
   "metadata": {},
   "outputs": [],
   "source": [
    "ps=PorterStemmer()"
   ]
  },
  {
   "cell_type": "code",
   "execution_count": 26,
   "metadata": {},
   "outputs": [],
   "source": [
    "words=word_tokenize(text)"
   ]
  },
  {
   "cell_type": "code",
   "execution_count": 28,
   "metadata": {},
   "outputs": [
    {
     "name": "stdout",
     "output_type": "stream",
     "text": [
      "['Python', 'is', 'an', 'interpreted', ',', 'high-level', ',', 'general-purpose', 'programming', 'language', '.', 'Created', 'by', 'Guido', 'van', 'Rossum', 'and', 'first', 'released', 'in', '1991', ',', 'Python', \"'s\", 'design', 'philosophy', 'emphasizes', 'code', 'readability', 'with', 'its', 'notable', 'use', 'of', 'significant', 'whitespace', '.', 'Its', 'language', 'constructs', 'and', 'object-oriented', 'approach', 'aim', 'to', 'help', 'programmers', 'write', 'clear', ',', 'logical', 'code', 'for', 'small', 'and', 'large-scale', 'projects', '.', '[', '27', ']', 'Python', 'is', 'dynamically', 'typed', 'and', 'garbage-collected', '.', 'It', 'supports', 'multiple', 'programming', 'paradigms', ',', 'including', 'procedural', ',', 'object-oriented', ',', 'and', 'functional', 'programming', '.', 'Python', 'is', 'often', 'described', 'as', 'a', \"'batteries\", 'included', \"'\", 'language', 'due', 'to', 'its', 'comprehensive', 'standard', 'library', '.', '[', '28', ']']\n",
      "--------------------------------------------------\n",
      "['python', 'is', 'an', 'interpret', ',', 'high-level', ',', 'general-purpos', 'program', 'languag', '.', 'creat', 'by', 'guido', 'van', 'rossum', 'and', 'first', 'releas', 'in', '1991', ',', 'python', \"'s\", 'design', 'philosophi', 'emphas', 'code', 'readabl', 'with', 'it', 'notabl', 'use', 'of', 'signific', 'whitespac', '.', 'it', 'languag', 'construct', 'and', 'object-ori', 'approach', 'aim', 'to', 'help', 'programm', 'write', 'clear', ',', 'logic', 'code', 'for', 'small', 'and', 'large-scal', 'project', '.', '[', '27', ']', 'python', 'is', 'dynam', 'type', 'and', 'garbage-collect', '.', 'It', 'support', 'multipl', 'program', 'paradigm', ',', 'includ', 'procedur', ',', 'object-ori', ',', 'and', 'function', 'program', '.', 'python', 'is', 'often', 'describ', 'as', 'a', \"'batteri\", 'includ', \"'\", 'languag', 'due', 'to', 'it', 'comprehens', 'standard', 'librari', '.', '[', '28', ']']\n"
     ]
    }
   ],
   "source": [
    "print(words)\n",
    "print(\"-\"*50)\n",
    "ps_words=[ps.stem(w) for w in words]\n",
    "print(ps_words)"
   ]
  },
  {
   "cell_type": "code",
   "execution_count": 33,
   "metadata": {},
   "outputs": [],
   "source": [
    "from nltk.corpus import stopwords\n",
    "sw=stopwords.words('english')"
   ]
  },
  {
   "cell_type": "code",
   "execution_count": 32,
   "metadata": {},
   "outputs": [],
   "source": [
    "test=\"i need you to help me. i like coding. what's your hobby\""
   ]
  },
  {
   "cell_type": "code",
   "execution_count": 34,
   "metadata": {},
   "outputs": [
    {
     "name": "stdout",
     "output_type": "stream",
     "text": [
      "['need', 'help', '.', 'like', 'coding', '.', \"'s\", 'hobby']\n"
     ]
    }
   ],
   "source": [
    "test=word_tokenize(test)\n",
    "res=[]\n",
    "for w in test:\n",
    "    if w not in sw:\n",
    "        res.append(w)\n",
    "print(res)"
   ]
  },
  {
   "cell_type": "code",
   "execution_count": 37,
   "metadata": {},
   "outputs": [
    {
     "data": {
      "text/html": [
       "<div style=\"width:100%;\"><div style=\"position:relative;width:100%;height:0;padding-bottom:60%;\"><iframe src=\"data:text/html;charset=utf-8;base64,PCFET0NUWVBFIGh0bWw+CjxoZWFkPiAgICAKICAgIDxtZXRhIGh0dHAtZXF1aXY9ImNvbnRlbnQtdHlwZSIgY29udGVudD0idGV4dC9odG1sOyBjaGFyc2V0PVVURi04IiAvPgogICAgCiAgICAgICAgPHNjcmlwdD4KICAgICAgICAgICAgTF9OT19UT1VDSCA9IGZhbHNlOwogICAgICAgICAgICBMX0RJU0FCTEVfM0QgPSBmYWxzZTsKICAgICAgICA8L3NjcmlwdD4KICAgIAogICAgPHNjcmlwdCBzcmM9Imh0dHBzOi8vY2RuLmpzZGVsaXZyLm5ldC9ucG0vbGVhZmxldEAxLjUuMS9kaXN0L2xlYWZsZXQuanMiPjwvc2NyaXB0PgogICAgPHNjcmlwdCBzcmM9Imh0dHBzOi8vY29kZS5qcXVlcnkuY29tL2pxdWVyeS0xLjEyLjQubWluLmpzIj48L3NjcmlwdD4KICAgIDxzY3JpcHQgc3JjPSJodHRwczovL21heGNkbi5ib290c3RyYXBjZG4uY29tL2Jvb3RzdHJhcC8zLjIuMC9qcy9ib290c3RyYXAubWluLmpzIj48L3NjcmlwdD4KICAgIDxzY3JpcHQgc3JjPSJodHRwczovL2NkbmpzLmNsb3VkZmxhcmUuY29tL2FqYXgvbGlicy9MZWFmbGV0LmF3ZXNvbWUtbWFya2Vycy8yLjAuMi9sZWFmbGV0LmF3ZXNvbWUtbWFya2Vycy5qcyI+PC9zY3JpcHQ+CiAgICA8bGluayByZWw9InN0eWxlc2hlZXQiIGhyZWY9Imh0dHBzOi8vY2RuLmpzZGVsaXZyLm5ldC9ucG0vbGVhZmxldEAxLjUuMS9kaXN0L2xlYWZsZXQuY3NzIi8+CiAgICA8bGluayByZWw9InN0eWxlc2hlZXQiIGhyZWY9Imh0dHBzOi8vbWF4Y2RuLmJvb3RzdHJhcGNkbi5jb20vYm9vdHN0cmFwLzMuMi4wL2Nzcy9ib290c3RyYXAubWluLmNzcyIvPgogICAgPGxpbmsgcmVsPSJzdHlsZXNoZWV0IiBocmVmPSJodHRwczovL21heGNkbi5ib290c3RyYXBjZG4uY29tL2Jvb3RzdHJhcC8zLjIuMC9jc3MvYm9vdHN0cmFwLXRoZW1lLm1pbi5jc3MiLz4KICAgIDxsaW5rIHJlbD0ic3R5bGVzaGVldCIgaHJlZj0iaHR0cHM6Ly9tYXhjZG4uYm9vdHN0cmFwY2RuLmNvbS9mb250LWF3ZXNvbWUvNC42LjMvY3NzL2ZvbnQtYXdlc29tZS5taW4uY3NzIi8+CiAgICA8bGluayByZWw9InN0eWxlc2hlZXQiIGhyZWY9Imh0dHBzOi8vY2RuanMuY2xvdWRmbGFyZS5jb20vYWpheC9saWJzL0xlYWZsZXQuYXdlc29tZS1tYXJrZXJzLzIuMC4yL2xlYWZsZXQuYXdlc29tZS1tYXJrZXJzLmNzcyIvPgogICAgPGxpbmsgcmVsPSJzdHlsZXNoZWV0IiBocmVmPSJodHRwczovL3Jhd2Nkbi5naXRoYWNrLmNvbS9weXRob24tdmlzdWFsaXphdGlvbi9mb2xpdW0vbWFzdGVyL2ZvbGl1bS90ZW1wbGF0ZXMvbGVhZmxldC5hd2Vzb21lLnJvdGF0ZS5jc3MiLz4KICAgIDxzdHlsZT5odG1sLCBib2R5IHt3aWR0aDogMTAwJTtoZWlnaHQ6IDEwMCU7bWFyZ2luOiAwO3BhZGRpbmc6IDA7fTwvc3R5bGU+CiAgICA8c3R5bGU+I21hcCB7cG9zaXRpb246YWJzb2x1dGU7dG9wOjA7Ym90dG9tOjA7cmlnaHQ6MDtsZWZ0OjA7fTwvc3R5bGU+CiAgICAKICAgICAgICAgICAgPG1ldGEgbmFtZT0idmlld3BvcnQiIGNvbnRlbnQ9IndpZHRoPWRldmljZS13aWR0aCwKICAgICAgICAgICAgICAgIGluaXRpYWwtc2NhbGU9MS4wLCBtYXhpbXVtLXNjYWxlPTEuMCwgdXNlci1zY2FsYWJsZT1ubyIgLz4KICAgICAgICAgICAgPHN0eWxlPgogICAgICAgICAgICAgICAgI21hcF81Njk0NTE5YWMwYmU0NzFjYjY5YmE1YzliYjE4YmMxYiB7CiAgICAgICAgICAgICAgICAgICAgcG9zaXRpb246IHJlbGF0aXZlOwogICAgICAgICAgICAgICAgICAgIHdpZHRoOiAxMDAuMCU7CiAgICAgICAgICAgICAgICAgICAgaGVpZ2h0OiAxMDAuMCU7CiAgICAgICAgICAgICAgICAgICAgbGVmdDogMC4wJTsKICAgICAgICAgICAgICAgICAgICB0b3A6IDAuMCU7CiAgICAgICAgICAgICAgICB9CiAgICAgICAgICAgIDwvc3R5bGU+CiAgICAgICAgCjwvaGVhZD4KPGJvZHk+ICAgIAogICAgCiAgICAgICAgICAgIDxkaXYgY2xhc3M9ImZvbGl1bS1tYXAiIGlkPSJtYXBfNTY5NDUxOWFjMGJlNDcxY2I2OWJhNWM5YmIxOGJjMWIiID48L2Rpdj4KICAgICAgICAKPC9ib2R5Pgo8c2NyaXB0PiAgICAKICAgIAogICAgICAgICAgICB2YXIgbWFwXzU2OTQ1MTlhYzBiZTQ3MWNiNjliYTVjOWJiMThiYzFiID0gTC5tYXAoCiAgICAgICAgICAgICAgICAibWFwXzU2OTQ1MTlhYzBiZTQ3MWNiNjliYTVjOWJiMThiYzFiIiwKICAgICAgICAgICAgICAgIHsKICAgICAgICAgICAgICAgICAgICBjZW50ZXI6IFszNi4xMjMsIDEyNy4xMjNdLAogICAgICAgICAgICAgICAgICAgIGNyczogTC5DUlMuRVBTRzM4NTcsCiAgICAgICAgICAgICAgICAgICAgem9vbTogMTMsCiAgICAgICAgICAgICAgICAgICAgem9vbUNvbnRyb2w6IHRydWUsCiAgICAgICAgICAgICAgICAgICAgcHJlZmVyQ2FudmFzOiBmYWxzZSwKICAgICAgICAgICAgICAgIH0KICAgICAgICAgICAgKTsKCiAgICAgICAgICAgIAoKICAgICAgICAKICAgIAogICAgICAgICAgICB2YXIgdGlsZV9sYXllcl81OWY0MDUzYjA3YTA0NzkwYTY1OTllOWNjM2VjNWVkNiA9IEwudGlsZUxheWVyKAogICAgICAgICAgICAgICAgImh0dHBzOi8vc3RhbWVuLXRpbGVzLXtzfS5hLnNzbC5mYXN0bHkubmV0L3RlcnJhaW4ve3p9L3t4fS97eX0uanBnIiwKICAgICAgICAgICAgICAgIHsiYXR0cmlidXRpb24iOiAiTWFwIHRpbGVzIGJ5IFx1MDAzY2EgaHJlZj1cImh0dHA6Ly9zdGFtZW4uY29tXCJcdTAwM2VTdGFtZW4gRGVzaWduXHUwMDNjL2FcdTAwM2UsIHVuZGVyIFx1MDAzY2EgaHJlZj1cImh0dHA6Ly9jcmVhdGl2ZWNvbW1vbnMub3JnL2xpY2Vuc2VzL2J5LzMuMFwiXHUwMDNlQ0MgQlkgMy4wXHUwMDNjL2FcdTAwM2UuIERhdGEgYnkgXHUwMDI2Y29weTsgXHUwMDNjYSBocmVmPVwiaHR0cDovL29wZW5zdHJlZXRtYXAub3JnXCJcdTAwM2VPcGVuU3RyZWV0TWFwXHUwMDNjL2FcdTAwM2UsIHVuZGVyIFx1MDAzY2EgaHJlZj1cImh0dHA6Ly9jcmVhdGl2ZWNvbW1vbnMub3JnL2xpY2Vuc2VzL2J5LXNhLzMuMFwiXHUwMDNlQ0MgQlkgU0FcdTAwM2MvYVx1MDAzZS4iLCAiZGV0ZWN0UmV0aW5hIjogZmFsc2UsICJtYXhOYXRpdmVab29tIjogMTgsICJtYXhab29tIjogMTgsICJtaW5ab29tIjogMCwgIm5vV3JhcCI6IGZhbHNlLCAib3BhY2l0eSI6IDEsICJzdWJkb21haW5zIjogImFiYyIsICJ0bXMiOiBmYWxzZX0KICAgICAgICAgICAgKS5hZGRUbyhtYXBfNTY5NDUxOWFjMGJlNDcxY2I2OWJhNWM5YmIxOGJjMWIpOwogICAgICAgIAogICAgCiAgICAgICAgICAgIHZhciBtYXJrZXJfYjgzZjIwOTBhNzFhNDZhOTlmZWJiZGFmMzQ2OTUyMWQgPSBMLm1hcmtlcigKICAgICAgICAgICAgICAgIFszNi4xMjMsIDEyNy4xMjNdLAogICAgICAgICAgICAgICAge30KICAgICAgICAgICAgKS5hZGRUbyhtYXBfNTY5NDUxOWFjMGJlNDcxY2I2OWJhNWM5YmIxOGJjMWIpOwogICAgICAgIAogICAgCiAgICAgICAgdmFyIHBvcHVwX2NmZWI4MDYzZWI5MjQwMzg4ZDE0ZGY5ODliY2U3MTAzID0gTC5wb3B1cCh7Im1heFdpZHRoIjogIjEwMCUifSk7CgogICAgICAgIAogICAgICAgICAgICB2YXIgaHRtbF9lMTM3ZGQwYTMwOWI0OTA0OTM1MWE5MjNlYzg5NDUxYiA9ICQoYDxkaXYgaWQ9Imh0bWxfZTEzN2RkMGEzMDliNDkwNDkzNTFhOTIzZWM4OTQ1MWIiIHN0eWxlPSJ3aWR0aDogMTAwLjAlOyBoZWlnaHQ6IDEwMC4wJTsiPuyasOumrOynkTwvZGl2PmApWzBdOwogICAgICAgICAgICBwb3B1cF9jZmViODA2M2ViOTI0MDM4OGQxNGRmOTg5YmNlNzEwMy5zZXRDb250ZW50KGh0bWxfZTEzN2RkMGEzMDliNDkwNDkzNTFhOTIzZWM4OTQ1MWIpOwogICAgICAgIAoKICAgICAgICBtYXJrZXJfYjgzZjIwOTBhNzFhNDZhOTlmZWJiZGFmMzQ2OTUyMWQuYmluZFBvcHVwKHBvcHVwX2NmZWI4MDYzZWI5MjQwMzg4ZDE0ZGY5ODliY2U3MTAzKQogICAgICAgIDsKCiAgICAgICAgCiAgICAKPC9zY3JpcHQ+\" style=\"position:absolute;width:100%;height:100%;left:0;top:0;border:none !important;\" allowfullscreen webkitallowfullscreen mozallowfullscreen></iframe></div></div>"
      ],
      "text/plain": [
       "<folium.folium.Map at 0x2ad64f6ba90>"
      ]
     },
     "execution_count": 37,
     "metadata": {},
     "output_type": "execute_result"
    }
   ],
   "source": [
    "import folium\n",
    "myMap=folium.Map(location=[36.123, 127.123], zoom_start=13,tiles='Stamen Terrain')\n",
    "folium.Marker([36.123, 127.123], popup=\"우리집\").add_to(myMap)\n",
    "myMap"
   ]
  },
  {
   "cell_type": "code",
   "execution_count": null,
   "metadata": {},
   "outputs": [],
   "source": []
  }
 ],
 "metadata": {
  "kernelspec": {
   "display_name": "Python 3",
   "language": "python",
   "name": "python3"
  },
  "language_info": {
   "codemirror_mode": {
    "name": "ipython",
    "version": 3
   },
   "file_extension": ".py",
   "mimetype": "text/x-python",
   "name": "python",
   "nbconvert_exporter": "python",
   "pygments_lexer": "ipython3",
   "version": "3.7.3"
  }
 },
 "nbformat": 4,
 "nbformat_minor": 2
}

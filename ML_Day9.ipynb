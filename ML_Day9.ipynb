{
 "cells": [
  {
   "cell_type": "code",
   "execution_count": 1,
   "metadata": {},
   "outputs": [],
   "source": [
    "import numpy as np\n",
    "import pandas as pd\n",
    "#레벤슈타인 알고리즘\n",
    "def calc_distance(a, b):\n",
    "    #같으면 0\n",
    "    if a == b:\n",
    "        return 0\n",
    "    #문자열 길이\n",
    "    a_len = len(a)\n",
    "    b_len = len(b)\n",
    "    \n",
    "    if a == \"\":\n",
    "        return b_len\n",
    "    if b == \"\":\n",
    "        return a_len\n",
    "    # matrix를 하나씩 크게 설정 및 초기화\n",
    "    matrix = [[] for i in range(a_len+1)]\n",
    "    for i in range(a_len+1):\n",
    "        matrix[i] = [0 for k in range(b_len+1)]\n",
    "    for i in range(a_len+1):\n",
    "        matrix[i][0] = i\n",
    "    for k in range(b_len+1):\n",
    "        matrix[0][k] = k\n",
    "       \n",
    "    for i in range(1, a_len+1):  \n",
    "        #코스트를 0으로 초기화\n",
    "        cost=0\n",
    "        aw=a[i-1]\n",
    "        for k in range(1, b_len+1):\n",
    "            #문자열을 검색해서 같으면 cost가 0, 다르면 1로 설정\n",
    "            bw=b[k-1]\n",
    "            if aw==bw:\n",
    "                cost = 0\n",
    "            else:\n",
    "                cost = 1\n",
    "\n",
    "            matrix[i][k] = min([\n",
    "                matrix[i-1][k]+1,#삽입\n",
    "                matrix[i][k-1]+1,#제거\n",
    "                matrix[i-1][k-1]+cost,#변경\n",
    "                \n",
    "            ])\n",
    "            print(matrix[i],\" || \" ,matrix[i][k])\n",
    "\n",
    "    return matrix[a_len][b_len]#값 리턴\n"
   ]
  },
  {
   "cell_type": "code",
   "execution_count": null,
   "metadata": {},
   "outputs": [],
   "source": []
  },
  {
   "cell_type": "code",
   "execution_count": 2,
   "metadata": {},
   "outputs": [],
   "source": [
    "class MulLayer:\n",
    "    def __init__(self):\n",
    "        self.x=None\n",
    "        self.y=None\n",
    "        \n",
    "    def forward(self,x,y):\n",
    "        self.x=x\n",
    "        self.y=y\n",
    "        out=x*y\n",
    "        return out\n",
    "    \n",
    "    def backward(self,dout):   \n",
    "        dx=dout*self.y\n",
    "        dy=dout*self.x\n",
    "        return dx,dy     "
   ]
  },
  {
   "cell_type": "code",
   "execution_count": 3,
   "metadata": {},
   "outputs": [],
   "source": [
    "mal=MulLayer()\n",
    "mtl=MulLayer()"
   ]
  },
  {
   "cell_type": "code",
   "execution_count": 4,
   "metadata": {},
   "outputs": [
    {
     "name": "stdout",
     "output_type": "stream",
     "text": [
      "price: 220\n"
     ]
    }
   ],
   "source": [
    "apple=100\n",
    "apple_num=2\n",
    "tax=1.1\n",
    "apple_price=mal.forward(apple,apple_num)\n",
    "price=mtl.forward(apple_price, tax)\n",
    "print(\"price:\", int(price))"
   ]
  },
  {
   "cell_type": "code",
   "execution_count": 21,
   "metadata": {},
   "outputs": [
    {
     "name": "stdout",
     "output_type": "stream",
     "text": [
      "1.1 200\n",
      "110.00000000000001 2.2 200\n"
     ]
    }
   ],
   "source": [
    "dprice=1\n",
    "dapple_price, dtax=mtl.backward(dprice)\n",
    "print(dapple_price, dtax)\n",
    "dapple_num,dapple, =mal.backward(dapple_price)\n",
    "print(dapple, dapple_num, dtax)"
   ]
  },
  {
   "cell_type": "code",
   "execution_count": null,
   "metadata": {},
   "outputs": [],
   "source": []
  },
  {
   "cell_type": "code",
   "execution_count": 6,
   "metadata": {},
   "outputs": [],
   "source": [
    "#상수형(Constant)\n",
    "import tensorflow as tf"
   ]
  },
  {
   "cell_type": "code",
   "execution_count": 7,
   "metadata": {},
   "outputs": [
    {
     "name": "stdout",
     "output_type": "stream",
     "text": [
      "[52.]\n"
     ]
    }
   ],
   "source": [
    "a=tf.constant([5], dtype=tf.float32)\n",
    "b=tf.constant([10], dtype=tf.float32)\n",
    "c=tf.constant([2], dtype=tf.float32)\n",
    "d=a*b+c\n",
    "\n",
    "sess=tf.Session()\n",
    "#sess.run(a)\n",
    "print(sess.run(d))"
   ]
  },
  {
   "cell_type": "code",
   "execution_count": 8,
   "metadata": {},
   "outputs": [],
   "source": [
    "#세션을 생성해서 그래프 실행\n",
    "#세션:그래프를 실행시켜주는 runner"
   ]
  },
  {
   "cell_type": "code",
   "execution_count": 9,
   "metadata": {},
   "outputs": [
    {
     "name": "stdout",
     "output_type": "stream",
     "text": [
      "[2. 4. 6. 8.]\n"
     ]
    }
   ],
   "source": [
    "#플레이스홀더:\n",
    "data=[1,2,3,4]\n",
    "x=tf.placeholder(dtype=tf.float32)\n",
    "y=x*2\n",
    "print(sess.run(y, feed_dict={x:data}))\n",
    "#피딩(feeding):학습용 데이터를 딕셔너리 형태로 전달하는 행위(그래프를 실행하는 시점)\n"
   ]
  },
  {
   "cell_type": "code",
   "execution_count": 10,
   "metadata": {},
   "outputs": [],
   "source": [
    "#변수(Variable):훈련(트레이닝, 모델링)과정에서 \n",
    "#변화하는 기울기, 절편 등\n",
    "#hf=wx+b\n",
    "#hf=0.5x+2"
   ]
  },
  {
   "cell_type": "code",
   "execution_count": 11,
   "metadata": {},
   "outputs": [
    {
     "data": {
      "text/plain": [
       "array([2., 4., 6.], dtype=float32)"
      ]
     },
     "execution_count": 11,
     "metadata": {},
     "output_type": "execute_result"
    }
   ],
   "source": [
    "inputData=[1,2,3]\n",
    "x=tf.placeholder(dtype=tf.float32)\n",
    "w=tf.Variable([2], dtype=tf.float32)\n",
    "yhat=w*x\n",
    "sess=tf.Session()\n",
    "init=tf.global_variables_initializer()\n",
    "sess.run(init)\n",
    "\n",
    "sess.run(yhat, feed_dict={x:inputData})\n"
   ]
  },
  {
   "cell_type": "code",
   "execution_count": 12,
   "metadata": {},
   "outputs": [
    {
     "name": "stdout",
     "output_type": "stream",
     "text": [
      "12\n"
     ]
    }
   ],
   "source": [
    "#tf.matmul( , ) 활용\n",
    "x=tf.constant([[1,2,3]])\n",
    "w=tf.constant([[2],[2],[2]])\n",
    "y=tf.matmul(x,w)\n",
    "print(sess.run(y)[0][0])"
   ]
  },
  {
   "cell_type": "code",
   "execution_count": 13,
   "metadata": {},
   "outputs": [
    {
     "data": {
      "text/plain": [
       "array([[12]])"
      ]
     },
     "execution_count": 13,
     "metadata": {},
     "output_type": "execute_result"
    }
   ],
   "source": [
    "x=tf.Variable([[1,2,3]])\n",
    "w=tf.constant([[2],[2],[2]])\n",
    "y=tf.matmul(x,w)\n",
    "init=tf.global_variables_initializer()\n",
    "sess.run(init)\n",
    "sess.run(y)"
   ]
  },
  {
   "cell_type": "code",
   "execution_count": null,
   "metadata": {},
   "outputs": [],
   "source": []
  },
  {
   "cell_type": "code",
   "execution_count": 14,
   "metadata": {},
   "outputs": [
    {
     "data": {
      "text/plain": [
       "array([[1],\n",
       "       [2],\n",
       "       [3]])"
      ]
     },
     "execution_count": 14,
     "metadata": {},
     "output_type": "execute_result"
    }
   ],
   "source": [
    "#tf.matmul( , ) 활용\n",
    "import numpy as np\n",
    "x=tf.constant([[1,2,3]])\n",
    "#w=tf.constant([[2],[2],[2]])\n",
    "#x=tf.constant(np.array([1,2]))\n",
    "sess.run(tf.transpose(x))\n",
    "#sess.run(x)"
   ]
  },
  {
   "cell_type": "code",
   "execution_count": 15,
   "metadata": {},
   "outputs": [],
   "source": [
    "#None:아직 결정되지 않은 상태"
   ]
  },
  {
   "cell_type": "code",
   "execution_count": 16,
   "metadata": {},
   "outputs": [
    {
     "data": {
      "text/plain": [
       "array([[12.],\n",
       "       [12.],\n",
       "       [18.]], dtype=float32)"
      ]
     },
     "execution_count": 16,
     "metadata": {},
     "output_type": "execute_result"
    }
   ],
   "source": [
    "#x=tf.Variable([[1,2,3],[1,2,3],[2,3,4]])\n",
    "indata=[[1,2,3],[1,2,3],[2,3,4]]\n",
    "x=tf.placeholder(dtype=tf.float32, shape=[None,3])\n",
    "w=tf.constant([[2],[2],[2]], dtype=tf.float32)\n",
    "y=tf.matmul(x,w)#3*3 . 3*1  => 3*1\n",
    "init=tf.global_variables_initializer()\n",
    "sess.run(init)\n",
    "sess.run(y, feed_dict={x:indata}) #3행3열"
   ]
  },
  {
   "cell_type": "code",
   "execution_count": 17,
   "metadata": {},
   "outputs": [
    {
     "data": {
      "text/plain": [
       "array([[10.],\n",
       "       [16.]], dtype=float32)"
      ]
     },
     "execution_count": 17,
     "metadata": {},
     "output_type": "execute_result"
    }
   ],
   "source": [
    "data=[[1,1,1],[2,2,2]]\n",
    "x=tf.placeholder(dtype=tf.float32, shape=[None,3])\n",
    "w=tf.Variable([[2],[2],[2]],dtype=tf.float32)\n",
    "b=tf.Variable([4], dtype=tf.float32)\n",
    "y=tf.matmul(x,w)+b #2*3 3*1 => 2*1\n",
    "# 1 1 1   2\n",
    "# 2 2 2   2    => 6+4  10\n",
    "#         2    => 12+4 16\n",
    "sess=tf.Session()\n",
    "sess.run(tf.global_variables_initializer())\n",
    "sess.run(y, feed_dict={x:data})"
   ]
  },
  {
   "cell_type": "code",
   "execution_count": null,
   "metadata": {},
   "outputs": [],
   "source": []
  },
  {
   "cell_type": "code",
   "execution_count": null,
   "metadata": {},
   "outputs": [],
   "source": []
  },
  {
   "cell_type": "code",
   "execution_count": 18,
   "metadata": {},
   "outputs": [],
   "source": [
    "#1\n",
    "apple=100\n",
    "appleNum=2\n",
    "orange=150\n",
    "orangeNum=3\n",
    "tax=1.1\n",
    "#forward/backward\n",
    "\n",
    "#*price출력:(100*2+150*3)*1.1\n",
    "#dApple\n",
    "#dappleNum\n",
    "#dorange\n",
    "#dorangeNum\n",
    "#dtax\n",
    "\n",
    "#2.구구단의 특정 단을 출력하는 함수 작성(placeholder사용)"
   ]
  },
  {
   "cell_type": "code",
   "execution_count": 19,
   "metadata": {},
   "outputs": [],
   "source": [
    "#2.구구단의 특정 단을 출력하는 함수 작성(placeholder사용)"
   ]
  },
  {
   "cell_type": "code",
   "execution_count": 20,
   "metadata": {},
   "outputs": [
    {
     "ename": "SyntaxError",
     "evalue": "can't assign to operator (<ipython-input-20-1f873fc27f9c>, line 2)",
     "output_type": "error",
     "traceback": [
      "\u001b[1;36m  File \u001b[1;32m\"<ipython-input-20-1f873fc27f9c>\"\u001b[1;36m, line \u001b[1;32m2\u001b[0m\n\u001b[1;33m    5*1=5\u001b[0m\n\u001b[1;37m    ^\u001b[0m\n\u001b[1;31mSyntaxError\u001b[0m\u001b[1;31m:\u001b[0m can't assign to operator\n"
     ]
    }
   ],
   "source": [
    "def googoo(dan):\n",
    "    5*1=5\n",
    "    5*9=45"
   ]
  },
  {
   "cell_type": "code",
   "execution_count": null,
   "metadata": {},
   "outputs": [],
   "source": []
  },
  {
   "cell_type": "code",
   "execution_count": null,
   "metadata": {},
   "outputs": [],
   "source": []
  },
  {
   "cell_type": "code",
   "execution_count": null,
   "metadata": {},
   "outputs": [],
   "source": []
  }
 ],
 "metadata": {
  "kernelspec": {
   "display_name": "Python 3",
   "language": "python",
   "name": "python3"
  },
  "language_info": {
   "codemirror_mode": {
    "name": "ipython",
    "version": 3
   },
   "file_extension": ".py",
   "mimetype": "text/x-python",
   "name": "python",
   "nbconvert_exporter": "python",
   "pygments_lexer": "ipython3",
   "version": "3.7.3"
  }
 },
 "nbformat": 4,
 "nbformat_minor": 2
}

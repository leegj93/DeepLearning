{
 "cells": [
  {
   "cell_type": "code",
   "execution_count": null,
   "metadata": {},
   "outputs": [],
   "source": [
    "import numpy as np\n",
    "import pandas as pd\n"
   ]
  },
  {
   "cell_type": "code",
   "execution_count": 118,
   "metadata": {},
   "outputs": [],
   "source": [
    "class MulLayer:\n",
    "    def __init__(self):\n",
    "        self.x=None\n",
    "        self.y=None\n",
    "        \n",
    "    def forward(self,x,y):\n",
    "        self.x=x\n",
    "        self.y=y\n",
    "        out= x* y\n",
    "        return out\n",
    "    def forward1(self,x,y):\n",
    "        self.x=x\n",
    "        self.y=y\n",
    "        out = x+ y\n",
    "        return out\n",
    "    def backward(self,dout):\n",
    "        dx=dout*self.y\n",
    "        dy=dout*self.x\n",
    "        return dx,dy\n",
    "        \n"
   ]
  },
  {
   "cell_type": "code",
   "execution_count": 17,
   "metadata": {},
   "outputs": [],
   "source": [
    "mal=MulLayer()\n",
    "mtl=MulLayer()"
   ]
  },
  {
   "cell_type": "code",
   "execution_count": 102,
   "metadata": {},
   "outputs": [
    {
     "name": "stdout",
     "output_type": "stream",
     "text": [
      "price:  220\n"
     ]
    }
   ],
   "source": [
    "apple=100\n",
    "apple_num=2\n",
    "tax=1.1\n",
    "apple_price=mal.forward(apple,apple_num)\n",
    "price=mtl.forward(apple_price,tax)\n",
    "print(\"price: \" , int(price))"
   ]
  },
  {
   "cell_type": "code",
   "execution_count": 129,
   "metadata": {},
   "outputs": [
    {
     "name": "stdout",
     "output_type": "stream",
     "text": [
      "650 1.1\n",
      "1950 97500 1.1\n"
     ]
    }
   ],
   "source": [
    "dprice=1\n",
    "dtax,dapple_price =mtl.backward(dprice)\n",
    "print(dapple_price, dtax)\n",
    "dapple, dapple_num=mal.backward(dapple_price)\n",
    "print(dapple,dapple_num,dtax)"
   ]
  },
  {
   "cell_type": "code",
   "execution_count": null,
   "metadata": {},
   "outputs": [],
   "source": []
  },
  {
   "cell_type": "code",
   "execution_count": null,
   "metadata": {},
   "outputs": [],
   "source": []
  },
  {
   "cell_type": "code",
   "execution_count": null,
   "metadata": {},
   "outputs": [],
   "source": []
  },
  {
   "cell_type": "code",
   "execution_count": null,
   "metadata": {},
   "outputs": [],
   "source": []
  },
  {
   "cell_type": "markdown",
   "metadata": {},
   "source": [
    "상수형(Constant)\n"
   ]
  },
  {
   "cell_type": "code",
   "execution_count": 29,
   "metadata": {},
   "outputs": [],
   "source": [
    "import tensorflow as tf"
   ]
  },
  {
   "cell_type": "code",
   "execution_count": 37,
   "metadata": {},
   "outputs": [
    {
     "data": {
      "text/plain": [
       "<tf.Tensor 'add_1:0' shape=(1,) dtype=float32>"
      ]
     },
     "execution_count": 37,
     "metadata": {},
     "output_type": "execute_result"
    }
   ],
   "source": [
    "a=tf.constant([5],dtype=tf.float32)#상수를 저장하기 위한 데이터 타입\n",
    "b=tf.constant([10], dtype=tf.float32)#상수를 저장하기 위한 데이터 타입\n",
    "c=tf.constant([2], dtype=tf.float32)#상수를 저장하기 위한 데이터 타입\n",
    "d=a*b+2\n",
    "d"
   ]
  },
  {
   "cell_type": "code",
   "execution_count": 39,
   "metadata": {},
   "outputs": [
    {
     "data": {
      "text/plain": [
       "array([5])"
      ]
     },
     "execution_count": 39,
     "metadata": {},
     "output_type": "execute_result"
    }
   ],
   "source": [
    "sess=tf.Session()\n",
    "sess.run(a)"
   ]
  },
  {
   "cell_type": "code",
   "execution_count": 40,
   "metadata": {},
   "outputs": [
    {
     "data": {
      "text/plain": [
       "array([2., 4., 6., 8.], dtype=float32)"
      ]
     },
     "execution_count": 40,
     "metadata": {},
     "output_type": "execute_result"
    }
   ],
   "source": [
    "#플레이스 홀더\n",
    "x=tf.placeholder(dtype=tf.float32)\n",
    "y=x*2\n",
    "sess.run(y,feed_dict={x:[1,2,3,4]})\n",
    "#피딩(feeding): 학습용 데이터를 전달하는 행위\n"
   ]
  },
  {
   "cell_type": "code",
   "execution_count": 44,
   "metadata": {},
   "outputs": [
    {
     "data": {
      "text/plain": [
       "array([2., 4., 6.], dtype=float32)"
      ]
     },
     "execution_count": 44,
     "metadata": {},
     "output_type": "execute_result"
    }
   ],
   "source": [
    "#변수(Variable):훈련 과정에서 변화하는 기울기, 절편 값을 변수라고 함\n",
    "# hf=wx+b\n",
    "inputData=[1,2,3]\n",
    "x= tf.placeholder(dtype=tf.float32)\n",
    "w=tf.Variable([2],dtype=tf.float32)\n",
    "yhat=w*x\n",
    "sess=tf.Session()\n",
    "sess.run(tf.global_variables_initializer())\n",
    "sess.run(yhat, feed_dict={x:inputData})"
   ]
  },
  {
   "cell_type": "code",
   "execution_count": null,
   "metadata": {},
   "outputs": [],
   "source": [
    "#tf.matmul(x ,y) 행렬의 곱"
   ]
  },
  {
   "cell_type": "code",
   "execution_count": 57,
   "metadata": {},
   "outputs": [
    {
     "data": {
      "text/plain": [
       "array([[15],\n",
       "       [15],\n",
       "       [22]])"
      ]
     },
     "execution_count": 57,
     "metadata": {},
     "output_type": "execute_result"
    }
   ],
   "source": [
    "inputData=np.array([[1,2,3],[1,2,3],[2,3,4]])\n",
    "inputData2=np.array([2,2,3])\n",
    "inputData2=inputData2.reshape(3,1)\n",
    "x=tf.constant(inputData)\n",
    "w=tf.constant(inputData2)\n",
    "sess.run(tf.global_variables_initializer())\n",
    "\n",
    "# print(inputData2)\n",
    "y=tf.matmul(x,w)\n",
    "sess.run(y)"
   ]
  },
  {
   "cell_type": "code",
   "execution_count": 66,
   "metadata": {},
   "outputs": [
    {
     "data": {
      "text/plain": [
       "array([[15.],\n",
       "       [15.],\n",
       "       [22.]], dtype=float32)"
      ]
     },
     "execution_count": 66,
     "metadata": {},
     "output_type": "execute_result"
    }
   ],
   "source": [
    "indata=[[1,2,3],[1,2,3],[2,3,4]]\n",
    "\n",
    "x= tf.placeholder(dtype=tf.float32,shape=[None, 3])# data는 없으나 3행 3열의 행렬을 생성\n",
    "w=tf.constant([[2],[2],[3]],dtype=tf.float32)\n",
    "y=tf.matmul(x,w)\n",
    "sess=tf.Session()\n",
    "sess.run(tf.global_variables_initializer())\n",
    "sess.run(y, feed_dict={x:indata})"
   ]
  },
  {
   "cell_type": "code",
   "execution_count": 65,
   "metadata": {},
   "outputs": [
    {
     "data": {
      "text/plain": [
       "array([[10.],\n",
       "       [16.]], dtype=float32)"
      ]
     },
     "execution_count": 65,
     "metadata": {},
     "output_type": "execute_result"
    }
   ],
   "source": [
    "data=[[1,1,1],[2,2,2]]\n",
    "x=tf.placeholder(dtype=tf.float32,shape=[None,3])\n",
    "w=tf.Variable([[2],[2],[2]],dtype=tf.float32)\n",
    "b=tf.Variable([4],dtype=tf.float32)\n",
    "y=tf.matmul(x,w)+b\n",
    "sess=tf.Session()\n",
    "sess.run(tf.global_variables_initializer())\n",
    "sess.run(y, feed_dict={x:data})"
   ]
  },
  {
   "cell_type": "code",
   "execution_count": 67,
   "metadata": {},
   "outputs": [],
   "source": [
    "apple= 100\n",
    "appleNum=2\n",
    "orange=150\n",
    "orangeNum=3\n",
    "tax=1.1"
   ]
  },
  {
   "cell_type": "code",
   "execution_count": 119,
   "metadata": {},
   "outputs": [],
   "source": [
    "malQ=MulLayer()\n",
    "molQ=MulLayer()\n",
    "molPQ=MulLayer()\n",
    "mtlQ=MulLayer()"
   ]
  },
  {
   "cell_type": "code",
   "execution_count": 124,
   "metadata": {},
   "outputs": [
    {
     "name": "stdout",
     "output_type": "stream",
     "text": [
      "715.0000000000001\n"
     ]
    }
   ],
   "source": [
    "applePrice=malQ.forward(apple,appleNum)\n",
    "orangePrice=molQ.forward(orange,orangeNum)\n",
    "price=molPQ.forward1(applePrice,orangePrice)\n",
    "price=mtlQ.forward(price,tax)\n",
    "print(price)"
   ]
  },
  {
   "cell_type": "code",
   "execution_count": 121,
   "metadata": {},
   "outputs": [],
   "source": [
    "# price=priceA+priceO"
   ]
  },
  {
   "cell_type": "code",
   "execution_count": 134,
   "metadata": {},
   "outputs": [
    {
     "name": "stdout",
     "output_type": "stream",
     "text": [
      "650 1.1\n",
      "220.00000000000003 495.00000000000006\n",
      "3.3000000000000003 165.0\n",
      "2.2 110.00000000000001\n"
     ]
    }
   ],
   "source": [
    "dprice=1\n",
    "dtax, dprice_all=mtlQ.backward(dprice)\n",
    "print(dprice_all,dtax)\n",
    "dorangePrice,dapplePrice, = molPQ.backward(dtax)\n",
    "print(dapplePrice,dorangePrice)\n",
    "dorangeNum, dorange = molQ.backward(dtax)\n",
    "print(dorangeNum, dorange)\n",
    "dappleNum, dapple = malQ.backward(dtax)\n",
    "print(dappleNum, dapple)"
   ]
  },
  {
   "cell_type": "code",
   "execution_count": null,
   "metadata": {},
   "outputs": [],
   "source": [
    "n = int(input())\n",
    "indata=[[n]*9]\n",
    "print(indata)\n",
    "indata2=np.array([[i]for i in range(1, 10)])\n",
    "\n",
    "print(indata2)\n",
    "\n",
    "\n",
    "# x= tf.placeholder(dtype=tf.float32,shape=[None, 9])# data는 없으나 3행 3열의 행렬을 생성\n",
    "# w=tf.constant(indata2,dtype=tf.float32)\n",
    "# y=tf.matmul(x,w)\n",
    "# sess=tf.Session()\n",
    "# sess.run(tf.global_variables_initializer())\n",
    "# sess.run(y, feed_dict={x:indata})"
   ]
  },
  {
   "cell_type": "code",
   "execution_count": null,
   "metadata": {},
   "outputs": [],
   "source": []
  }
 ],
 "metadata": {
  "kernelspec": {
   "display_name": "Python 3",
   "language": "python",
   "name": "python3"
  },
  "language_info": {
   "codemirror_mode": {
    "name": "ipython",
    "version": 3
   },
   "file_extension": ".py",
   "mimetype": "text/x-python",
   "name": "python",
   "nbconvert_exporter": "python",
   "pygments_lexer": "ipython3",
   "version": "3.7.3"
  }
 },
 "nbformat": 4,
 "nbformat_minor": 2
}

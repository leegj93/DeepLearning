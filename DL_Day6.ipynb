{
 "cells": [
  {
   "cell_type": "code",
   "execution_count": 20,
   "metadata": {},
   "outputs": [],
   "source": [
    "from konlpy.tag import Okt"
   ]
  },
  {
   "cell_type": "code",
   "execution_count": 26,
   "metadata": {},
   "outputs": [],
   "source": [
    "class BayesianFilter:     #붕어빵기계(클래스)\n",
    "    def __init__(self):   #self:자신(만들어질 객체,붕어빵)\n",
    "        self.words=set()  #붕어빵.길이=15센티, 단어 저장\n",
    "        self.word_dict={} #카테고리(광고/중요) 단어 빈도수\n",
    "        self.category_dict={}  \n",
    "    def split(self, text):#어미/조사/구두점 제외,형태소분석\n",
    "        result=[]\n",
    "        okt=Okt()\n",
    "        malist=okt.pos(text, norm=True, stem=True)\n",
    "        for word in malist: \n",
    "            [\"Josa\", \"Eomi\", \"Punctuation\"]\n",
    "            #print(word[1])        \n",
    "            #조사,어미,구두점을 제외한 나머지 단어만 \n",
    "            #result에 저장\n",
    "        \n",
    "    def fit(self,text,category):\n",
    "        self.split(text)        \n",
    "        "
   ]
  },
  {
   "cell_type": "code",
   "execution_count": 27,
   "metadata": {},
   "outputs": [
    {
     "name": "stdout",
     "output_type": "stream",
     "text": [
      "Noun\n",
      "Modifier\n",
      "Noun\n",
      "Punctuation\n",
      "Noun\n",
      "Josa\n",
      "Number\n",
      "Noun\n",
      "Noun\n",
      "Noun\n",
      "Noun\n",
      "Punctuation\n",
      "Noun\n",
      "Noun\n",
      "Noun\n",
      "Noun\n",
      "Modifier\n",
      "Noun\n",
      "Noun\n",
      "Noun\n",
      "Noun\n",
      "Adjective\n",
      "Noun\n",
      "Noun\n",
      "Josa\n",
      "Adjective\n"
     ]
    }
   ],
   "source": [
    "bs=BayesianFilter()   #붕어빵기계에서 붕어빵 1개 만들어라\n",
    "bs.fit(\"파격 세일 - 오늘까지만 50% 할인\", \"광고\")\n",
    "bs.fit(\"무료 쿠폰 선물 & 무료 배송\", \"광고\")\n",
    "bs.fit(\"아사히 맥주 세일\", \"광고\")\n",
    "bs.fit(\"회의 일정 확인 부탁드립니다\", \"중요\")\n",
    "bs.fit(\"오늘 일정이 없습니다\", \"중요\")\n",
    "#res, scorelist=bs.predict(\"재고 정리 할인,  배송\")\n",
    "#print(\"결과:\" res) #중요 or 광고\n",
    "#print(scorelist)#중요메일/광고메일 베이지안 필터기 각 확률"
   ]
  },
  {
   "cell_type": "code",
   "execution_count": null,
   "metadata": {},
   "outputs": [],
   "source": []
  },
  {
   "cell_type": "code",
   "execution_count": null,
   "metadata": {},
   "outputs": [],
   "source": []
  }
 ],
 "metadata": {
  "kernelspec": {
   "display_name": "Python 3",
   "language": "python",
   "name": "python3"
  },
  "language_info": {
   "codemirror_mode": {
    "name": "ipython",
    "version": 3
   },
   "file_extension": ".py",
   "mimetype": "text/x-python",
   "name": "python",
   "nbconvert_exporter": "python",
   "pygments_lexer": "ipython3",
   "version": "3.7.3"
  }
 },
 "nbformat": 4,
 "nbformat_minor": 2
}

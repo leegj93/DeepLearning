{
 "cells": [
  {
   "cell_type": "code",
   "execution_count": 1,
   "metadata": {},
   "outputs": [
    {
     "name": "stdout",
     "output_type": "stream",
     "text": [
      "['Setosa' 'Versicolor' 'Virginica']\n"
     ]
    },
    {
     "data": {
      "text/plain": [
       "<seaborn.axisgrid.PairGrid at 0x225fcb4cd30>"
      ]
     },
     "execution_count": 1,
     "metadata": {},
     "output_type": "execute_result"
    }
   ],
   "source": [
    "import pandas as pd\n",
    "data=pd.read_csv(\"iris.csv\")\n",
    "len(data)\n",
    "data[:5]\n",
    "print(data['Species'].unique())\n",
    "import seaborn as sns\n",
    "sns.pairplot(data, hue='Species')"
   ]
  },
  {
   "cell_type": "code",
   "execution_count": 2,
   "metadata": {},
   "outputs": [
    {
     "data": {
      "text/plain": [
       "<matplotlib.axes._subplots.AxesSubplot at 0x22581be1be0>"
      ]
     },
     "execution_count": 2,
     "metadata": {},
     "output_type": "execute_result"
    },
    {
     "data": {
      "image/png": "[encoded data removed]",
      "text/plain": [
       "<Figure size 432x288 with 1 Axes>"
      ]
     },
     "metadata": {
      "needs_background": "light"
     },
     "output_type": "display_data"
    }
   ],
   "source": [
    "sns.barplot(data['Species'], data['sepal.width'],ci=None)"
   ]
  },
  {
   "cell_type": "code",
   "execution_count": 3,
   "metadata": {},
   "outputs": [
    {
     "data": {
      "text/plain": [
       "<matplotlib.axes._subplots.AxesSubplot at 0x2258212d860>"
      ]
     },
     "execution_count": 3,
     "metadata": {},
     "output_type": "execute_result"
    },
    {
     "data": {
      "image/png": "[encoded data removed]",
      "text/plain": [
       "<Figure size 432x288 with 1 Axes>"
      ]
     },
     "metadata": {
      "needs_background": "light"
     },
     "output_type": "display_data"
    }
   ],
   "source": [
    "import matplotlib.pyplot as plt\n",
    "data['Species'].value_counts().plot(kind='bar')"
   ]
  },
  {
   "cell_type": "code",
   "execution_count": 4,
   "metadata": {},
   "outputs": [],
   "source": [
    "data['Species']=data['Species'].replace(['Setosa','Versicolor','Virginica'],[0,1,2])\n"
   ]
  },
  {
   "cell_type": "code",
   "execution_count": 5,
   "metadata": {},
   "outputs": [
    {
     "data": {
      "text/plain": [
       "<matplotlib.axes._subplots.AxesSubplot at 0x225821ab588>"
      ]
     },
     "execution_count": 5,
     "metadata": {},
     "output_type": "execute_result"
    },
    {
     "data": {
      "image/png": "[encoded data removed]",
      "text/plain": [
       "<Figure size 432x288 with 1 Axes>"
      ]
     },
     "metadata": {
      "needs_background": "light"
     },
     "output_type": "display_data"
    }
   ],
   "source": [
    "data['Species'].value_counts().plot(kind='bar')"
   ]
  },
  {
   "cell_type": "code",
   "execution_count": 6,
   "metadata": {},
   "outputs": [
    {
     "name": "stdout",
     "output_type": "stream",
     "text": [
      "[[5.1 3.5 1.4 0.2]\n",
      " [4.9 3.  1.4 0.2]\n",
      " [4.7 3.2 1.3 0.2]\n",
      " [4.6 3.1 1.5 0.2]\n",
      " [5.  3.6 1.4 0.2]]\n",
      "   sepal.length  sepal.width  petal.length  petal.width  Species\n",
      "0           5.1          3.5           1.4          0.2        0\n",
      "1           4.9          3.0           1.4          0.2        0\n",
      "2           4.7          3.2           1.3          0.2        0\n",
      "3           4.6          3.1           1.5          0.2        0\n",
      "4           5.0          3.6           1.4          0.2        0\n"
     ]
    }
   ],
   "source": [
    "#data.info()\n",
    "datax=data[['sepal.length', 'sepal.width','petal.length','petal.width']].values\n",
    "datay=data['Species'].values\n",
    "print(datax[:5])\n",
    "print(data[:5])\n",
    "\n",
    "#datay="
   ]
  },
  {
   "cell_type": "code",
   "execution_count": 7,
   "metadata": {},
   "outputs": [],
   "source": [
    "from sklearn.model_selection import train_test_split"
   ]
  },
  {
   "cell_type": "code",
   "execution_count": 8,
   "metadata": {},
   "outputs": [
    {
     "name": "stderr",
     "output_type": "stream",
     "text": [
      "C:\\Users\\Kyujin\\Anaconda3\\lib\\site-packages\\sklearn\\model_selection\\_split.py:2179: FutureWarning: From version 0.21, test_size will always complement train_size unless both are specified.\n",
      "  FutureWarning)\n"
     ]
    }
   ],
   "source": [
    "(xtrain,xtest, ytrain,ytest)=train_test_split(datax,datay, train_size=0.8, random_state=1)"
   ]
  },
  {
   "cell_type": "code",
   "execution_count": 9,
   "metadata": {},
   "outputs": [
    {
     "name": "stderr",
     "output_type": "stream",
     "text": [
      "Using TensorFlow backend.\n"
     ]
    }
   ],
   "source": [
    "from keras.utils import np_utils\n",
    "ytrain=np_utils.to_categorical(ytrain)\n",
    "ytest=np_utils.to_categorical(ytest)\n"
   ]
  },
  {
   "cell_type": "code",
   "execution_count": 10,
   "metadata": {},
   "outputs": [
    {
     "data": {
      "text/plain": [
       "array([[1., 0., 0.],\n",
       "       [0., 1., 0.],\n",
       "       [0., 1., 0.],\n",
       "       [1., 0., 0.],\n",
       "       [0., 0., 1.],\n",
       "       [0., 1., 0.],\n",
       "       [0., 0., 1.],\n",
       "       [1., 0., 0.],\n",
       "       [1., 0., 0.],\n",
       "       [0., 0., 1.],\n",
       "       [0., 1., 0.],\n",
       "       [1., 0., 0.],\n",
       "       [0., 0., 1.],\n",
       "       [0., 1., 0.],\n",
       "       [0., 1., 0.],\n",
       "       [1., 0., 0.],\n",
       "       [0., 1., 0.],\n",
       "       [0., 1., 0.],\n",
       "       [1., 0., 0.],\n",
       "       [1., 0., 0.],\n",
       "       [0., 1., 0.],\n",
       "       [0., 1., 0.],\n",
       "       [0., 1., 0.],\n",
       "       [1., 0., 0.],\n",
       "       [0., 0., 1.],\n",
       "       [0., 1., 0.],\n",
       "       [1., 0., 0.],\n",
       "       [1., 0., 0.],\n",
       "       [0., 1., 0.],\n",
       "       [0., 0., 1.]], dtype=float32)"
      ]
     },
     "execution_count": 10,
     "metadata": {},
     "output_type": "execute_result"
    }
   ],
   "source": [
    "ytrain\n",
    "ytest"
   ]
  },
  {
   "cell_type": "code",
   "execution_count": 11,
   "metadata": {},
   "outputs": [],
   "source": [
    "#소프트맥스 회귀\n",
    "from keras.models import Sequential\n",
    "from keras.layers import Dense\n",
    "from keras import optimizers"
   ]
  },
  {
   "cell_type": "code",
   "execution_count": 12,
   "metadata": {},
   "outputs": [
    {
     "name": "stderr",
     "output_type": "stream",
     "text": [
      "WARNING: Logging before flag parsing goes to stderr.\n",
      "W0814 10:18:21.053448   244 deprecation_wrapper.py:119] From C:\\Users\\Kyujin\\Anaconda3\\lib\\site-packages\\keras\\backend\\tensorflow_backend.py:74: The name tf.get_default_graph is deprecated. Please use tf.compat.v1.get_default_graph instead.\n",
      "\n",
      "W0814 10:18:21.098328   244 deprecation_wrapper.py:119] From C:\\Users\\Kyujin\\Anaconda3\\lib\\site-packages\\keras\\backend\\tensorflow_backend.py:517: The name tf.placeholder is deprecated. Please use tf.compat.v1.placeholder instead.\n",
      "\n",
      "W0814 10:18:21.110300   244 deprecation_wrapper.py:119] From C:\\Users\\Kyujin\\Anaconda3\\lib\\site-packages\\keras\\backend\\tensorflow_backend.py:4138: The name tf.random_uniform is deprecated. Please use tf.random.uniform instead.\n",
      "\n",
      "W0814 10:18:21.169143   244 deprecation_wrapper.py:119] From C:\\Users\\Kyujin\\Anaconda3\\lib\\site-packages\\keras\\optimizers.py:790: The name tf.train.Optimizer is deprecated. Please use tf.compat.v1.train.Optimizer instead.\n",
      "\n",
      "W0814 10:18:21.219004   244 deprecation_wrapper.py:119] From C:\\Users\\Kyujin\\Anaconda3\\lib\\site-packages\\keras\\backend\\tensorflow_backend.py:3295: The name tf.log is deprecated. Please use tf.math.log instead.\n",
      "\n",
      "W0814 10:18:21.400520   244 deprecation.py:323] From C:\\Users\\Kyujin\\Anaconda3\\lib\\site-packages\\tensorflow\\python\\ops\\math_grad.py:1250: add_dispatch_support.<locals>.wrapper (from tensorflow.python.ops.array_ops) is deprecated and will be removed in a future version.\n",
      "Instructions for updating:\n",
      "Use tf.where in 2.0, which has the same broadcast rule as np.where\n",
      "W0814 10:18:21.487290   244 deprecation_wrapper.py:119] From C:\\Users\\Kyujin\\Anaconda3\\lib\\site-packages\\keras\\backend\\tensorflow_backend.py:986: The name tf.assign_add is deprecated. Please use tf.compat.v1.assign_add instead.\n",
      "\n"
     ]
    },
    {
     "name": "stdout",
     "output_type": "stream",
     "text": [
      "Train on 120 samples, validate on 30 samples\n",
      "Epoch 1/200\n",
      "120/120 [==============================] - 0s 4ms/step - loss: 2.2278 - acc: 0.3667 - val_loss: 2.2478 - val_acc: 0.2000\n",
      "Epoch 2/200\n",
      "120/120 [==============================] - 0s 1ms/step - loss: 1.7288 - acc: 0.3333 - val_loss: 1.7766 - val_acc: 0.1667\n",
      "Epoch 3/200\n",
      "120/120 [==============================] - 0s 1ms/step - loss: 1.4101 - acc: 0.3333 - val_loss: 1.3977 - val_acc: 0.1667\n",
      "Epoch 4/200\n",
      "120/120 [==============================] - 0s 2ms/step - loss: 1.1724 - acc: 0.3250 - val_loss: 1.1998 - val_acc: 0.1667\n",
      "Epoch 5/200\n",
      "120/120 [==============================] - 0s 1ms/step - loss: 1.0378 - acc: 0.3250 - val_loss: 1.0809 - val_acc: 0.1667\n",
      "Epoch 6/200\n",
      "120/120 [==============================] - 0s 1ms/step - loss: 0.9620 - acc: 0.3667 - val_loss: 1.0007 - val_acc: 0.4000\n",
      "Epoch 7/200\n",
      "120/120 [==============================] - 0s 2ms/step - loss: 0.9012 - acc: 0.5333 - val_loss: 0.9383 - val_acc: 0.5333\n",
      "Epoch 8/200\n",
      "120/120 [==============================] - 0s 1ms/step - loss: 0.8505 - acc: 0.6583 - val_loss: 0.8869 - val_acc: 0.5333\n",
      "Epoch 9/200\n",
      "120/120 [==============================] - 0s 2ms/step - loss: 0.8089 - acc: 0.6583 - val_loss: 0.8720 - val_acc: 0.5667\n",
      "Epoch 10/200\n",
      "120/120 [==============================] - 0s 2ms/step - loss: 0.7733 - acc: 0.6833 - val_loss: 0.8358 - val_acc: 0.5667\n",
      "Epoch 11/200\n",
      "120/120 [==============================] - 0s 2ms/step - loss: 0.7429 - acc: 0.6833 - val_loss: 0.7800 - val_acc: 0.5333\n",
      "Epoch 12/200\n",
      "120/120 [==============================] - 0s 3ms/step - loss: 0.7141 - acc: 0.6750 - val_loss: 0.7667 - val_acc: 0.5333\n",
      "Epoch 13/200\n",
      "120/120 [==============================] - 0s 2ms/step - loss: 0.6871 - acc: 0.6917 - val_loss: 0.7554 - val_acc: 0.5667\n",
      "Epoch 14/200\n",
      "120/120 [==============================] - 0s 2ms/step - loss: 0.6704 - acc: 0.7083 - val_loss: 0.7578 - val_acc: 0.5667\n",
      "Epoch 15/200\n",
      "120/120 [==============================] - 0s 2ms/step - loss: 0.6450 - acc: 0.6833 - val_loss: 0.7075 - val_acc: 0.5667\n",
      "Epoch 16/200\n",
      "120/120 [==============================] - 0s 2ms/step - loss: 0.6279 - acc: 0.6833 - val_loss: 0.6846 - val_acc: 0.5667\n",
      "Epoch 17/200\n",
      "120/120 [==============================] - 0s 2ms/step - loss: 0.6127 - acc: 0.8000 - val_loss: 0.6778 - val_acc: 0.5667\n",
      "Epoch 18/200\n",
      "120/120 [==============================] - 0s 2ms/step - loss: 0.5969 - acc: 0.7167 - val_loss: 0.6651 - val_acc: 0.5667\n",
      "Epoch 19/200\n",
      "120/120 [==============================] - 0s 2ms/step - loss: 0.5835 - acc: 0.7417 - val_loss: 0.6427 - val_acc: 0.5667\n",
      "Epoch 20/200\n",
      "120/120 [==============================] - 0s 2ms/step - loss: 0.5741 - acc: 0.7167 - val_loss: 0.6431 - val_acc: 0.5667\n",
      "Epoch 21/200\n",
      "120/120 [==============================] - 0s 2ms/step - loss: 0.5610 - acc: 0.7250 - val_loss: 0.6304 - val_acc: 0.5667\n",
      "Epoch 22/200\n",
      "120/120 [==============================] - 0s 1ms/step - loss: 0.5475 - acc: 0.7417 - val_loss: 0.6111 - val_acc: 0.5667\n",
      "Epoch 23/200\n",
      "120/120 [==============================] - 0s 2ms/step - loss: 0.5407 - acc: 0.7167 - val_loss: 0.5861 - val_acc: 0.6000\n",
      "Epoch 24/200\n",
      "120/120 [==============================] - 0s 2ms/step - loss: 0.5305 - acc: 0.8000 - val_loss: 0.5781 - val_acc: 0.6000\n",
      "Epoch 25/200\n",
      "120/120 [==============================] - 0s 2ms/step - loss: 0.5208 - acc: 0.7917 - val_loss: 0.5927 - val_acc: 0.5667\n",
      "Epoch 26/200\n",
      "120/120 [==============================] - 0s 2ms/step - loss: 0.5182 - acc: 0.7500 - val_loss: 0.5596 - val_acc: 0.6000\n",
      "Epoch 27/200\n",
      "120/120 [==============================] - 0s 2ms/step - loss: 0.5028 - acc: 0.8167 - val_loss: 0.5800 - val_acc: 0.5667\n",
      "Epoch 28/200\n",
      "120/120 [==============================] - 0s 2ms/step - loss: 0.4956 - acc: 0.7500 - val_loss: 0.5401 - val_acc: 0.6000\n",
      "Epoch 29/200\n",
      "120/120 [==============================] - 0s 2ms/step - loss: 0.4886 - acc: 0.8750 - val_loss: 0.5754 - val_acc: 0.6000\n",
      "Epoch 30/200\n",
      "120/120 [==============================] - 0s 2ms/step - loss: 0.4829 - acc: 0.7750 - val_loss: 0.5439 - val_acc: 0.6333\n",
      "Epoch 31/200\n",
      "120/120 [==============================] - 0s 1ms/step - loss: 0.4807 - acc: 0.8000 - val_loss: 0.5525 - val_acc: 0.6000\n",
      "Epoch 32/200\n",
      "120/120 [==============================] - 0s 1ms/step - loss: 0.4681 - acc: 0.8167 - val_loss: 0.5229 - val_acc: 0.6333\n",
      "Epoch 33/200\n",
      "120/120 [==============================] - 0s 2ms/step - loss: 0.4632 - acc: 0.8667 - val_loss: 0.5485 - val_acc: 0.6000\n",
      "Epoch 34/200\n",
      "120/120 [==============================] - 0s 1ms/step - loss: 0.4611 - acc: 0.8000 - val_loss: 0.5219 - val_acc: 0.6333\n",
      "Epoch 35/200\n",
      "120/120 [==============================] - 0s 2ms/step - loss: 0.4542 - acc: 0.8333 - val_loss: 0.5219 - val_acc: 0.6333\n",
      "Epoch 36/200\n",
      "120/120 [==============================] - 0s 2ms/step - loss: 0.4462 - acc: 0.8000 - val_loss: 0.5072 - val_acc: 0.6333\n",
      "Epoch 37/200\n",
      "120/120 [==============================] - 0s 2ms/step - loss: 0.4410 - acc: 0.8833 - val_loss: 0.4939 - val_acc: 0.7000\n",
      "Epoch 38/200\n",
      "120/120 [==============================] - 0s 2ms/step - loss: 0.4359 - acc: 0.8500 - val_loss: 0.4999 - val_acc: 0.6333\n",
      "Epoch 39/200\n",
      "120/120 [==============================] - 0s 2ms/step - loss: 0.4315 - acc: 0.8833 - val_loss: 0.5055 - val_acc: 0.6333\n",
      "Epoch 40/200\n",
      "120/120 [==============================] - 0s 2ms/step - loss: 0.4287 - acc: 0.8583 - val_loss: 0.5110 - val_acc: 0.6667\n",
      "Epoch 41/200\n",
      "120/120 [==============================] - 0s 1ms/step - loss: 0.4254 - acc: 0.8583 - val_loss: 0.4914 - val_acc: 0.6333\n",
      "Epoch 42/200\n",
      "120/120 [==============================] - 0s 2ms/step - loss: 0.4192 - acc: 0.8750 - val_loss: 0.4820 - val_acc: 0.6333\n",
      "Epoch 43/200\n",
      "120/120 [==============================] - 0s 2ms/step - loss: 0.4143 - acc: 0.8750 - val_loss: 0.4686 - val_acc: 0.7000\n",
      "Epoch 44/200\n",
      "120/120 [==============================] - 0s 2ms/step - loss: 0.4107 - acc: 0.8917 - val_loss: 0.4761 - val_acc: 0.6333\n",
      "Epoch 45/200\n",
      "120/120 [==============================] - 0s 2ms/step - loss: 0.4061 - acc: 0.8750 - val_loss: 0.4679 - val_acc: 0.7000\n",
      "Epoch 46/200\n",
      "120/120 [==============================] - 0s 2ms/step - loss: 0.4037 - acc: 0.9083 - val_loss: 0.4701 - val_acc: 0.6667\n",
      "Epoch 47/200\n",
      "120/120 [==============================] - 0s 2ms/step - loss: 0.3963 - acc: 0.9167 - val_loss: 0.4768 - val_acc: 0.6667\n",
      "Epoch 48/200\n",
      "120/120 [==============================] - 0s 2ms/step - loss: 0.3957 - acc: 0.8583 - val_loss: 0.4775 - val_acc: 0.6667\n",
      "Epoch 49/200\n",
      "120/120 [==============================] - 0s 2ms/step - loss: 0.3906 - acc: 0.8833 - val_loss: 0.4523 - val_acc: 0.7000\n",
      "Epoch 50/200\n",
      "120/120 [==============================] - 0s 2ms/step - loss: 0.3889 - acc: 0.9000 - val_loss: 0.4470 - val_acc: 0.7000\n",
      "Epoch 51/200\n",
      "120/120 [==============================] - 0s 1ms/step - loss: 0.3829 - acc: 0.9000 - val_loss: 0.4380 - val_acc: 0.7000\n",
      "Epoch 52/200\n",
      "120/120 [==============================] - 0s 2ms/step - loss: 0.3818 - acc: 0.9167 - val_loss: 0.4532 - val_acc: 0.7333\n",
      "Epoch 53/200\n",
      "120/120 [==============================] - 0s 2ms/step - loss: 0.3747 - acc: 0.8917 - val_loss: 0.4249 - val_acc: 0.8000\n",
      "Epoch 54/200\n",
      "120/120 [==============================] - 0s 2ms/step - loss: 0.3740 - acc: 0.9000 - val_loss: 0.4239 - val_acc: 0.7333\n",
      "Epoch 55/200\n",
      "120/120 [==============================] - 0s 2ms/step - loss: 0.3697 - acc: 0.9333 - val_loss: 0.4276 - val_acc: 0.7000\n",
      "Epoch 56/200\n",
      "120/120 [==============================] - 0s 2ms/step - loss: 0.3687 - acc: 0.9250 - val_loss: 0.4408 - val_acc: 0.7333\n",
      "Epoch 57/200\n",
      "120/120 [==============================] - 0s 2ms/step - loss: 0.3662 - acc: 0.9333 - val_loss: 0.4374 - val_acc: 0.7333\n",
      "Epoch 58/200\n",
      "120/120 [==============================] - 0s 2ms/step - loss: 0.3602 - acc: 0.9333 - val_loss: 0.4318 - val_acc: 0.7333\n",
      "Epoch 59/200\n",
      "120/120 [==============================] - 0s 2ms/step - loss: 0.3560 - acc: 0.8917 - val_loss: 0.4210 - val_acc: 0.7333\n",
      "Epoch 60/200\n",
      "120/120 [==============================] - 0s 2ms/step - loss: 0.3544 - acc: 0.9333 - val_loss: 0.4194 - val_acc: 0.7333\n",
      "Epoch 61/200\n"
     ]
    },
    {
     "name": "stdout",
     "output_type": "stream",
     "text": [
      "120/120 [==============================] - 0s 1ms/step - loss: 0.3503 - acc: 0.9083 - val_loss: 0.4116 - val_acc: 0.7667\n",
      "Epoch 62/200\n",
      "120/120 [==============================] - 0s 2ms/step - loss: 0.3491 - acc: 0.9583 - val_loss: 0.4294 - val_acc: 0.7333\n",
      "Epoch 63/200\n",
      "120/120 [==============================] - 0s 2ms/step - loss: 0.3464 - acc: 0.8917 - val_loss: 0.4132 - val_acc: 0.7333\n",
      "Epoch 64/200\n",
      "120/120 [==============================] - 0s 2ms/step - loss: 0.3424 - acc: 0.9083 - val_loss: 0.3950 - val_acc: 0.8000\n",
      "Epoch 65/200\n",
      "120/120 [==============================] - 0s 2ms/step - loss: 0.3395 - acc: 0.9333 - val_loss: 0.4060 - val_acc: 0.7667\n",
      "Epoch 66/200\n",
      "120/120 [==============================] - 0s 2ms/step - loss: 0.3363 - acc: 0.9417 - val_loss: 0.4011 - val_acc: 0.7667\n",
      "Epoch 67/200\n",
      "120/120 [==============================] - 0s 2ms/step - loss: 0.3341 - acc: 0.9167 - val_loss: 0.3905 - val_acc: 0.8000\n",
      "Epoch 68/200\n",
      "120/120 [==============================] - 0s 2ms/step - loss: 0.3323 - acc: 0.9333 - val_loss: 0.3795 - val_acc: 0.8667\n",
      "Epoch 69/200\n",
      "120/120 [==============================] - 0s 2ms/step - loss: 0.3288 - acc: 0.9333 - val_loss: 0.3758 - val_acc: 0.8667\n",
      "Epoch 70/200\n",
      "120/120 [==============================] - 0s 2ms/step - loss: 0.3268 - acc: 0.9333 - val_loss: 0.3987 - val_acc: 0.7667\n",
      "Epoch 71/200\n",
      "120/120 [==============================] - 0s 1ms/step - loss: 0.3246 - acc: 0.9417 - val_loss: 0.3878 - val_acc: 0.7667\n",
      "Epoch 72/200\n",
      "120/120 [==============================] - 0s 1ms/step - loss: 0.3203 - acc: 0.9500 - val_loss: 0.3975 - val_acc: 0.7333\n",
      "Epoch 73/200\n",
      "120/120 [==============================] - 0s 2ms/step - loss: 0.3198 - acc: 0.9250 - val_loss: 0.3742 - val_acc: 0.9000\n",
      "Epoch 74/200\n",
      "120/120 [==============================] - 0s 2ms/step - loss: 0.3164 - acc: 0.9500 - val_loss: 0.3699 - val_acc: 0.9000\n",
      "Epoch 75/200\n",
      "120/120 [==============================] - 0s 2ms/step - loss: 0.3123 - acc: 0.9500 - val_loss: 0.3785 - val_acc: 0.8000\n",
      "Epoch 76/200\n",
      "120/120 [==============================] - 0s 2ms/step - loss: 0.3109 - acc: 0.9417 - val_loss: 0.3763 - val_acc: 0.8000\n",
      "Epoch 77/200\n",
      "120/120 [==============================] - 0s 2ms/step - loss: 0.3094 - acc: 0.9500 - val_loss: 0.3629 - val_acc: 0.9000\n",
      "Epoch 78/200\n",
      "120/120 [==============================] - 0s 2ms/step - loss: 0.3049 - acc: 0.9500 - val_loss: 0.3796 - val_acc: 0.7667\n",
      "Epoch 79/200\n",
      "120/120 [==============================] - 0s 2ms/step - loss: 0.3039 - acc: 0.9500 - val_loss: 0.3750 - val_acc: 0.7667\n",
      "Epoch 80/200\n",
      "120/120 [==============================] - 0s 2ms/step - loss: 0.3013 - acc: 0.9417 - val_loss: 0.3609 - val_acc: 0.9000\n",
      "Epoch 81/200\n",
      "120/120 [==============================] - 0s 2ms/step - loss: 0.2994 - acc: 0.9500 - val_loss: 0.3747 - val_acc: 0.7667\n",
      "Epoch 82/200\n",
      "120/120 [==============================] - 0s 2ms/step - loss: 0.2967 - acc: 0.9500 - val_loss: 0.3605 - val_acc: 0.8333\n",
      "Epoch 83/200\n",
      "120/120 [==============================] - 0s 2ms/step - loss: 0.2951 - acc: 0.9417 - val_loss: 0.3513 - val_acc: 0.9000\n",
      "Epoch 84/200\n",
      "120/120 [==============================] - 0s 2ms/step - loss: 0.2943 - acc: 0.9500 - val_loss: 0.3395 - val_acc: 0.9333\n",
      "Epoch 85/200\n",
      "120/120 [==============================] - 0s 1ms/step - loss: 0.2899 - acc: 0.9667 - val_loss: 0.3571 - val_acc: 0.8333\n",
      "Epoch 86/200\n",
      "120/120 [==============================] - 0s 2ms/step - loss: 0.2883 - acc: 0.9667 - val_loss: 0.3616 - val_acc: 0.7667\n",
      "Epoch 87/200\n",
      "120/120 [==============================] - 0s 2ms/step - loss: 0.2866 - acc: 0.9500 - val_loss: 0.3452 - val_acc: 0.9000\n",
      "Epoch 88/200\n",
      "120/120 [==============================] - 0s 2ms/step - loss: 0.2850 - acc: 0.9833 - val_loss: 0.3478 - val_acc: 0.8667\n",
      "Epoch 89/200\n",
      "120/120 [==============================] - 0s 2ms/step - loss: 0.2827 - acc: 0.9667 - val_loss: 0.3502 - val_acc: 0.8333\n",
      "Epoch 90/200\n",
      "120/120 [==============================] - 0s 2ms/step - loss: 0.2840 - acc: 0.9500 - val_loss: 0.3290 - val_acc: 0.9333\n",
      "Epoch 91/200\n",
      "120/120 [==============================] - 0s 2ms/step - loss: 0.2790 - acc: 0.9583 - val_loss: 0.3447 - val_acc: 0.8667\n",
      "Epoch 92/200\n",
      "120/120 [==============================] - 0s 2ms/step - loss: 0.2758 - acc: 0.9583 - val_loss: 0.3448 - val_acc: 0.8667\n",
      "Epoch 93/200\n",
      "120/120 [==============================] - 0s 2ms/step - loss: 0.2763 - acc: 0.9500 - val_loss: 0.3310 - val_acc: 0.9333\n",
      "Epoch 94/200\n",
      "120/120 [==============================] - 0s 2ms/step - loss: 0.2731 - acc: 0.9583 - val_loss: 0.3311 - val_acc: 0.9333\n",
      "Epoch 95/200\n",
      "120/120 [==============================] - 0s 2ms/step - loss: 0.2703 - acc: 0.9750 - val_loss: 0.3421 - val_acc: 0.8333\n",
      "Epoch 96/200\n",
      "120/120 [==============================] - 0s 2ms/step - loss: 0.2696 - acc: 0.9583 - val_loss: 0.3200 - val_acc: 0.9333\n",
      "Epoch 97/200\n",
      "120/120 [==============================] - 0s 2ms/step - loss: 0.2665 - acc: 0.9750 - val_loss: 0.3268 - val_acc: 0.9333\n",
      "Epoch 98/200\n",
      "120/120 [==============================] - 0s 2ms/step - loss: 0.2649 - acc: 0.9667 - val_loss: 0.3294 - val_acc: 0.9000\n",
      "Epoch 99/200\n",
      "120/120 [==============================] - 0s 2ms/step - loss: 0.2625 - acc: 0.9583 - val_loss: 0.3207 - val_acc: 0.9333\n",
      "Epoch 100/200\n",
      "120/120 [==============================] - 0s 2ms/step - loss: 0.2629 - acc: 0.9750 - val_loss: 0.3309 - val_acc: 0.8667\n",
      "Epoch 101/200\n",
      "120/120 [==============================] - 0s 2ms/step - loss: 0.2604 - acc: 0.9583 - val_loss: 0.3157 - val_acc: 0.9333\n",
      "Epoch 102/200\n",
      "120/120 [==============================] - 0s 2ms/step - loss: 0.2598 - acc: 0.9667 - val_loss: 0.3054 - val_acc: 0.9333\n",
      "Epoch 103/200\n",
      "120/120 [==============================] - 0s 2ms/step - loss: 0.2600 - acc: 0.9667 - val_loss: 0.3274 - val_acc: 0.8667\n",
      "Epoch 104/200\n",
      "120/120 [==============================] - 0s 2ms/step - loss: 0.2551 - acc: 0.9667 - val_loss: 0.3156 - val_acc: 0.9333\n",
      "Epoch 105/200\n",
      "120/120 [==============================] - 0s 2ms/step - loss: 0.2543 - acc: 0.9750 - val_loss: 0.3111 - val_acc: 0.9333\n",
      "Epoch 106/200\n",
      "120/120 [==============================] - 0s 2ms/step - loss: 0.2523 - acc: 0.9750 - val_loss: 0.3238 - val_acc: 0.8667\n",
      "Epoch 107/200\n",
      "120/120 [==============================] - 0s 2ms/step - loss: 0.2510 - acc: 0.9750 - val_loss: 0.3269 - val_acc: 0.8667\n",
      "Epoch 108/200\n",
      "120/120 [==============================] - 0s 2ms/step - loss: 0.2515 - acc: 0.9583 - val_loss: 0.3062 - val_acc: 0.9333\n",
      "Epoch 109/200\n",
      "120/120 [==============================] - 0s 2ms/step - loss: 0.2465 - acc: 0.9583 - val_loss: 0.3038 - val_acc: 0.9333\n",
      "Epoch 110/200\n",
      "120/120 [==============================] - 0s 2ms/step - loss: 0.2452 - acc: 0.9667 - val_loss: 0.3051 - val_acc: 0.9333\n",
      "Epoch 111/200\n",
      "120/120 [==============================] - 0s 2ms/step - loss: 0.2433 - acc: 0.9667 - val_loss: 0.3146 - val_acc: 0.9000\n",
      "Epoch 112/200\n",
      "120/120 [==============================] - 0s 2ms/step - loss: 0.2430 - acc: 0.9583 - val_loss: 0.2987 - val_acc: 0.9333\n",
      "Epoch 113/200\n",
      "120/120 [==============================] - 0s 2ms/step - loss: 0.2402 - acc: 0.9833 - val_loss: 0.3063 - val_acc: 0.9333\n",
      "Epoch 114/200\n",
      "120/120 [==============================] - 0s 2ms/step - loss: 0.2388 - acc: 0.9750 - val_loss: 0.2995 - val_acc: 0.9333\n",
      "Epoch 115/200\n",
      "120/120 [==============================] - 0s 2ms/step - loss: 0.2389 - acc: 0.9833 - val_loss: 0.2989 - val_acc: 0.9333\n",
      "Epoch 116/200\n",
      "120/120 [==============================] - 0s 2ms/step - loss: 0.2367 - acc: 0.9583 - val_loss: 0.2905 - val_acc: 0.9333\n",
      "Epoch 117/200\n",
      "120/120 [==============================] - 0s 2ms/step - loss: 0.2351 - acc: 0.9750 - val_loss: 0.3021 - val_acc: 0.9000\n",
      "Epoch 118/200\n",
      "120/120 [==============================] - 0s 2ms/step - loss: 0.2328 - acc: 0.9750 - val_loss: 0.2992 - val_acc: 0.9333\n",
      "Epoch 119/200\n",
      "120/120 [==============================] - 0s 2ms/step - loss: 0.2314 - acc: 0.9750 - val_loss: 0.2871 - val_acc: 0.9333\n",
      "Epoch 120/200\n",
      "120/120 [==============================] - 0s 2ms/step - loss: 0.2303 - acc: 0.9750 - val_loss: 0.2764 - val_acc: 0.9333\n",
      "Epoch 121/200\n",
      "120/120 [==============================] - 0s 2ms/step - loss: 0.2301 - acc: 0.9750 - val_loss: 0.2900 - val_acc: 0.9333\n",
      "Epoch 122/200\n"
     ]
    },
    {
     "name": "stdout",
     "output_type": "stream",
     "text": [
      "120/120 [==============================] - 0s 2ms/step - loss: 0.2291 - acc: 0.9750 - val_loss: 0.3036 - val_acc: 0.9000\n",
      "Epoch 123/200\n",
      "120/120 [==============================] - 0s 2ms/step - loss: 0.2276 - acc: 0.9750 - val_loss: 0.2923 - val_acc: 0.9333\n",
      "Epoch 124/200\n",
      "120/120 [==============================] - 0s 2ms/step - loss: 0.2244 - acc: 0.9750 - val_loss: 0.2760 - val_acc: 0.9333\n",
      "Epoch 125/200\n",
      "120/120 [==============================] - 0s 2ms/step - loss: 0.2249 - acc: 0.9750 - val_loss: 0.2760 - val_acc: 0.9333\n",
      "Epoch 126/200\n",
      "120/120 [==============================] - 0s 2ms/step - loss: 0.2255 - acc: 0.9750 - val_loss: 0.2832 - val_acc: 0.9333\n",
      "Epoch 127/200\n",
      "120/120 [==============================] - 0s 2ms/step - loss: 0.2223 - acc: 0.9750 - val_loss: 0.2745 - val_acc: 0.9333\n",
      "Epoch 128/200\n",
      "120/120 [==============================] - 0s 2ms/step - loss: 0.2208 - acc: 0.9833 - val_loss: 0.2879 - val_acc: 0.9333\n",
      "Epoch 129/200\n",
      "120/120 [==============================] - 0s 2ms/step - loss: 0.2192 - acc: 0.9833 - val_loss: 0.2722 - val_acc: 0.9333\n",
      "Epoch 130/200\n",
      "120/120 [==============================] - 0s 2ms/step - loss: 0.2165 - acc: 0.9750 - val_loss: 0.2678 - val_acc: 0.9333\n",
      "Epoch 131/200\n",
      "120/120 [==============================] - 0s 2ms/step - loss: 0.2198 - acc: 0.9750 - val_loss: 0.2728 - val_acc: 0.9333\n",
      "Epoch 132/200\n",
      "120/120 [==============================] - 0s 2ms/step - loss: 0.2162 - acc: 0.9750 - val_loss: 0.2740 - val_acc: 0.9333\n",
      "Epoch 133/200\n",
      "120/120 [==============================] - 0s 2ms/step - loss: 0.2138 - acc: 0.9833 - val_loss: 0.2724 - val_acc: 0.9333\n",
      "Epoch 134/200\n",
      "120/120 [==============================] - 0s 2ms/step - loss: 0.2125 - acc: 0.9750 - val_loss: 0.2712 - val_acc: 0.9333\n",
      "Epoch 135/200\n",
      "120/120 [==============================] - 0s 2ms/step - loss: 0.2117 - acc: 0.9833 - val_loss: 0.2643 - val_acc: 0.9333\n",
      "Epoch 136/200\n",
      "120/120 [==============================] - 0s 2ms/step - loss: 0.2100 - acc: 0.9750 - val_loss: 0.2662 - val_acc: 0.9333\n",
      "Epoch 137/200\n",
      "120/120 [==============================] - 0s 2ms/step - loss: 0.2097 - acc: 0.9833 - val_loss: 0.2692 - val_acc: 0.9333\n",
      "Epoch 138/200\n",
      "120/120 [==============================] - 0s 2ms/step - loss: 0.2090 - acc: 0.9833 - val_loss: 0.2574 - val_acc: 0.9333\n",
      "Epoch 139/200\n",
      "120/120 [==============================] - 0s 2ms/step - loss: 0.2073 - acc: 0.9833 - val_loss: 0.2676 - val_acc: 0.9333\n",
      "Epoch 140/200\n",
      "120/120 [==============================] - 0s 2ms/step - loss: 0.2056 - acc: 0.9750 - val_loss: 0.2642 - val_acc: 0.9333\n",
      "Epoch 141/200\n",
      "120/120 [==============================] - 0s 2ms/step - loss: 0.2062 - acc: 0.9750 - val_loss: 0.2602 - val_acc: 0.9333\n",
      "Epoch 142/200\n",
      "120/120 [==============================] - 0s 2ms/step - loss: 0.2046 - acc: 0.9750 - val_loss: 0.2633 - val_acc: 0.9333\n",
      "Epoch 143/200\n",
      "120/120 [==============================] - 0s 1ms/step - loss: 0.2021 - acc: 0.9750 - val_loss: 0.2671 - val_acc: 0.9333\n",
      "Epoch 144/200\n",
      "120/120 [==============================] - 0s 2ms/step - loss: 0.2022 - acc: 0.9750 - val_loss: 0.2632 - val_acc: 0.9333\n",
      "Epoch 145/200\n",
      "120/120 [==============================] - 0s 2ms/step - loss: 0.2012 - acc: 0.9750 - val_loss: 0.2541 - val_acc: 0.9333\n",
      "Epoch 146/200\n",
      "120/120 [==============================] - 0s 2ms/step - loss: 0.1999 - acc: 0.9833 - val_loss: 0.2620 - val_acc: 0.9333\n",
      "Epoch 147/200\n",
      "120/120 [==============================] - 0s 2ms/step - loss: 0.2004 - acc: 0.9750 - val_loss: 0.2533 - val_acc: 0.9333\n",
      "Epoch 148/200\n",
      "120/120 [==============================] - 0s 2ms/step - loss: 0.1973 - acc: 0.9750 - val_loss: 0.2519 - val_acc: 0.9333\n",
      "Epoch 149/200\n",
      "120/120 [==============================] - 0s 2ms/step - loss: 0.1975 - acc: 0.9750 - val_loss: 0.2524 - val_acc: 0.9333\n",
      "Epoch 150/200\n",
      "120/120 [==============================] - 0s 2ms/step - loss: 0.1953 - acc: 0.9667 - val_loss: 0.2415 - val_acc: 0.9667\n",
      "Epoch 151/200\n",
      "120/120 [==============================] - 0s 2ms/step - loss: 0.1945 - acc: 0.9833 - val_loss: 0.2506 - val_acc: 0.9333\n",
      "Epoch 152/200\n",
      "120/120 [==============================] - 0s 2ms/step - loss: 0.1930 - acc: 0.9750 - val_loss: 0.2512 - val_acc: 0.9333\n",
      "Epoch 153/200\n",
      "120/120 [==============================] - 0s 1ms/step - loss: 0.1935 - acc: 0.9750 - val_loss: 0.2443 - val_acc: 0.9333\n",
      "Epoch 154/200\n",
      "120/120 [==============================] - 0s 2ms/step - loss: 0.1915 - acc: 0.9833 - val_loss: 0.2455 - val_acc: 0.9333\n",
      "Epoch 155/200\n",
      "120/120 [==============================] - 0s 2ms/step - loss: 0.1901 - acc: 0.9833 - val_loss: 0.2504 - val_acc: 0.9333\n",
      "Epoch 156/200\n",
      "120/120 [==============================] - 0s 2ms/step - loss: 0.1893 - acc: 0.9750 - val_loss: 0.2420 - val_acc: 0.9333\n",
      "Epoch 157/200\n",
      "120/120 [==============================] - 0s 2ms/step - loss: 0.1907 - acc: 0.9750 - val_loss: 0.2385 - val_acc: 0.9667\n",
      "Epoch 158/200\n",
      "120/120 [==============================] - 0s 2ms/step - loss: 0.1897 - acc: 0.9833 - val_loss: 0.2264 - val_acc: 0.9667\n",
      "Epoch 159/200\n",
      "120/120 [==============================] - 0s 2ms/step - loss: 0.1883 - acc: 0.9750 - val_loss: 0.2414 - val_acc: 0.9333\n",
      "Epoch 160/200\n",
      "120/120 [==============================] - 0s 2ms/step - loss: 0.1855 - acc: 0.9833 - val_loss: 0.2358 - val_acc: 0.9667\n",
      "Epoch 161/200\n",
      "120/120 [==============================] - 0s 2ms/step - loss: 0.1859 - acc: 0.9750 - val_loss: 0.2329 - val_acc: 0.9667\n",
      "Epoch 162/200\n",
      "120/120 [==============================] - 0s 2ms/step - loss: 0.1850 - acc: 0.9833 - val_loss: 0.2290 - val_acc: 0.9667\n",
      "Epoch 163/200\n",
      "120/120 [==============================] - 0s 1ms/step - loss: 0.1857 - acc: 0.9833 - val_loss: 0.2315 - val_acc: 0.9667\n",
      "Epoch 164/200\n",
      "120/120 [==============================] - 0s 2ms/step - loss: 0.1842 - acc: 0.9750 - val_loss: 0.2390 - val_acc: 0.9333\n",
      "Epoch 165/200\n",
      "120/120 [==============================] - 0s 2ms/step - loss: 0.1834 - acc: 0.9833 - val_loss: 0.2287 - val_acc: 0.9667\n",
      "Epoch 166/200\n",
      "120/120 [==============================] - 0s 2ms/step - loss: 0.1812 - acc: 0.9750 - val_loss: 0.2324 - val_acc: 0.9667\n",
      "Epoch 167/200\n",
      "120/120 [==============================] - 0s 2ms/step - loss: 0.1807 - acc: 0.9833 - val_loss: 0.2256 - val_acc: 0.9667\n",
      "Epoch 168/200\n",
      "120/120 [==============================] - 0s 2ms/step - loss: 0.1794 - acc: 0.9750 - val_loss: 0.2342 - val_acc: 0.9333\n",
      "Epoch 169/200\n",
      "120/120 [==============================] - 0s 2ms/step - loss: 0.1785 - acc: 0.9833 - val_loss: 0.2292 - val_acc: 0.9667\n",
      "Epoch 170/200\n",
      "120/120 [==============================] - 0s 2ms/step - loss: 0.1770 - acc: 0.9750 - val_loss: 0.2228 - val_acc: 0.9667\n",
      "Epoch 171/200\n",
      "120/120 [==============================] - 0s 2ms/step - loss: 0.1797 - acc: 0.9750 - val_loss: 0.2223 - val_acc: 0.9667\n",
      "Epoch 172/200\n",
      "120/120 [==============================] - 0s 2ms/step - loss: 0.1766 - acc: 0.9833 - val_loss: 0.2238 - val_acc: 0.9667\n",
      "Epoch 173/200\n",
      "120/120 [==============================] - 0s 1ms/step - loss: 0.1767 - acc: 0.9833 - val_loss: 0.2273 - val_acc: 0.9667\n",
      "Epoch 174/200\n",
      "120/120 [==============================] - 0s 1ms/step - loss: 0.1752 - acc: 0.9750 - val_loss: 0.2302 - val_acc: 0.9333\n",
      "Epoch 175/200\n",
      "120/120 [==============================] - 0s 2ms/step - loss: 0.1744 - acc: 0.9750 - val_loss: 0.2335 - val_acc: 0.9333\n",
      "Epoch 176/200\n",
      "120/120 [==============================] - 0s 2ms/step - loss: 0.1737 - acc: 0.9833 - val_loss: 0.2295 - val_acc: 0.9333\n",
      "Epoch 177/200\n",
      "120/120 [==============================] - 0s 2ms/step - loss: 0.1734 - acc: 0.9750 - val_loss: 0.2269 - val_acc: 0.9333\n",
      "Epoch 178/200\n",
      "120/120 [==============================] - 0s 2ms/step - loss: 0.1719 - acc: 0.9833 - val_loss: 0.2276 - val_acc: 0.9333\n",
      "Epoch 179/200\n",
      "120/120 [==============================] - 0s 2ms/step - loss: 0.1730 - acc: 0.9750 - val_loss: 0.2273 - val_acc: 0.9333\n",
      "Epoch 180/200\n",
      "120/120 [==============================] - 0s 2ms/step - loss: 0.1697 - acc: 0.9750 - val_loss: 0.2169 - val_acc: 0.9667\n",
      "Epoch 181/200\n",
      "120/120 [==============================] - 0s 2ms/step - loss: 0.1703 - acc: 0.9750 - val_loss: 0.2167 - val_acc: 0.9667\n",
      "Epoch 182/200\n",
      "120/120 [==============================] - 0s 2ms/step - loss: 0.1698 - acc: 0.9750 - val_loss: 0.2278 - val_acc: 0.9333\n"
     ]
    },
    {
     "name": "stdout",
     "output_type": "stream",
     "text": [
      "Epoch 183/200\n",
      "120/120 [==============================] - 0s 2ms/step - loss: 0.1703 - acc: 0.9833 - val_loss: 0.2193 - val_acc: 0.9667\n",
      "Epoch 184/200\n",
      "120/120 [==============================] - 0s 2ms/step - loss: 0.1701 - acc: 0.9750 - val_loss: 0.2260 - val_acc: 0.9333\n",
      "Epoch 185/200\n",
      "120/120 [==============================] - 0s 2ms/step - loss: 0.1683 - acc: 0.9750 - val_loss: 0.2234 - val_acc: 0.9333\n",
      "Epoch 186/200\n",
      "120/120 [==============================] - 0s 2ms/step - loss: 0.1673 - acc: 0.9750 - val_loss: 0.2179 - val_acc: 0.9667\n",
      "Epoch 187/200\n",
      "120/120 [==============================] - 0s 2ms/step - loss: 0.1659 - acc: 0.9750 - val_loss: 0.2123 - val_acc: 0.9667\n",
      "Epoch 188/200\n",
      "120/120 [==============================] - 0s 2ms/step - loss: 0.1653 - acc: 0.9833 - val_loss: 0.2165 - val_acc: 0.9667\n",
      "Epoch 189/200\n",
      "120/120 [==============================] - 0s 2ms/step - loss: 0.1662 - acc: 0.9833 - val_loss: 0.2113 - val_acc: 0.9667\n",
      "Epoch 190/200\n",
      "120/120 [==============================] - 0s 2ms/step - loss: 0.1651 - acc: 0.9750 - val_loss: 0.2191 - val_acc: 0.9333\n",
      "Epoch 191/200\n",
      "120/120 [==============================] - 0s 2ms/step - loss: 0.1637 - acc: 0.9750 - val_loss: 0.2105 - val_acc: 0.9667\n",
      "Epoch 192/200\n",
      "120/120 [==============================] - 0s 2ms/step - loss: 0.1634 - acc: 0.9750 - val_loss: 0.2161 - val_acc: 0.9667\n",
      "Epoch 193/200\n",
      "120/120 [==============================] - 0s 2ms/step - loss: 0.1621 - acc: 0.9750 - val_loss: 0.2063 - val_acc: 0.9667\n",
      "Epoch 194/200\n",
      "120/120 [==============================] - 0s 2ms/step - loss: 0.1623 - acc: 0.9833 - val_loss: 0.2040 - val_acc: 0.9667\n",
      "Epoch 195/200\n",
      "120/120 [==============================] - 0s 2ms/step - loss: 0.1610 - acc: 0.9833 - val_loss: 0.2097 - val_acc: 0.9667\n",
      "Epoch 196/200\n",
      "120/120 [==============================] - 0s 2ms/step - loss: 0.1604 - acc: 0.9750 - val_loss: 0.2107 - val_acc: 0.9667\n",
      "Epoch 197/200\n",
      "120/120 [==============================] - 0s 2ms/step - loss: 0.1593 - acc: 0.9833 - val_loss: 0.2123 - val_acc: 0.9667\n",
      "Epoch 198/200\n",
      "120/120 [==============================] - 0s 2ms/step - loss: 0.1594 - acc: 0.9750 - val_loss: 0.2069 - val_acc: 0.9667\n",
      "Epoch 199/200\n",
      "120/120 [==============================] - 0s 2ms/step - loss: 0.1600 - acc: 0.9750 - val_loss: 0.1969 - val_acc: 0.9667\n",
      "Epoch 200/200\n",
      "120/120 [==============================] - 0s 2ms/step - loss: 0.1583 - acc: 0.9833 - val_loss: 0.2016 - val_acc: 0.9667\n"
     ]
    }
   ],
   "source": [
    "model=Sequential()\n",
    "model.add(Dense(3, input_dim=4, activation='softmax'))\n",
    "sgd=optimizers.SGD(lr=0.01) #학습률\n",
    "model.compile(loss='categorical_crossentropy', optimizer='adam', metrics=['accuracy'])\n",
    "history=model.fit(xtrain,ytrain, batch_size=1, epochs=200, validation_data=(xtest, ytest))"
   ]
  },
  {
   "cell_type": "code",
   "execution_count": null,
   "metadata": {},
   "outputs": [],
   "source": [
    "epochs= range(1, len(history()))"
   ]
  },
  {
   "cell_type": "code",
   "execution_count": null,
   "metadata": {},
   "outputs": [],
   "source": []
  },
  {
   "cell_type": "code",
   "execution_count": 14,
   "metadata": {},
   "outputs": [
    {
     "name": "stdout",
     "output_type": "stream",
     "text": [
      "30/30 [==============================] - 0s 33us/step\n",
      "테스트 정확도: 0.9667\n"
     ]
    }
   ],
   "source": [
    "print(\"테스트 정확도: %.4f\" % (model.evaluate(xtest,ytest)[1]))"
   ]
  },
  {
   "cell_type": "code",
   "execution_count": 16,
   "metadata": {},
   "outputs": [
    {
     "name": "stderr",
     "output_type": "stream",
     "text": [
      "C:\\Users\\Kyujin\\Anaconda3\\lib\\site-packages\\ipykernel_launcher.py:2: UserWarning: Update your `Dense` call to the Keras 2 API: `Dense(8, input_dim=4, activation=\"relu\", kernel_initializer=\"uniform\")`\n",
      "  \n"
     ]
    }
   ],
   "source": [
    "model=Sequential()\n",
    "model.add(Dense(8,input_dim=4, activation='relu', init='uniform'))\n",
    "#x=(1,4), W=(4,8), B=(1,8), y=(1,8)\n",
    "model.add(Dense(8, activation='relu'))\n",
    "#x=(1,8), W=(8,8), B=(1,8), y=(1,8)\n",
    "model.add(Dense(3, activation='softmax'))\n",
    "#x=(1,8), W=(8,3), B=(1,3), y=(1,3)\n",
    "\n",
    "\n",
    "\n"
   ]
  },
  {
   "cell_type": "code",
   "execution_count": 18,
   "metadata": {},
   "outputs": [
    {
     "ename": "RuntimeError",
     "evalue": "You must compile a model before training/testing. Use `model.compile(optimizer, loss)`.",
     "output_type": "error",
     "traceback": [
      "\u001b[1;31m---------------------------------------------------------------------------\u001b[0m",
      "\u001b[1;31mRuntimeError\u001b[0m                              Traceback (most recent call last)",
      "\u001b[1;32m<ipython-input-18-56ec7024d83d>\u001b[0m in \u001b[0;36m<module>\u001b[1;34m\u001b[0m\n\u001b[1;32m----> 1\u001b[1;33m \u001b[0mmodel\u001b[0m\u001b[1;33m.\u001b[0m\u001b[0mfit\u001b[0m\u001b[1;33m(\u001b[0m\u001b[0mxtrain\u001b[0m\u001b[1;33m,\u001b[0m \u001b[0mytrain\u001b[0m\u001b[1;33m,\u001b[0m \u001b[0mbatch_size\u001b[0m\u001b[1;33m=\u001b[0m\u001b[0mlen\u001b[0m\u001b[1;33m(\u001b[0m\u001b[0mxtrain\u001b[0m\u001b[1;33m)\u001b[0m\u001b[1;33m)\u001b[0m\u001b[1;33m\u001b[0m\u001b[1;33m\u001b[0m\u001b[0m\n\u001b[0m\u001b[0;32m      2\u001b[0m \u001b[1;31m#배치경사하강법:1에폭에 모든 매개변수 업데이트를 한 번 수행\u001b[0m\u001b[1;33m\u001b[0m\u001b[1;33m\u001b[0m\u001b[1;33m\u001b[0m\u001b[0m\n\u001b[0;32m      3\u001b[0m \u001b[1;33m\u001b[0m\u001b[0m\n\u001b[0;32m      4\u001b[0m \u001b[0mmodel\u001b[0m\u001b[1;33m.\u001b[0m\u001b[0mfit\u001b[0m\u001b[1;33m(\u001b[0m\u001b[0mxtrain\u001b[0m\u001b[1;33m,\u001b[0m \u001b[0mytrain\u001b[0m\u001b[1;33m,\u001b[0m \u001b[0mbatch_size\u001b[0m\u001b[1;33m=\u001b[0m\u001b[1;36m16\u001b[0m\u001b[1;33m)\u001b[0m\u001b[1;33m\u001b[0m\u001b[1;33m\u001b[0m\u001b[0m\n\u001b[0;32m      5\u001b[0m \u001b[1;33m\u001b[0m\u001b[0m\n",
      "\u001b[1;32m~\\Anaconda3\\lib\\site-packages\\keras\\engine\\training.py\u001b[0m in \u001b[0;36mfit\u001b[1;34m(self, x, y, batch_size, epochs, verbose, callbacks, validation_split, validation_data, shuffle, class_weight, sample_weight, initial_epoch, steps_per_epoch, validation_steps, **kwargs)\u001b[0m\n\u001b[0;32m    950\u001b[0m             \u001b[0msample_weight\u001b[0m\u001b[1;33m=\u001b[0m\u001b[0msample_weight\u001b[0m\u001b[1;33m,\u001b[0m\u001b[1;33m\u001b[0m\u001b[1;33m\u001b[0m\u001b[0m\n\u001b[0;32m    951\u001b[0m             \u001b[0mclass_weight\u001b[0m\u001b[1;33m=\u001b[0m\u001b[0mclass_weight\u001b[0m\u001b[1;33m,\u001b[0m\u001b[1;33m\u001b[0m\u001b[1;33m\u001b[0m\u001b[0m\n\u001b[1;32m--> 952\u001b[1;33m             batch_size=batch_size)\n\u001b[0m\u001b[0;32m    953\u001b[0m         \u001b[1;31m# Prepare validation data.\u001b[0m\u001b[1;33m\u001b[0m\u001b[1;33m\u001b[0m\u001b[1;33m\u001b[0m\u001b[0m\n\u001b[0;32m    954\u001b[0m         \u001b[0mdo_validation\u001b[0m \u001b[1;33m=\u001b[0m \u001b[1;32mFalse\u001b[0m\u001b[1;33m\u001b[0m\u001b[1;33m\u001b[0m\u001b[0m\n",
      "\u001b[1;32m~\\Anaconda3\\lib\\site-packages\\keras\\engine\\training.py\u001b[0m in \u001b[0;36m_standardize_user_data\u001b[1;34m(self, x, y, sample_weight, class_weight, check_array_lengths, batch_size)\u001b[0m\n\u001b[0;32m    679\u001b[0m         \u001b[1;32mif\u001b[0m \u001b[0my\u001b[0m \u001b[1;32mis\u001b[0m \u001b[1;32mnot\u001b[0m \u001b[1;32mNone\u001b[0m\u001b[1;33m:\u001b[0m\u001b[1;33m\u001b[0m\u001b[1;33m\u001b[0m\u001b[0m\n\u001b[0;32m    680\u001b[0m             \u001b[1;32mif\u001b[0m \u001b[1;32mnot\u001b[0m \u001b[0mself\u001b[0m\u001b[1;33m.\u001b[0m\u001b[0moptimizer\u001b[0m\u001b[1;33m:\u001b[0m\u001b[1;33m\u001b[0m\u001b[1;33m\u001b[0m\u001b[0m\n\u001b[1;32m--> 681\u001b[1;33m                 raise RuntimeError('You must compile a model before '\n\u001b[0m\u001b[0;32m    682\u001b[0m                                    \u001b[1;34m'training/testing. '\u001b[0m\u001b[1;33m\u001b[0m\u001b[1;33m\u001b[0m\u001b[0m\n\u001b[0;32m    683\u001b[0m                                    'Use `model.compile(optimizer, loss)`.')\n",
      "\u001b[1;31mRuntimeError\u001b[0m: You must compile a model before training/testing. Use `model.compile(optimizer, loss)`."
     ]
    }
   ],
   "source": [
    "model.fit(xtrain, ytrain, batch_size=len(xtrain))\n",
    "#배치경사하강법:1에폭에 모든 매개변수 업데이트를 한 번 수행\n",
    "\n",
    "model.fit(xtrain, ytrain, batch_size=16)\n",
    "\n",
    "model.fit(xtrain, ytrain, batch_size=1)\n",
    "#SGD(확률적 경사 하강법)\n",
    "\n",
    "keras.optimizers.SGD(lr=0.01, momentum=0.9)\n",
    "\n",
    "\n"
   ]
  },
  {
   "cell_type": "code",
   "execution_count": 22,
   "metadata": {},
   "outputs": [
    {
     "name": "stdout",
     "output_type": "stream",
     "text": [
      "{'the': 1, 'earth': 2, 'is': 3, 'an': 4, 'awesome': 5, 'place': 6, 'to': 7, 'live': 8}\n"
     ]
    },
    {
     "data": {
      "text/plain": [
       "[[1, 2, 3, 4, 6, 7, 8]]"
      ]
     },
     "execution_count": 22,
     "metadata": {},
     "output_type": "execute_result"
    }
   ],
   "source": [
    "from keras.preprocessing.text import Tokenizer\n",
    "t=Tokenizer()\n",
    "fitText=\"The earth is an awesome place to live\"\n",
    "t.fit_on_texts([fitText])\n",
    "print(t.word_index)\n",
    "\n",
    "test=\"The earth is an great place to live\"\n",
    "t.texts_to_sequences([test])"
   ]
  },
  {
   "cell_type": "code",
   "execution_count": 24,
   "metadata": {},
   "outputs": [
    {
     "data": {
      "text/plain": [
       "array([[10, 20, 30,  0,  0],\n",
       "       [40, 50,  0,  0,  0],\n",
       "       [60, 70, 80, 90,  0]])"
      ]
     },
     "execution_count": 24,
     "metadata": {},
     "output_type": "execute_result"
    }
   ],
   "source": [
    "# padding: 길이를 동일하게 맞춰주는 작업\n",
    "from keras.preprocessing.sequence import pad_sequences\n",
    "pad_sequences([[10,20,30],[40,50],[60,70,80,90]], maxlen=5, padding='post')"
   ]
  },
  {
   "cell_type": "code",
   "execution_count": 26,
   "metadata": {},
   "outputs": [
    {
     "name": "stdout",
     "output_type": "stream",
     "text": [
      "_________________________________________________________________\n",
      "Layer (type)                 Output Shape              Param #   \n",
      "=================================================================\n",
      "dense_2 (Dense)              (None, 8)                 40        \n",
      "_________________________________________________________________\n",
      "dense_3 (Dense)              (None, 8)                 72        \n",
      "_________________________________________________________________\n",
      "dense_4 (Dense)              (None, 3)                 27        \n",
      "=================================================================\n",
      "Total params: 139\n",
      "Trainable params: 139\n",
      "Non-trainable params: 0\n",
      "_________________________________________________________________\n"
     ]
    }
   ],
   "source": [
    "model.summary()"
   ]
  },
  {
   "cell_type": "code",
   "execution_count": 27,
   "metadata": {},
   "outputs": [
    {
     "ename": "NameError",
     "evalue": "name 'xinput' is not defined",
     "output_type": "error",
     "traceback": [
      "\u001b[1;31m---------------------------------------------------------------------------\u001b[0m",
      "\u001b[1;31mNameError\u001b[0m                                 Traceback (most recent call last)",
      "\u001b[1;32m<ipython-input-27-1e4cb67af539>\u001b[0m in \u001b[0;36m<module>\u001b[1;34m\u001b[0m\n\u001b[0;32m      2\u001b[0m \u001b[1;31m# model.evaluate(xtest, ytest, batch_size=32)\u001b[0m\u001b[1;33m\u001b[0m\u001b[1;33m\u001b[0m\u001b[1;33m\u001b[0m\u001b[0m\n\u001b[0;32m      3\u001b[0m \u001b[1;33m\u001b[0m\u001b[0m\n\u001b[1;32m----> 4\u001b[1;33m \u001b[0mmodel\u001b[0m\u001b[1;33m.\u001b[0m\u001b[0mpredict\u001b[0m\u001b[1;33m(\u001b[0m\u001b[0mxinput\u001b[0m\u001b[1;33m,\u001b[0m \u001b[0mbatch_size\u001b[0m\u001b[1;33m=\u001b[0m\u001b[1;36m32\u001b[0m\u001b[1;33m)\u001b[0m\u001b[1;33m\u001b[0m\u001b[1;33m\u001b[0m\u001b[0m\n\u001b[0m\u001b[0;32m      5\u001b[0m \u001b[1;31m#모델 저장\u001b[0m\u001b[1;33m\u001b[0m\u001b[1;33m\u001b[0m\u001b[1;33m\u001b[0m\u001b[0m\n\u001b[0;32m      6\u001b[0m \u001b[0mmodel\u001b[0m\u001b[1;33m.\u001b[0m\u001b[0msave\u001b[0m\u001b[1;33m(\u001b[0m\u001b[1;34m\"my_model.h5\"\u001b[0m\u001b[1;33m)\u001b[0m\u001b[1;33m\u001b[0m\u001b[1;33m\u001b[0m\u001b[0m\n",
      "\u001b[1;31mNameError\u001b[0m: name 'xinput' is not defined"
     ]
    }
   ],
   "source": [
    "# model.fit(xtrain, ytrain, epochs=10, batch_size=64)\n",
    "# model.evaluate(xtest, ytest, batch_size=32)\n",
    "\n",
    "model.predict(xinput, batch_size=32)\n",
    "#모델 저장\n",
    "model.save(\"my_model.h5\")\n",
    "#모델 불러오기\n",
    "from keras.models import load_model\n",
    "model=load_model(\"my_model.h5\")"
   ]
  },
  {
   "cell_type": "code",
   "execution_count": 32,
   "metadata": {},
   "outputs": [
    {
     "name": "stdout",
     "output_type": "stream",
     "text": [
      "0 0.15347241\n",
      "20 0.009408181\n",
      "40 0.0035546666\n",
      "60 0.0013430527\n",
      "80 0.0005074429\n",
      "100 0.00019172563\n",
      "120 7.243924e-05\n",
      "140 2.7368907e-05\n",
      "160 1.0340785e-05\n",
      "180 3.906789e-06\n",
      "200 1.4761517e-06\n",
      "220 5.5775735e-07\n",
      "240 2.1073741e-07\n",
      "260 7.963293e-08\n",
      "280 3.008144e-08\n",
      "300 1.1351105e-08\n",
      "320 4.294241e-09\n",
      "340 1.6279967e-09\n",
      "360 6.1381894e-10\n",
      "380 2.3129232e-10\n",
      "400 8.6895824e-11\n",
      "420 3.3008263e-11\n",
      "440 1.2468841e-11\n",
      "460 5.02709e-12\n",
      "480 1.9184654e-12\n",
      "500 7.8633394e-13\n",
      "520 2.9487524e-13\n",
      "540 1.373716e-13\n",
      "560 4.8553755e-14\n",
      "580 3.7895614e-14\n",
      "600 3.7895614e-14\n",
      "620 3.7895614e-14\n",
      "640 3.7895614e-14\n",
      "660 3.7895614e-14\n",
      "680 3.7895614e-14\n",
      "700 3.7895614e-14\n",
      "720 3.7895614e-14\n",
      "740 3.7895614e-14\n",
      "760 3.7895614e-14\n",
      "780 3.7895614e-14\n",
      "800 3.7895614e-14\n",
      "820 3.7895614e-14\n",
      "840 3.7895614e-14\n",
      "860 3.7895614e-14\n",
      "880 3.7895614e-14\n",
      "900 3.7895614e-14\n",
      "920 3.7895614e-14\n",
      "940 3.7895614e-14\n",
      "960 3.7895614e-14\n",
      "980 3.7895614e-14\n",
      "1000 3.7895614e-14\n",
      "1020 3.7895614e-14\n",
      "1040 3.7895614e-14\n",
      "1060 3.7895614e-14\n",
      "1080 3.7895614e-14\n",
      "1100 3.7895614e-14\n",
      "1120 3.7895614e-14\n",
      "1140 3.7895614e-14\n",
      "1160 3.7895614e-14\n",
      "1180 3.7895614e-14\n",
      "1200 3.7895614e-14\n",
      "1220 3.7895614e-14\n",
      "1240 3.7895614e-14\n",
      "1260 3.7895614e-14\n",
      "1280 3.7895614e-14\n",
      "1300 3.7895614e-14\n",
      "1320 3.7895614e-14\n",
      "1340 3.7895614e-14\n",
      "1360 3.7895614e-14\n",
      "1380 3.7895614e-14\n",
      "1400 3.7895614e-14\n",
      "1420 3.7895614e-14\n",
      "1440 3.7895614e-14\n",
      "1460 3.7895614e-14\n",
      "1480 3.7895614e-14\n",
      "1500 3.7895614e-14\n",
      "1520 3.7895614e-14\n",
      "1540 3.7895614e-14\n",
      "1560 3.7895614e-14\n",
      "1580 3.7895614e-14\n",
      "1600 3.7895614e-14\n",
      "1620 3.7895614e-14\n",
      "1640 3.7895614e-14\n",
      "1660 3.7895614e-14\n",
      "1680 3.7895614e-14\n",
      "1700 3.7895614e-14\n",
      "1720 3.7895614e-14\n",
      "1740 3.7895614e-14\n",
      "1760 3.7895614e-14\n",
      "1780 3.7895614e-14\n",
      "1800 3.7895614e-14\n",
      "1820 3.7895614e-14\n",
      "1840 3.7895614e-14\n",
      "1860 3.7895614e-14\n",
      "1880 3.7895614e-14\n",
      "1900 3.7895614e-14\n",
      "1920 3.7895614e-14\n",
      "1940 3.7895614e-14\n",
      "1960 3.7895614e-14\n",
      "1980 3.7895614e-14\n",
      "2000 3.7895614e-14\n"
     ]
    }
   ],
   "source": [
    "import tensorflow as tf\n",
    "xdata=[1,2,3]\n",
    "ydata=[1,2,3]\n",
    "\n",
    "x=tf.placeholder(tf.float32)\n",
    "y=tf.placeholder(tf.float32)\n",
    "\n",
    "w=tf.Variable(tf.random_normal([1]))\n",
    "b=tf.Variable(tf.random_normal([1]))\n",
    "\n",
    "hf=w*x+b\n",
    "cost=tf.reduce_mean((hf-y)**2)\n",
    "\n",
    "train=tf.train.GradientDescentOptimizer(0.1).minimize(cost)\n",
    "sess=tf.Session()\n",
    "sess.run(tf.global_variables_initializer())\n",
    "feed={x:xdata, y:ydata}\n",
    "\n",
    "saver=tf.train.Saver()\n",
    "for i in range(2001):\n",
    "    sess.run(train, feed_dict=feed)\n",
    "    if i%20==0:\n",
    "        print(i, sess.run(cost, feed_dict=feed))\n",
    "saver.save(sess, 'Model/first')"
   ]
  },
  {
   "cell_type": "code",
   "execution_count": 33,
   "metadata": {},
   "outputs": [
    {
     "name": "stdout",
     "output_type": "stream",
     "text": [
      "0 0.400744\n",
      "20 0.11020905\n",
      "40 0.04163995\n",
      "60 0.015732685\n",
      "80 0.0059442404\n"
     ]
    },
    {
     "name": "stderr",
     "output_type": "stream",
     "text": [
      "W0814 13:57:06.483328   244 deprecation.py:323] From C:\\Users\\Kyujin\\Anaconda3\\lib\\site-packages\\tensorflow\\python\\training\\saver.py:960: remove_checkpoint (from tensorflow.python.training.checkpoint_management) is deprecated and will be removed in a future version.\n",
      "Instructions for updating:\n",
      "Use standard file APIs to delete files with this prefix.\n"
     ]
    },
    {
     "name": "stdout",
     "output_type": "stream",
     "text": [
      "100 0.0022458925\n",
      "120 0.00084856135\n",
      "140 0.00032060727\n",
      "160 0.0001211334\n",
      "180 4.576778e-05\n",
      "200 1.7292272e-05\n",
      "220 6.5331283e-06\n",
      "240 2.4682588e-06\n",
      "260 9.326765e-07\n",
      "280 3.5235237e-07\n",
      "300 1.3313314e-07\n",
      "320 5.0301082e-08\n",
      "340 1.9002854e-08\n",
      "360 7.1796884e-09\n",
      "380 2.7085132e-09\n",
      "400 1.0262559e-09\n",
      "420 3.8835898e-10\n",
      "440 1.4690708e-10\n",
      "460 5.648341e-11\n",
      "480 2.0923116e-11\n",
      "500 8.000711e-12\n",
      "520 3.0932294e-12\n",
      "540 1.1226575e-12\n",
      "560 4.92643e-13\n",
      "580 1.563194e-13\n",
      "600 6.158037e-14\n",
      "620 6.158037e-14\n",
      "640 1.8947807e-14\n",
      "660 4.7369517e-15\n",
      "680 0.0\n",
      "700 0.0\n",
      "720 0.0\n",
      "740 0.0\n",
      "760 0.0\n",
      "780 0.0\n",
      "800 0.0\n",
      "820 0.0\n",
      "840 0.0\n",
      "860 0.0\n",
      "880 0.0\n",
      "900 0.0\n",
      "920 0.0\n",
      "940 0.0\n",
      "960 0.0\n",
      "980 0.0\n",
      "1000 0.0\n",
      "1020 0.0\n",
      "1040 0.0\n",
      "1060 0.0\n",
      "1080 0.0\n",
      "1100 0.0\n",
      "1120 0.0\n",
      "1140 0.0\n",
      "1160 0.0\n",
      "1180 0.0\n",
      "1200 0.0\n",
      "1220 0.0\n",
      "1240 0.0\n",
      "1260 0.0\n",
      "1280 0.0\n",
      "1300 0.0\n",
      "1320 0.0\n",
      "1340 0.0\n",
      "1360 0.0\n",
      "1380 0.0\n",
      "1400 0.0\n",
      "1420 0.0\n",
      "1440 0.0\n",
      "1460 0.0\n",
      "1480 0.0\n",
      "1500 0.0\n",
      "1520 0.0\n",
      "1540 0.0\n",
      "1560 0.0\n",
      "1580 0.0\n",
      "1600 0.0\n",
      "1620 0.0\n",
      "1640 0.0\n",
      "1660 0.0\n",
      "1680 0.0\n",
      "1700 0.0\n",
      "1720 0.0\n",
      "1740 0.0\n",
      "1760 0.0\n",
      "1780 0.0\n",
      "1800 0.0\n",
      "1820 0.0\n",
      "1840 0.0\n",
      "1860 0.0\n",
      "1880 0.0\n",
      "1900 0.0\n",
      "1920 0.0\n",
      "1940 0.0\n",
      "1960 0.0\n",
      "1980 0.0\n",
      "2000 0.0\n"
     ]
    },
    {
     "data": {
      "text/plain": [
       "'Model/first'"
      ]
     },
     "execution_count": 33,
     "metadata": {},
     "output_type": "execute_result"
    }
   ],
   "source": [
    "import tensorflow as tf\n",
    "xdata=[1,2,3]\n",
    "ydata=[1,2,3]\n",
    "\n",
    "x=tf.placeholder(tf.float32)\n",
    "y=tf.placeholder(tf.float32)\n",
    "\n",
    "w=tf.Variable(tf.random_normal([1]))\n",
    "b=tf.Variable(tf.random_normal([1]))\n",
    "\n",
    "hf=w*x+b\n",
    "cost=tf.reduce_mean((hf-y)**2)\n",
    "\n",
    "train=tf.train.GradientDescentOptimizer(0.1).minimize(cost)\n",
    "sess=tf.Session()\n",
    "sess.run(tf.global_variables_initializer())\n",
    "feed={x:xdata, y:ydata}\n",
    "\n",
    "saver=tf.train.Saver()\n",
    "for i in range(2001):\n",
    "    sess.run(train, feed_dict=feed)\n",
    "    if i%20==0:\n",
    "        print(i, sess.run(cost, feed_dict=feed))\n",
    "        saver.save(sess, 'Model/second', global_step=i)\n",
    "saver.save(sess, 'Model/first')"
   ]
  },
  {
   "cell_type": "code",
   "execution_count": 42,
   "metadata": {},
   "outputs": [
    {
     "name": "stdout",
     "output_type": "stream",
     "text": [
      "Model\\first\n"
     ]
    },
    {
     "ename": "NotFoundError",
     "evalue": "Restoring from checkpoint failed. This is most likely due to a Variable name or other graph key that is missing from the checkpoint. Please ensure that you have not altered the graph expected based on the checkpoint. Original error:\n\nKey Variable_10 not found in checkpoint\n\t [[node save_9/RestoreV2 (defined at <ipython-input-42-e08f585e50ea>:19) ]]\n\nOriginal stack trace for 'save_9/RestoreV2':\n  File \"C:\\Users\\Kyujin\\Anaconda3\\lib\\runpy.py\", line 193, in _run_module_as_main\n    \"__main__\", mod_spec)\n  File \"C:\\Users\\Kyujin\\Anaconda3\\lib\\runpy.py\", line 85, in _run_code\n    exec(code, run_globals)\n  File \"C:\\Users\\Kyujin\\Anaconda3\\lib\\site-packages\\ipykernel_launcher.py\", line 16, in <module>\n    app.launch_new_instance()\n  File \"C:\\Users\\Kyujin\\Anaconda3\\lib\\site-packages\\traitlets\\config\\application.py\", line 658, in launch_instance\n    app.start()\n  File \"C:\\Users\\Kyujin\\Anaconda3\\lib\\site-packages\\ipykernel\\kernelapp.py\", line 505, in start\n    self.io_loop.start()\n  File \"C:\\Users\\Kyujin\\Anaconda3\\lib\\site-packages\\tornado\\platform\\asyncio.py\", line 148, in start\n    self.asyncio_loop.run_forever()\n  File \"C:\\Users\\Kyujin\\Anaconda3\\lib\\asyncio\\base_events.py\", line 539, in run_forever\n    self._run_once()\n  File \"C:\\Users\\Kyujin\\Anaconda3\\lib\\asyncio\\base_events.py\", line 1775, in _run_once\n    handle._run()\n  File \"C:\\Users\\Kyujin\\Anaconda3\\lib\\asyncio\\events.py\", line 88, in _run\n    self._context.run(self._callback, *self._args)\n  File \"C:\\Users\\Kyujin\\Anaconda3\\lib\\site-packages\\tornado\\ioloop.py\", line 690, in <lambda>\n    lambda f: self._run_callback(functools.partial(callback, future))\n  File \"C:\\Users\\Kyujin\\Anaconda3\\lib\\site-packages\\tornado\\ioloop.py\", line 743, in _run_callback\n    ret = callback()\n  File \"C:\\Users\\Kyujin\\Anaconda3\\lib\\site-packages\\tornado\\gen.py\", line 781, in inner\n    self.run()\n  File \"C:\\Users\\Kyujin\\Anaconda3\\lib\\site-packages\\tornado\\gen.py\", line 742, in run\n    yielded = self.gen.send(value)\n  File \"C:\\Users\\Kyujin\\Anaconda3\\lib\\site-packages\\ipykernel\\kernelbase.py\", line 357, in process_one\n    yield gen.maybe_future(dispatch(*args))\n  File \"C:\\Users\\Kyujin\\Anaconda3\\lib\\site-packages\\tornado\\gen.py\", line 209, in wrapper\n    yielded = next(result)\n  File \"C:\\Users\\Kyujin\\Anaconda3\\lib\\site-packages\\ipykernel\\kernelbase.py\", line 267, in dispatch_shell\n    yield gen.maybe_future(handler(stream, idents, msg))\n  File \"C:\\Users\\Kyujin\\Anaconda3\\lib\\site-packages\\tornado\\gen.py\", line 209, in wrapper\n    yielded = next(result)\n  File \"C:\\Users\\Kyujin\\Anaconda3\\lib\\site-packages\\ipykernel\\kernelbase.py\", line 534, in execute_request\n    user_expressions, allow_stdin,\n  File \"C:\\Users\\Kyujin\\Anaconda3\\lib\\site-packages\\tornado\\gen.py\", line 209, in wrapper\n    yielded = next(result)\n  File \"C:\\Users\\Kyujin\\Anaconda3\\lib\\site-packages\\ipykernel\\ipkernel.py\", line 294, in do_execute\n    res = shell.run_cell(code, store_history=store_history, silent=silent)\n  File \"C:\\Users\\Kyujin\\Anaconda3\\lib\\site-packages\\ipykernel\\zmqshell.py\", line 536, in run_cell\n    return super(ZMQInteractiveShell, self).run_cell(*args, **kwargs)\n  File \"C:\\Users\\Kyujin\\Anaconda3\\lib\\site-packages\\IPython\\core\\interactiveshell.py\", line 2848, in run_cell\n    raw_cell, store_history, silent, shell_futures)\n  File \"C:\\Users\\Kyujin\\Anaconda3\\lib\\site-packages\\IPython\\core\\interactiveshell.py\", line 2874, in _run_cell\n    return runner(coro)\n  File \"C:\\Users\\Kyujin\\Anaconda3\\lib\\site-packages\\IPython\\core\\async_helpers.py\", line 67, in _pseudo_sync_runner\n    coro.send(None)\n  File \"C:\\Users\\Kyujin\\Anaconda3\\lib\\site-packages\\IPython\\core\\interactiveshell.py\", line 3049, in run_cell_async\n    interactivity=interactivity, compiler=compiler, result=result)\n  File \"C:\\Users\\Kyujin\\Anaconda3\\lib\\site-packages\\IPython\\core\\interactiveshell.py\", line 3214, in run_ast_nodes\n    if (yield from self.run_code(code, result)):\n  File \"C:\\Users\\Kyujin\\Anaconda3\\lib\\site-packages\\IPython\\core\\interactiveshell.py\", line 3296, in run_code\n    exec(code_obj, self.user_global_ns, self.user_ns)\n  File \"<ipython-input-42-e08f585e50ea>\", line 19, in <module>\n    saver=tf.train.Saver()\n  File \"C:\\Users\\Kyujin\\Anaconda3\\lib\\site-packages\\tensorflow\\python\\training\\saver.py\", line 825, in __init__\n    self.build()\n  File \"C:\\Users\\Kyujin\\Anaconda3\\lib\\site-packages\\tensorflow\\python\\training\\saver.py\", line 837, in build\n    self._build(self._filename, build_save=True, build_restore=True)\n  File \"C:\\Users\\Kyujin\\Anaconda3\\lib\\site-packages\\tensorflow\\python\\training\\saver.py\", line 875, in _build\n    build_restore=build_restore)\n  File \"C:\\Users\\Kyujin\\Anaconda3\\lib\\site-packages\\tensorflow\\python\\training\\saver.py\", line 508, in _build_internal\n    restore_sequentially, reshape)\n  File \"C:\\Users\\Kyujin\\Anaconda3\\lib\\site-packages\\tensorflow\\python\\training\\saver.py\", line 328, in _AddRestoreOps\n    restore_sequentially)\n  File \"C:\\Users\\Kyujin\\Anaconda3\\lib\\site-packages\\tensorflow\\python\\training\\saver.py\", line 575, in bulk_restore\n    return io_ops.restore_v2(filename_tensor, names, slices, dtypes)\n  File \"C:\\Users\\Kyujin\\Anaconda3\\lib\\site-packages\\tensorflow\\python\\ops\\gen_io_ops.py\", line 1779, in restore_v2\n    name=name)\n  File \"C:\\Users\\Kyujin\\Anaconda3\\lib\\site-packages\\tensorflow\\python\\framework\\op_def_library.py\", line 788, in _apply_op_helper\n    op_def=op_def)\n  File \"C:\\Users\\Kyujin\\Anaconda3\\lib\\site-packages\\tensorflow\\python\\util\\deprecation.py\", line 507, in new_func\n    return func(*args, **kwargs)\n  File \"C:\\Users\\Kyujin\\Anaconda3\\lib\\site-packages\\tensorflow\\python\\framework\\ops.py\", line 3616, in create_op\n    op_def=op_def)\n  File \"C:\\Users\\Kyujin\\Anaconda3\\lib\\site-packages\\tensorflow\\python\\framework\\ops.py\", line 2005, in __init__\n    self._traceback = tf_stack.extract_stack()\n",
     "output_type": "error",
     "traceback": [
      "\u001b[1;31m---------------------------------------------------------------------------\u001b[0m",
      "\u001b[1;31mNotFoundError\u001b[0m                             Traceback (most recent call last)",
      "\u001b[1;32m~\\Anaconda3\\lib\\site-packages\\tensorflow\\python\\client\\session.py\u001b[0m in \u001b[0;36m_do_call\u001b[1;34m(self, fn, *args)\u001b[0m\n\u001b[0;32m   1355\u001b[0m     \u001b[1;32mtry\u001b[0m\u001b[1;33m:\u001b[0m\u001b[1;33m\u001b[0m\u001b[1;33m\u001b[0m\u001b[0m\n\u001b[1;32m-> 1356\u001b[1;33m       \u001b[1;32mreturn\u001b[0m \u001b[0mfn\u001b[0m\u001b[1;33m(\u001b[0m\u001b[1;33m*\u001b[0m\u001b[0margs\u001b[0m\u001b[1;33m)\u001b[0m\u001b[1;33m\u001b[0m\u001b[1;33m\u001b[0m\u001b[0m\n\u001b[0m\u001b[0;32m   1357\u001b[0m     \u001b[1;32mexcept\u001b[0m \u001b[0merrors\u001b[0m\u001b[1;33m.\u001b[0m\u001b[0mOpError\u001b[0m \u001b[1;32mas\u001b[0m \u001b[0me\u001b[0m\u001b[1;33m:\u001b[0m\u001b[1;33m\u001b[0m\u001b[1;33m\u001b[0m\u001b[0m\n",
      "\u001b[1;32m~\\Anaconda3\\lib\\site-packages\\tensorflow\\python\\client\\session.py\u001b[0m in \u001b[0;36m_run_fn\u001b[1;34m(feed_dict, fetch_list, target_list, options, run_metadata)\u001b[0m\n\u001b[0;32m   1340\u001b[0m       return self._call_tf_sessionrun(\n\u001b[1;32m-> 1341\u001b[1;33m           options, feed_dict, fetch_list, target_list, run_metadata)\n\u001b[0m\u001b[0;32m   1342\u001b[0m \u001b[1;33m\u001b[0m\u001b[0m\n",
      "\u001b[1;32m~\\Anaconda3\\lib\\site-packages\\tensorflow\\python\\client\\session.py\u001b[0m in \u001b[0;36m_call_tf_sessionrun\u001b[1;34m(self, options, feed_dict, fetch_list, target_list, run_metadata)\u001b[0m\n\u001b[0;32m   1428\u001b[0m         \u001b[0mself\u001b[0m\u001b[1;33m.\u001b[0m\u001b[0m_session\u001b[0m\u001b[1;33m,\u001b[0m \u001b[0moptions\u001b[0m\u001b[1;33m,\u001b[0m \u001b[0mfeed_dict\u001b[0m\u001b[1;33m,\u001b[0m \u001b[0mfetch_list\u001b[0m\u001b[1;33m,\u001b[0m \u001b[0mtarget_list\u001b[0m\u001b[1;33m,\u001b[0m\u001b[1;33m\u001b[0m\u001b[1;33m\u001b[0m\u001b[0m\n\u001b[1;32m-> 1429\u001b[1;33m         run_metadata)\n\u001b[0m\u001b[0;32m   1430\u001b[0m \u001b[1;33m\u001b[0m\u001b[0m\n",
      "\u001b[1;31mNotFoundError\u001b[0m: Key Variable_10 not found in checkpoint\n\t [[{{node save_9/RestoreV2}}]]",
      "\nDuring handling of the above exception, another exception occurred:\n",
      "\u001b[1;31mNotFoundError\u001b[0m                             Traceback (most recent call last)",
      "\u001b[1;32m~\\Anaconda3\\lib\\site-packages\\tensorflow\\python\\training\\saver.py\u001b[0m in \u001b[0;36mrestore\u001b[1;34m(self, sess, save_path)\u001b[0m\n\u001b[0;32m   1285\u001b[0m         sess.run(self.saver_def.restore_op_name,\n\u001b[1;32m-> 1286\u001b[1;33m                  {self.saver_def.filename_tensor_name: save_path})\n\u001b[0m\u001b[0;32m   1287\u001b[0m     \u001b[1;32mexcept\u001b[0m \u001b[0merrors\u001b[0m\u001b[1;33m.\u001b[0m\u001b[0mNotFoundError\u001b[0m \u001b[1;32mas\u001b[0m \u001b[0merr\u001b[0m\u001b[1;33m:\u001b[0m\u001b[1;33m\u001b[0m\u001b[1;33m\u001b[0m\u001b[0m\n",
      "\u001b[1;32m~\\Anaconda3\\lib\\site-packages\\tensorflow\\python\\client\\session.py\u001b[0m in \u001b[0;36mrun\u001b[1;34m(self, fetches, feed_dict, options, run_metadata)\u001b[0m\n\u001b[0;32m    949\u001b[0m       result = self._run(None, fetches, feed_dict, options_ptr,\n\u001b[1;32m--> 950\u001b[1;33m                          run_metadata_ptr)\n\u001b[0m\u001b[0;32m    951\u001b[0m       \u001b[1;32mif\u001b[0m \u001b[0mrun_metadata\u001b[0m\u001b[1;33m:\u001b[0m\u001b[1;33m\u001b[0m\u001b[1;33m\u001b[0m\u001b[0m\n",
      "\u001b[1;32m~\\Anaconda3\\lib\\site-packages\\tensorflow\\python\\client\\session.py\u001b[0m in \u001b[0;36m_run\u001b[1;34m(self, handle, fetches, feed_dict, options, run_metadata)\u001b[0m\n\u001b[0;32m   1172\u001b[0m       results = self._do_run(handle, final_targets, final_fetches,\n\u001b[1;32m-> 1173\u001b[1;33m                              feed_dict_tensor, options, run_metadata)\n\u001b[0m\u001b[0;32m   1174\u001b[0m     \u001b[1;32melse\u001b[0m\u001b[1;33m:\u001b[0m\u001b[1;33m\u001b[0m\u001b[1;33m\u001b[0m\u001b[0m\n",
      "\u001b[1;32m~\\Anaconda3\\lib\\site-packages\\tensorflow\\python\\client\\session.py\u001b[0m in \u001b[0;36m_do_run\u001b[1;34m(self, handle, target_list, fetch_list, feed_dict, options, run_metadata)\u001b[0m\n\u001b[0;32m   1349\u001b[0m       return self._do_call(_run_fn, feeds, fetches, targets, options,\n\u001b[1;32m-> 1350\u001b[1;33m                            run_metadata)\n\u001b[0m\u001b[0;32m   1351\u001b[0m     \u001b[1;32melse\u001b[0m\u001b[1;33m:\u001b[0m\u001b[1;33m\u001b[0m\u001b[1;33m\u001b[0m\u001b[0m\n",
      "\u001b[1;32m~\\Anaconda3\\lib\\site-packages\\tensorflow\\python\\client\\session.py\u001b[0m in \u001b[0;36m_do_call\u001b[1;34m(self, fn, *args)\u001b[0m\n\u001b[0;32m   1369\u001b[0m       \u001b[0mmessage\u001b[0m \u001b[1;33m=\u001b[0m \u001b[0merror_interpolation\u001b[0m\u001b[1;33m.\u001b[0m\u001b[0minterpolate\u001b[0m\u001b[1;33m(\u001b[0m\u001b[0mmessage\u001b[0m\u001b[1;33m,\u001b[0m \u001b[0mself\u001b[0m\u001b[1;33m.\u001b[0m\u001b[0m_graph\u001b[0m\u001b[1;33m)\u001b[0m\u001b[1;33m\u001b[0m\u001b[1;33m\u001b[0m\u001b[0m\n\u001b[1;32m-> 1370\u001b[1;33m       \u001b[1;32mraise\u001b[0m \u001b[0mtype\u001b[0m\u001b[1;33m(\u001b[0m\u001b[0me\u001b[0m\u001b[1;33m)\u001b[0m\u001b[1;33m(\u001b[0m\u001b[0mnode_def\u001b[0m\u001b[1;33m,\u001b[0m \u001b[0mop\u001b[0m\u001b[1;33m,\u001b[0m \u001b[0mmessage\u001b[0m\u001b[1;33m)\u001b[0m\u001b[1;33m\u001b[0m\u001b[1;33m\u001b[0m\u001b[0m\n\u001b[0m\u001b[0;32m   1371\u001b[0m \u001b[1;33m\u001b[0m\u001b[0m\n",
      "\u001b[1;31mNotFoundError\u001b[0m: Key Variable_10 not found in checkpoint\n\t [[node save_9/RestoreV2 (defined at <ipython-input-42-e08f585e50ea>:19) ]]\n\nOriginal stack trace for 'save_9/RestoreV2':\n  File \"C:\\Users\\Kyujin\\Anaconda3\\lib\\runpy.py\", line 193, in _run_module_as_main\n    \"__main__\", mod_spec)\n  File \"C:\\Users\\Kyujin\\Anaconda3\\lib\\runpy.py\", line 85, in _run_code\n    exec(code, run_globals)\n  File \"C:\\Users\\Kyujin\\Anaconda3\\lib\\site-packages\\ipykernel_launcher.py\", line 16, in <module>\n    app.launch_new_instance()\n  File \"C:\\Users\\Kyujin\\Anaconda3\\lib\\site-packages\\traitlets\\config\\application.py\", line 658, in launch_instance\n    app.start()\n  File \"C:\\Users\\Kyujin\\Anaconda3\\lib\\site-packages\\ipykernel\\kernelapp.py\", line 505, in start\n    self.io_loop.start()\n  File \"C:\\Users\\Kyujin\\Anaconda3\\lib\\site-packages\\tornado\\platform\\asyncio.py\", line 148, in start\n    self.asyncio_loop.run_forever()\n  File \"C:\\Users\\Kyujin\\Anaconda3\\lib\\asyncio\\base_events.py\", line 539, in run_forever\n    self._run_once()\n  File \"C:\\Users\\Kyujin\\Anaconda3\\lib\\asyncio\\base_events.py\", line 1775, in _run_once\n    handle._run()\n  File \"C:\\Users\\Kyujin\\Anaconda3\\lib\\asyncio\\events.py\", line 88, in _run\n    self._context.run(self._callback, *self._args)\n  File \"C:\\Users\\Kyujin\\Anaconda3\\lib\\site-packages\\tornado\\ioloop.py\", line 690, in <lambda>\n    lambda f: self._run_callback(functools.partial(callback, future))\n  File \"C:\\Users\\Kyujin\\Anaconda3\\lib\\site-packages\\tornado\\ioloop.py\", line 743, in _run_callback\n    ret = callback()\n  File \"C:\\Users\\Kyujin\\Anaconda3\\lib\\site-packages\\tornado\\gen.py\", line 781, in inner\n    self.run()\n  File \"C:\\Users\\Kyujin\\Anaconda3\\lib\\site-packages\\tornado\\gen.py\", line 742, in run\n    yielded = self.gen.send(value)\n  File \"C:\\Users\\Kyujin\\Anaconda3\\lib\\site-packages\\ipykernel\\kernelbase.py\", line 357, in process_one\n    yield gen.maybe_future(dispatch(*args))\n  File \"C:\\Users\\Kyujin\\Anaconda3\\lib\\site-packages\\tornado\\gen.py\", line 209, in wrapper\n    yielded = next(result)\n  File \"C:\\Users\\Kyujin\\Anaconda3\\lib\\site-packages\\ipykernel\\kernelbase.py\", line 267, in dispatch_shell\n    yield gen.maybe_future(handler(stream, idents, msg))\n  File \"C:\\Users\\Kyujin\\Anaconda3\\lib\\site-packages\\tornado\\gen.py\", line 209, in wrapper\n    yielded = next(result)\n  File \"C:\\Users\\Kyujin\\Anaconda3\\lib\\site-packages\\ipykernel\\kernelbase.py\", line 534, in execute_request\n    user_expressions, allow_stdin,\n  File \"C:\\Users\\Kyujin\\Anaconda3\\lib\\site-packages\\tornado\\gen.py\", line 209, in wrapper\n    yielded = next(result)\n  File \"C:\\Users\\Kyujin\\Anaconda3\\lib\\site-packages\\ipykernel\\ipkernel.py\", line 294, in do_execute\n    res = shell.run_cell(code, store_history=store_history, silent=silent)\n  File \"C:\\Users\\Kyujin\\Anaconda3\\lib\\site-packages\\ipykernel\\zmqshell.py\", line 536, in run_cell\n    return super(ZMQInteractiveShell, self).run_cell(*args, **kwargs)\n  File \"C:\\Users\\Kyujin\\Anaconda3\\lib\\site-packages\\IPython\\core\\interactiveshell.py\", line 2848, in run_cell\n    raw_cell, store_history, silent, shell_futures)\n  File \"C:\\Users\\Kyujin\\Anaconda3\\lib\\site-packages\\IPython\\core\\interactiveshell.py\", line 2874, in _run_cell\n    return runner(coro)\n  File \"C:\\Users\\Kyujin\\Anaconda3\\lib\\site-packages\\IPython\\core\\async_helpers.py\", line 67, in _pseudo_sync_runner\n    coro.send(None)\n  File \"C:\\Users\\Kyujin\\Anaconda3\\lib\\site-packages\\IPython\\core\\interactiveshell.py\", line 3049, in run_cell_async\n    interactivity=interactivity, compiler=compiler, result=result)\n  File \"C:\\Users\\Kyujin\\Anaconda3\\lib\\site-packages\\IPython\\core\\interactiveshell.py\", line 3214, in run_ast_nodes\n    if (yield from self.run_code(code, result)):\n  File \"C:\\Users\\Kyujin\\Anaconda3\\lib\\site-packages\\IPython\\core\\interactiveshell.py\", line 3296, in run_code\n    exec(code_obj, self.user_global_ns, self.user_ns)\n  File \"<ipython-input-42-e08f585e50ea>\", line 19, in <module>\n    saver=tf.train.Saver()\n  File \"C:\\Users\\Kyujin\\Anaconda3\\lib\\site-packages\\tensorflow\\python\\training\\saver.py\", line 825, in __init__\n    self.build()\n  File \"C:\\Users\\Kyujin\\Anaconda3\\lib\\site-packages\\tensorflow\\python\\training\\saver.py\", line 837, in build\n    self._build(self._filename, build_save=True, build_restore=True)\n  File \"C:\\Users\\Kyujin\\Anaconda3\\lib\\site-packages\\tensorflow\\python\\training\\saver.py\", line 875, in _build\n    build_restore=build_restore)\n  File \"C:\\Users\\Kyujin\\Anaconda3\\lib\\site-packages\\tensorflow\\python\\training\\saver.py\", line 508, in _build_internal\n    restore_sequentially, reshape)\n  File \"C:\\Users\\Kyujin\\Anaconda3\\lib\\site-packages\\tensorflow\\python\\training\\saver.py\", line 328, in _AddRestoreOps\n    restore_sequentially)\n  File \"C:\\Users\\Kyujin\\Anaconda3\\lib\\site-packages\\tensorflow\\python\\training\\saver.py\", line 575, in bulk_restore\n    return io_ops.restore_v2(filename_tensor, names, slices, dtypes)\n  File \"C:\\Users\\Kyujin\\Anaconda3\\lib\\site-packages\\tensorflow\\python\\ops\\gen_io_ops.py\", line 1779, in restore_v2\n    name=name)\n  File \"C:\\Users\\Kyujin\\Anaconda3\\lib\\site-packages\\tensorflow\\python\\framework\\op_def_library.py\", line 788, in _apply_op_helper\n    op_def=op_def)\n  File \"C:\\Users\\Kyujin\\Anaconda3\\lib\\site-packages\\tensorflow\\python\\util\\deprecation.py\", line 507, in new_func\n    return func(*args, **kwargs)\n  File \"C:\\Users\\Kyujin\\Anaconda3\\lib\\site-packages\\tensorflow\\python\\framework\\ops.py\", line 3616, in create_op\n    op_def=op_def)\n  File \"C:\\Users\\Kyujin\\Anaconda3\\lib\\site-packages\\tensorflow\\python\\framework\\ops.py\", line 2005, in __init__\n    self._traceback = tf_stack.extract_stack()\n",
      "\nDuring handling of the above exception, another exception occurred:\n",
      "\u001b[1;31mNotFoundError\u001b[0m                             Traceback (most recent call last)",
      "\u001b[1;32m~\\Anaconda3\\lib\\site-packages\\tensorflow\\python\\training\\saver.py\u001b[0m in \u001b[0;36mrestore\u001b[1;34m(self, sess, save_path)\u001b[0m\n\u001b[0;32m   1295\u001b[0m       \u001b[1;32mtry\u001b[0m\u001b[1;33m:\u001b[0m\u001b[1;33m\u001b[0m\u001b[1;33m\u001b[0m\u001b[0m\n\u001b[1;32m-> 1296\u001b[1;33m         \u001b[0mnames_to_keys\u001b[0m \u001b[1;33m=\u001b[0m \u001b[0mobject_graph_key_mapping\u001b[0m\u001b[1;33m(\u001b[0m\u001b[0msave_path\u001b[0m\u001b[1;33m)\u001b[0m\u001b[1;33m\u001b[0m\u001b[1;33m\u001b[0m\u001b[0m\n\u001b[0m\u001b[0;32m   1297\u001b[0m       \u001b[1;32mexcept\u001b[0m \u001b[0merrors\u001b[0m\u001b[1;33m.\u001b[0m\u001b[0mNotFoundError\u001b[0m\u001b[1;33m:\u001b[0m\u001b[1;33m\u001b[0m\u001b[1;33m\u001b[0m\u001b[0m\n",
      "\u001b[1;32m~\\Anaconda3\\lib\\site-packages\\tensorflow\\python\\training\\saver.py\u001b[0m in \u001b[0;36mobject_graph_key_mapping\u001b[1;34m(checkpoint_path)\u001b[0m\n\u001b[0;32m   1613\u001b[0m   \u001b[0mreader\u001b[0m \u001b[1;33m=\u001b[0m \u001b[0mpywrap_tensorflow\u001b[0m\u001b[1;33m.\u001b[0m\u001b[0mNewCheckpointReader\u001b[0m\u001b[1;33m(\u001b[0m\u001b[0mcheckpoint_path\u001b[0m\u001b[1;33m)\u001b[0m\u001b[1;33m\u001b[0m\u001b[1;33m\u001b[0m\u001b[0m\n\u001b[1;32m-> 1614\u001b[1;33m   \u001b[0mobject_graph_string\u001b[0m \u001b[1;33m=\u001b[0m \u001b[0mreader\u001b[0m\u001b[1;33m.\u001b[0m\u001b[0mget_tensor\u001b[0m\u001b[1;33m(\u001b[0m\u001b[0mtrackable\u001b[0m\u001b[1;33m.\u001b[0m\u001b[0mOBJECT_GRAPH_PROTO_KEY\u001b[0m\u001b[1;33m)\u001b[0m\u001b[1;33m\u001b[0m\u001b[1;33m\u001b[0m\u001b[0m\n\u001b[0m\u001b[0;32m   1615\u001b[0m   \u001b[0mobject_graph_proto\u001b[0m \u001b[1;33m=\u001b[0m \u001b[1;33m(\u001b[0m\u001b[0mtrackable_object_graph_pb2\u001b[0m\u001b[1;33m.\u001b[0m\u001b[0mTrackableObjectGraph\u001b[0m\u001b[1;33m(\u001b[0m\u001b[1;33m)\u001b[0m\u001b[1;33m)\u001b[0m\u001b[1;33m\u001b[0m\u001b[1;33m\u001b[0m\u001b[0m\n",
      "\u001b[1;32m~\\Anaconda3\\lib\\site-packages\\tensorflow\\python\\pywrap_tensorflow_internal.py\u001b[0m in \u001b[0;36mget_tensor\u001b[1;34m(self, tensor_str)\u001b[0m\n\u001b[0;32m    677\u001b[0m \u001b[1;33m\u001b[0m\u001b[0m\n\u001b[1;32m--> 678\u001b[1;33m       \u001b[1;32mreturn\u001b[0m \u001b[0mCheckpointReader_GetTensor\u001b[0m\u001b[1;33m(\u001b[0m\u001b[0mself\u001b[0m\u001b[1;33m,\u001b[0m \u001b[0mcompat\u001b[0m\u001b[1;33m.\u001b[0m\u001b[0mas_bytes\u001b[0m\u001b[1;33m(\u001b[0m\u001b[0mtensor_str\u001b[0m\u001b[1;33m)\u001b[0m\u001b[1;33m)\u001b[0m\u001b[1;33m\u001b[0m\u001b[1;33m\u001b[0m\u001b[0m\n\u001b[0m\u001b[0;32m    679\u001b[0m \u001b[1;33m\u001b[0m\u001b[0m\n",
      "\u001b[1;31mNotFoundError\u001b[0m: Key _CHECKPOINTABLE_OBJECT_GRAPH not found in checkpoint",
      "\nDuring handling of the above exception, another exception occurred:\n",
      "\u001b[1;31mNotFoundError\u001b[0m                             Traceback (most recent call last)",
      "\u001b[1;32m<ipython-input-42-e08f585e50ea>\u001b[0m in \u001b[0;36m<module>\u001b[1;34m\u001b[0m\n\u001b[0;32m     19\u001b[0m \u001b[0msaver\u001b[0m\u001b[1;33m=\u001b[0m\u001b[0mtf\u001b[0m\u001b[1;33m.\u001b[0m\u001b[0mtrain\u001b[0m\u001b[1;33m.\u001b[0m\u001b[0mSaver\u001b[0m\u001b[1;33m(\u001b[0m\u001b[1;33m)\u001b[0m\u001b[1;33m\u001b[0m\u001b[1;33m\u001b[0m\u001b[0m\n\u001b[0;32m     20\u001b[0m \u001b[0mprint\u001b[0m\u001b[1;33m(\u001b[0m\u001b[0mlatest\u001b[0m\u001b[1;33m)\u001b[0m\u001b[1;33m\u001b[0m\u001b[1;33m\u001b[0m\u001b[0m\n\u001b[1;32m---> 21\u001b[1;33m \u001b[0msaver\u001b[0m\u001b[1;33m.\u001b[0m\u001b[0mrestore\u001b[0m\u001b[1;33m(\u001b[0m\u001b[0msess\u001b[0m\u001b[1;33m,\u001b[0m\u001b[0mlatest\u001b[0m\u001b[1;33m)\u001b[0m\u001b[1;33m\u001b[0m\u001b[1;33m\u001b[0m\u001b[0m\n\u001b[0m\u001b[0;32m     22\u001b[0m \u001b[0mprint\u001b[0m\u001b[1;33m(\u001b[0m\u001b[0msess\u001b[0m\u001b[1;33m.\u001b[0m\u001b[0mrun\u001b[0m\u001b[1;33m(\u001b[0m\u001b[0mhf\u001b[0m \u001b[1;33m,\u001b[0m\u001b[0mfeed_dict\u001b[0m\u001b[1;33m=\u001b[0m\u001b[1;33m{\u001b[0m\u001b[0mx\u001b[0m\u001b[1;33m:\u001b[0m\u001b[1;33m[\u001b[0m\u001b[1;36m5\u001b[0m\u001b[1;33m,\u001b[0m\u001b[1;36m7\u001b[0m\u001b[1;33m]\u001b[0m\u001b[1;33m}\u001b[0m\u001b[1;33m)\u001b[0m\u001b[1;33m)\u001b[0m\u001b[1;33m\u001b[0m\u001b[1;33m\u001b[0m\u001b[0m\n",
      "\u001b[1;32m~\\Anaconda3\\lib\\site-packages\\tensorflow\\python\\training\\saver.py\u001b[0m in \u001b[0;36mrestore\u001b[1;34m(self, sess, save_path)\u001b[0m\n\u001b[0;32m   1300\u001b[0m         \u001b[1;31m# a helpful message (b/110263146)\u001b[0m\u001b[1;33m\u001b[0m\u001b[1;33m\u001b[0m\u001b[1;33m\u001b[0m\u001b[0m\n\u001b[0;32m   1301\u001b[0m         raise _wrap_restore_error_with_msg(\n\u001b[1;32m-> 1302\u001b[1;33m             err, \"a Variable name or other graph key that is missing\")\n\u001b[0m\u001b[0;32m   1303\u001b[0m \u001b[1;33m\u001b[0m\u001b[0m\n\u001b[0;32m   1304\u001b[0m       \u001b[1;31m# This is an object-based checkpoint. We'll print a warning and then do\u001b[0m\u001b[1;33m\u001b[0m\u001b[1;33m\u001b[0m\u001b[1;33m\u001b[0m\u001b[0m\n",
      "\u001b[1;31mNotFoundError\u001b[0m: Restoring from checkpoint failed. This is most likely due to a Variable name or other graph key that is missing from the checkpoint. Please ensure that you have not altered the graph expected based on the checkpoint. Original error:\n\nKey Variable_10 not found in checkpoint\n\t [[node save_9/RestoreV2 (defined at <ipython-input-42-e08f585e50ea>:19) ]]\n\nOriginal stack trace for 'save_9/RestoreV2':\n  File \"C:\\Users\\Kyujin\\Anaconda3\\lib\\runpy.py\", line 193, in _run_module_as_main\n    \"__main__\", mod_spec)\n  File \"C:\\Users\\Kyujin\\Anaconda3\\lib\\runpy.py\", line 85, in _run_code\n    exec(code, run_globals)\n  File \"C:\\Users\\Kyujin\\Anaconda3\\lib\\site-packages\\ipykernel_launcher.py\", line 16, in <module>\n    app.launch_new_instance()\n  File \"C:\\Users\\Kyujin\\Anaconda3\\lib\\site-packages\\traitlets\\config\\application.py\", line 658, in launch_instance\n    app.start()\n  File \"C:\\Users\\Kyujin\\Anaconda3\\lib\\site-packages\\ipykernel\\kernelapp.py\", line 505, in start\n    self.io_loop.start()\n  File \"C:\\Users\\Kyujin\\Anaconda3\\lib\\site-packages\\tornado\\platform\\asyncio.py\", line 148, in start\n    self.asyncio_loop.run_forever()\n  File \"C:\\Users\\Kyujin\\Anaconda3\\lib\\asyncio\\base_events.py\", line 539, in run_forever\n    self._run_once()\n  File \"C:\\Users\\Kyujin\\Anaconda3\\lib\\asyncio\\base_events.py\", line 1775, in _run_once\n    handle._run()\n  File \"C:\\Users\\Kyujin\\Anaconda3\\lib\\asyncio\\events.py\", line 88, in _run\n    self._context.run(self._callback, *self._args)\n  File \"C:\\Users\\Kyujin\\Anaconda3\\lib\\site-packages\\tornado\\ioloop.py\", line 690, in <lambda>\n    lambda f: self._run_callback(functools.partial(callback, future))\n  File \"C:\\Users\\Kyujin\\Anaconda3\\lib\\site-packages\\tornado\\ioloop.py\", line 743, in _run_callback\n    ret = callback()\n  File \"C:\\Users\\Kyujin\\Anaconda3\\lib\\site-packages\\tornado\\gen.py\", line 781, in inner\n    self.run()\n  File \"C:\\Users\\Kyujin\\Anaconda3\\lib\\site-packages\\tornado\\gen.py\", line 742, in run\n    yielded = self.gen.send(value)\n  File \"C:\\Users\\Kyujin\\Anaconda3\\lib\\site-packages\\ipykernel\\kernelbase.py\", line 357, in process_one\n    yield gen.maybe_future(dispatch(*args))\n  File \"C:\\Users\\Kyujin\\Anaconda3\\lib\\site-packages\\tornado\\gen.py\", line 209, in wrapper\n    yielded = next(result)\n  File \"C:\\Users\\Kyujin\\Anaconda3\\lib\\site-packages\\ipykernel\\kernelbase.py\", line 267, in dispatch_shell\n    yield gen.maybe_future(handler(stream, idents, msg))\n  File \"C:\\Users\\Kyujin\\Anaconda3\\lib\\site-packages\\tornado\\gen.py\", line 209, in wrapper\n    yielded = next(result)\n  File \"C:\\Users\\Kyujin\\Anaconda3\\lib\\site-packages\\ipykernel\\kernelbase.py\", line 534, in execute_request\n    user_expressions, allow_stdin,\n  File \"C:\\Users\\Kyujin\\Anaconda3\\lib\\site-packages\\tornado\\gen.py\", line 209, in wrapper\n    yielded = next(result)\n  File \"C:\\Users\\Kyujin\\Anaconda3\\lib\\site-packages\\ipykernel\\ipkernel.py\", line 294, in do_execute\n    res = shell.run_cell(code, store_history=store_history, silent=silent)\n  File \"C:\\Users\\Kyujin\\Anaconda3\\lib\\site-packages\\ipykernel\\zmqshell.py\", line 536, in run_cell\n    return super(ZMQInteractiveShell, self).run_cell(*args, **kwargs)\n  File \"C:\\Users\\Kyujin\\Anaconda3\\lib\\site-packages\\IPython\\core\\interactiveshell.py\", line 2848, in run_cell\n    raw_cell, store_history, silent, shell_futures)\n  File \"C:\\Users\\Kyujin\\Anaconda3\\lib\\site-packages\\IPython\\core\\interactiveshell.py\", line 2874, in _run_cell\n    return runner(coro)\n  File \"C:\\Users\\Kyujin\\Anaconda3\\lib\\site-packages\\IPython\\core\\async_helpers.py\", line 67, in _pseudo_sync_runner\n    coro.send(None)\n  File \"C:\\Users\\Kyujin\\Anaconda3\\lib\\site-packages\\IPython\\core\\interactiveshell.py\", line 3049, in run_cell_async\n    interactivity=interactivity, compiler=compiler, result=result)\n  File \"C:\\Users\\Kyujin\\Anaconda3\\lib\\site-packages\\IPython\\core\\interactiveshell.py\", line 3214, in run_ast_nodes\n    if (yield from self.run_code(code, result)):\n  File \"C:\\Users\\Kyujin\\Anaconda3\\lib\\site-packages\\IPython\\core\\interactiveshell.py\", line 3296, in run_code\n    exec(code_obj, self.user_global_ns, self.user_ns)\n  File \"<ipython-input-42-e08f585e50ea>\", line 19, in <module>\n    saver=tf.train.Saver()\n  File \"C:\\Users\\Kyujin\\Anaconda3\\lib\\site-packages\\tensorflow\\python\\training\\saver.py\", line 825, in __init__\n    self.build()\n  File \"C:\\Users\\Kyujin\\Anaconda3\\lib\\site-packages\\tensorflow\\python\\training\\saver.py\", line 837, in build\n    self._build(self._filename, build_save=True, build_restore=True)\n  File \"C:\\Users\\Kyujin\\Anaconda3\\lib\\site-packages\\tensorflow\\python\\training\\saver.py\", line 875, in _build\n    build_restore=build_restore)\n  File \"C:\\Users\\Kyujin\\Anaconda3\\lib\\site-packages\\tensorflow\\python\\training\\saver.py\", line 508, in _build_internal\n    restore_sequentially, reshape)\n  File \"C:\\Users\\Kyujin\\Anaconda3\\lib\\site-packages\\tensorflow\\python\\training\\saver.py\", line 328, in _AddRestoreOps\n    restore_sequentially)\n  File \"C:\\Users\\Kyujin\\Anaconda3\\lib\\site-packages\\tensorflow\\python\\training\\saver.py\", line 575, in bulk_restore\n    return io_ops.restore_v2(filename_tensor, names, slices, dtypes)\n  File \"C:\\Users\\Kyujin\\Anaconda3\\lib\\site-packages\\tensorflow\\python\\ops\\gen_io_ops.py\", line 1779, in restore_v2\n    name=name)\n  File \"C:\\Users\\Kyujin\\Anaconda3\\lib\\site-packages\\tensorflow\\python\\framework\\op_def_library.py\", line 788, in _apply_op_helper\n    op_def=op_def)\n  File \"C:\\Users\\Kyujin\\Anaconda3\\lib\\site-packages\\tensorflow\\python\\util\\deprecation.py\", line 507, in new_func\n    return func(*args, **kwargs)\n  File \"C:\\Users\\Kyujin\\Anaconda3\\lib\\site-packages\\tensorflow\\python\\framework\\ops.py\", line 3616, in create_op\n    op_def=op_def)\n  File \"C:\\Users\\Kyujin\\Anaconda3\\lib\\site-packages\\tensorflow\\python\\framework\\ops.py\", line 2005, in __init__\n    self._traceback = tf_stack.extract_stack()\n"
     ]
    }
   ],
   "source": [
    "import tensorflow as tf\n",
    "xdata=[1,2,3]\n",
    "ydata=[1,2,3]\n",
    "\n",
    "x=tf.placeholder(tf.float32)\n",
    "y=tf.placeholder(tf.float32)\n",
    "\n",
    "w=tf.Variable(tf.random_normal([1]))\n",
    "b=tf.Variable(tf.random_normal([1]))\n",
    "\n",
    "hf=w*x+b\n",
    "cost=tf.reduce_mean((hf-y)**2)\n",
    "\n",
    "train=tf.train.GradientDescentOptimizer(0.1).minimize(cost)\n",
    "sess=tf.Session()\n",
    "# sess.run(tf.global_variables_initializer())\n",
    "feed={x:xdata, y:ydata}\n",
    "latest=tf.train.latest_checkpoint('Model')\n",
    "saver=tf.train.Saver()\n",
    "print(latest)\n",
    "saver.restore(sess,latest)\n",
    "print(sess.run(hf ,))"
   ]
  },
  {
   "cell_type": "code",
   "execution_count": 49,
   "metadata": {},
   "outputs": [],
   "source": [
    "from keras.layers import Input, Dense\n",
    "from keras.models import Model\n",
    "\n",
    "inputs=Input(shape=(10,))#입력 10개\n",
    "h1=Dense(64, activation='relu')(inputs)\n",
    "h2=Dense(64, activation='relu')(h1)\n",
    "output=Dense(1, activation='sigmoid')(h2)\n",
    "model=Model(inputs=inputs, outputs=output)\n",
    "model.compile(optimizer='rmsprop', loss='categorical_crossentropy', metrics=['accuracy'])\n"
   ]
  },
  {
   "cell_type": "code",
   "execution_count": null,
   "metadata": {},
   "outputs": [],
   "source": []
  }
 ],
 "metadata": {
  "kernelspec": {
   "display_name": "Python 3",
   "language": "python",
   "name": "python3"
  },
  "language_info": {
   "codemirror_mode": {
    "name": "ipython",
    "version": 3
   },
   "file_extension": ".py",
   "mimetype": "text/x-python",
   "name": "python",
   "nbconvert_exporter": "python",
   "pygments_lexer": "ipython3",
   "version": "3.7.3"
  }
 },
 "nbformat": 4,
 "nbformat_minor": 2
}

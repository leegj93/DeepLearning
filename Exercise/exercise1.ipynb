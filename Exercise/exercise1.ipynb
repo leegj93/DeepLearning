{
 "cells": [
  {
   "cell_type": "markdown",
   "metadata": {},
   "source": [
    "## 개요\n",
    "- 표준화\n",
    "    - 머신러닝 작업 전 표준화 작업은 매우 중요!\n",
    "    - 표준화는 outlier의 영향을 크게 받음.\n",
    "    - 이상값에 영향을 크게 받지 않도록 표준화를 시키는 함수 \n",
    "     - RobustScaler(X): 중앙값(median)이 0, IQR(interquartile range)이 1이 되도록 변환.\n",
    "- 범주화\n",
    "     - 연속형 범주를 이진화\n",
    "     - binarize \n",
    "         - 0 아니면 1\n",
    "\n",
    "- one hot encoding\n",
    "    - 하나만 핫하게 하는 것. 나머지는 기본적인 상태\n",
    "        - ex) 0부터 9까지 인식하는 숫자를 만들 때 하나만 1, 다른 나머지는 0\n",
    "\n",
    "\n",
    "- interpolate => 보간법\n",
    "- duplicate\n",
    "- unique => 유일한 부서 확인.\n",
    "- value_counts "
   ]
  },
  {
   "cell_type": "code",
   "execution_count": 1,
   "metadata": {},
   "outputs": [],
   "source": [
    "import pandas as pd\n",
    "import numpy as np\n",
    "import sklearn.preprocessing    \n",
    "from sklearn.preprocessing import StandardScaler, RobustScaler\n",
    "import matplotlib.pyplot as plt"
   ]
  },
  {
   "cell_type": "code",
   "execution_count": 123,
   "metadata": {},
   "outputs": [
    {
     "data": {
      "text/html": [
       "<div>\n",
       "<style scoped>\n",
       "    .dataframe tbody tr th:only-of-type {\n",
       "        vertical-align: middle;\n",
       "    }\n",
       "\n",
       "    .dataframe tbody tr th {\n",
       "        vertical-align: top;\n",
       "    }\n",
       "\n",
       "    .dataframe thead th {\n",
       "        text-align: right;\n",
       "    }\n",
       "</style>\n",
       "<table border=\"1\" class=\"dataframe\">\n",
       "  <thead>\n",
       "    <tr style=\"text-align: right;\">\n",
       "      <th></th>\n",
       "      <th>c1</th>\n",
       "      <th>c2</th>\n",
       "      <th>c3</th>\n",
       "    </tr>\n",
       "  </thead>\n",
       "  <tbody>\n",
       "    <tr>\n",
       "      <th>0</th>\n",
       "      <td>-1.288840</td>\n",
       "      <td>0.494928</td>\n",
       "      <td>-1.127960</td>\n",
       "    </tr>\n",
       "    <tr>\n",
       "      <th>1</th>\n",
       "      <td>0.480902</td>\n",
       "      <td>-0.538582</td>\n",
       "      <td>-1.908355</td>\n",
       "    </tr>\n",
       "    <tr>\n",
       "      <th>2</th>\n",
       "      <td>-0.388545</td>\n",
       "      <td>1.035407</td>\n",
       "      <td>0.015605</td>\n",
       "    </tr>\n",
       "    <tr>\n",
       "      <th>3</th>\n",
       "      <td>-0.783030</td>\n",
       "      <td>0.820656</td>\n",
       "      <td>0.318528</td>\n",
       "    </tr>\n",
       "    <tr>\n",
       "      <th>4</th>\n",
       "      <td>0.643809</td>\n",
       "      <td>-1.007823</td>\n",
       "      <td>-1.476249</td>\n",
       "    </tr>\n",
       "  </tbody>\n",
       "</table>\n",
       "</div>"
      ],
      "text/plain": [
       "         c1        c2        c3\n",
       "0 -1.288840  0.494928 -1.127960\n",
       "1  0.480902 -0.538582 -1.908355\n",
       "2 -0.388545  1.035407  0.015605\n",
       "3 -0.783030  0.820656  0.318528\n",
       "4  0.643809 -1.007823 -1.476249"
      ]
     },
     "execution_count": 123,
     "metadata": {},
     "output_type": "execute_result"
    }
   ],
   "source": [
    "# 결측치 대체\n",
    "df = pd.DataFrame(np.random.randn(5,3),\n",
    "                 columns = ['c1', 'c2', 'c3']);df  \n",
    "## 난수 생성시, 사용하는 함수로, 정규 분포를 따르는 난수 / (5,3)은 5행 3열로 정규분포 따르는 난수 생성 "
   ]
  },
  {
   "cell_type": "code",
   "execution_count": 124,
   "metadata": {},
   "outputs": [
    {
     "data": {
      "text/plain": [
       "DatetimeIndex(['2019-07-03', '2019-07-04', '2019-07-05', '2019-07-06'], dtype='datetime64[ns]', freq=None)"
      ]
     },
     "execution_count": 124,
     "metadata": {},
     "output_type": "execute_result"
    }
   ],
   "source": [
    "dfdate = ['07/3/2019', '07/4/2019', '07/5/2019', '07/6/2019'];dfdate\n",
    "myDate = pd.to_datetime(dfdate);myDate # 문자 -> 날짜 데이터"
   ]
  },
  {
   "cell_type": "code",
   "execution_count": 125,
   "metadata": {},
   "outputs": [
    {
     "data": {
      "text/plain": [
       "2019-07-03     1.0\n",
       "2019-07-04     NaN\n",
       "2019-07-05     NaN\n",
       "2019-07-06    20.0\n",
       "dtype: float64"
      ]
     },
     "execution_count": 125,
     "metadata": {},
     "output_type": "execute_result"
    }
   ],
   "source": [
    "times = pd.Series([1, np.nan, np.nan, 20], index = myDate);times"
   ]
  },
  {
   "cell_type": "code",
   "execution_count": 126,
   "metadata": {},
   "outputs": [
    {
     "data": {
      "text/plain": [
       "2019-07-03     1.000000\n",
       "2019-07-04     7.333333\n",
       "2019-07-05    13.666667\n",
       "2019-07-06    20.000000\n",
       "dtype: float64"
      ]
     },
     "execution_count": 126,
     "metadata": {},
     "output_type": "execute_result"
    }
   ],
   "source": [
    "#보간법(interpolate)\n",
    "ti = times.interpolate(); ti"
   ]
  },
  {
   "cell_type": "markdown",
   "metadata": {},
   "source": [
    "보간법\n",
    "- 선형적으로 비례하게 NaN 값을 보간함."
   ]
  },
  {
   "cell_type": "code",
   "execution_count": 127,
   "metadata": {},
   "outputs": [
    {
     "data": {
      "text/plain": [
       "<bound method NDFrame.interpolate of 2019-07-03     1.0\n",
       "2019-07-04     NaN\n",
       "2019-07-05     NaN\n",
       "2019-07-06    20.0\n",
       "dtype: float64>"
      ]
     },
     "execution_count": 127,
     "metadata": {},
     "output_type": "execute_result"
    }
   ],
   "source": [
    "times.interpolate"
   ]
  },
  {
   "cell_type": "code",
   "execution_count": 128,
   "metadata": {},
   "outputs": [
    {
     "data": {
      "text/plain": [
       "2019-07-03     1.0\n",
       "2019-07-04     NaN\n",
       "2019-07-05     NaN\n",
       "2019-07-10    20.0\n",
       "dtype: float64"
      ]
     },
     "execution_count": 128,
     "metadata": {},
     "output_type": "execute_result"
    }
   ],
   "source": [
    "dfdate = ['07/3/2019', '07/4/2019', '07/5/2019', '07/10/2019'];dfdate\n",
    "myDate = pd.to_datetime(dfdate);myDate # 문자 -> 날짜 데이터\n",
    "times = pd.Series([1, np.nan, np.nan, 20], index = myDate);times"
   ]
  },
  {
   "cell_type": "code",
   "execution_count": 129,
   "metadata": {},
   "outputs": [
    {
     "data": {
      "text/plain": [
       "2019-07-03     1.000000\n",
       "2019-07-04     3.714286\n",
       "2019-07-05     6.428571\n",
       "2019-07-10    20.000000\n",
       "dtype: float64"
      ]
     },
     "execution_count": 129,
     "metadata": {},
     "output_type": "execute_result"
    }
   ],
   "source": [
    "# 시간에 대한 방법으로 값을 보간\n",
    "ti = times.interpolate(method = 'time'); ti"
   ]
  },
  {
   "cell_type": "markdown",
   "metadata": {},
   "source": [
    "보간법2\n",
    "- 시간을 기준으로 값을 보간함.\n",
    "- 행 인덱스가 시계열로 구성되어 있을 때 사용 가능 옵션\n",
    "- method = 'time'은 시간의 흐름에 따라 보간.\n",
    "    - 계산 방법\n",
    "        - 3일 ~ 10일까지는 총 8일\n",
    "        - 3일은 1, 10일은 20 이므로 21을 8일로 나누면 1일에 대략 2.7일임\n",
    "        - 따라서 7월 4일과 5일 2.7일을 더하며 보간이 가능."
   ]
  },
  {
   "cell_type": "code",
   "execution_count": 130,
   "metadata": {},
   "outputs": [
    {
     "data": {
      "text/html": [
       "<div>\n",
       "<style scoped>\n",
       "    .dataframe tbody tr th:only-of-type {\n",
       "        vertical-align: middle;\n",
       "    }\n",
       "\n",
       "    .dataframe tbody tr th {\n",
       "        vertical-align: top;\n",
       "    }\n",
       "\n",
       "    .dataframe thead th {\n",
       "        text-align: right;\n",
       "    }\n",
       "</style>\n",
       "<table border=\"1\" class=\"dataframe\">\n",
       "  <thead>\n",
       "    <tr style=\"text-align: right;\">\n",
       "      <th></th>\n",
       "      <th>c1</th>\n",
       "      <th>c2</th>\n",
       "    </tr>\n",
       "  </thead>\n",
       "  <tbody>\n",
       "    <tr>\n",
       "      <th>0</th>\n",
       "      <td>1.0</td>\n",
       "      <td>6.0</td>\n",
       "    </tr>\n",
       "    <tr>\n",
       "      <th>1</th>\n",
       "      <td>2.0</td>\n",
       "      <td>8.0</td>\n",
       "    </tr>\n",
       "    <tr>\n",
       "      <th>2</th>\n",
       "      <td>NaN</td>\n",
       "      <td>10.0</td>\n",
       "    </tr>\n",
       "    <tr>\n",
       "      <th>3</th>\n",
       "      <td>NaN</td>\n",
       "      <td>NaN</td>\n",
       "    </tr>\n",
       "    <tr>\n",
       "      <th>4</th>\n",
       "      <td>5.0</td>\n",
       "      <td>20.0</td>\n",
       "    </tr>\n",
       "  </tbody>\n",
       "</table>\n",
       "</div>"
      ],
      "text/plain": [
       "    c1    c2\n",
       "0  1.0   6.0\n",
       "1  2.0   8.0\n",
       "2  NaN  10.0\n",
       "3  NaN   NaN\n",
       "4  5.0  20.0"
      ]
     },
     "execution_count": 130,
     "metadata": {},
     "output_type": "execute_result"
    }
   ],
   "source": [
    "df = pd.DataFrame({'c1' : [1,2, np.nan, np.nan, 5],\n",
    "             'c2' : [6,8,10,np.nan, 20]});df"
   ]
  },
  {
   "cell_type": "code",
   "execution_count": 131,
   "metadata": {},
   "outputs": [
    {
     "data": {
      "text/html": [
       "<div>\n",
       "<style scoped>\n",
       "    .dataframe tbody tr th:only-of-type {\n",
       "        vertical-align: middle;\n",
       "    }\n",
       "\n",
       "    .dataframe tbody tr th {\n",
       "        vertical-align: top;\n",
       "    }\n",
       "\n",
       "    .dataframe thead th {\n",
       "        text-align: right;\n",
       "    }\n",
       "</style>\n",
       "<table border=\"1\" class=\"dataframe\">\n",
       "  <thead>\n",
       "    <tr style=\"text-align: right;\">\n",
       "      <th></th>\n",
       "      <th>c1</th>\n",
       "      <th>c2</th>\n",
       "    </tr>\n",
       "  </thead>\n",
       "  <tbody>\n",
       "    <tr>\n",
       "      <th>0</th>\n",
       "      <td>1.0</td>\n",
       "      <td>6.0</td>\n",
       "    </tr>\n",
       "    <tr>\n",
       "      <th>1</th>\n",
       "      <td>2.0</td>\n",
       "      <td>8.0</td>\n",
       "    </tr>\n",
       "    <tr>\n",
       "      <th>2</th>\n",
       "      <td>3.0</td>\n",
       "      <td>10.0</td>\n",
       "    </tr>\n",
       "    <tr>\n",
       "      <th>3</th>\n",
       "      <td>4.0</td>\n",
       "      <td>15.0</td>\n",
       "    </tr>\n",
       "    <tr>\n",
       "      <th>4</th>\n",
       "      <td>5.0</td>\n",
       "      <td>20.0</td>\n",
       "    </tr>\n",
       "  </tbody>\n",
       "</table>\n",
       "</div>"
      ],
      "text/plain": [
       "    c1    c2\n",
       "0  1.0   6.0\n",
       "1  2.0   8.0\n",
       "2  3.0  10.0\n",
       "3  4.0  15.0\n",
       "4  5.0  20.0"
      ]
     },
     "execution_count": 131,
     "metadata": {},
     "output_type": "execute_result"
    }
   ],
   "source": [
    "df.interpolate(method = 'values')"
   ]
  },
  {
   "cell_type": "markdown",
   "metadata": {},
   "source": [
    "보간법3\n",
    "- values 사용.\n",
    "- 역시 선형적임."
   ]
  },
  {
   "cell_type": "code",
   "execution_count": 132,
   "metadata": {},
   "outputs": [
    {
     "data": {
      "text/html": [
       "<div>\n",
       "<style scoped>\n",
       "    .dataframe tbody tr th:only-of-type {\n",
       "        vertical-align: middle;\n",
       "    }\n",
       "\n",
       "    .dataframe tbody tr th {\n",
       "        vertical-align: top;\n",
       "    }\n",
       "\n",
       "    .dataframe thead th {\n",
       "        text-align: right;\n",
       "    }\n",
       "</style>\n",
       "<table border=\"1\" class=\"dataframe\">\n",
       "  <thead>\n",
       "    <tr style=\"text-align: right;\">\n",
       "      <th></th>\n",
       "      <th>c1</th>\n",
       "      <th>c2</th>\n",
       "    </tr>\n",
       "  </thead>\n",
       "  <tbody>\n",
       "    <tr>\n",
       "      <th>0</th>\n",
       "      <td>1.0</td>\n",
       "      <td>6.0</td>\n",
       "    </tr>\n",
       "    <tr>\n",
       "      <th>1</th>\n",
       "      <td>2.0</td>\n",
       "      <td>8.0</td>\n",
       "    </tr>\n",
       "    <tr>\n",
       "      <th>2</th>\n",
       "      <td>3.0</td>\n",
       "      <td>10.0</td>\n",
       "    </tr>\n",
       "    <tr>\n",
       "      <th>3</th>\n",
       "      <td>NaN</td>\n",
       "      <td>15.0</td>\n",
       "    </tr>\n",
       "    <tr>\n",
       "      <th>4</th>\n",
       "      <td>5.0</td>\n",
       "      <td>20.0</td>\n",
       "    </tr>\n",
       "  </tbody>\n",
       "</table>\n",
       "</div>"
      ],
      "text/plain": [
       "    c1    c2\n",
       "0  1.0   6.0\n",
       "1  2.0   8.0\n",
       "2  3.0  10.0\n",
       "3  NaN  15.0\n",
       "4  5.0  20.0"
      ]
     },
     "execution_count": 132,
     "metadata": {},
     "output_type": "execute_result"
    }
   ],
   "source": [
    "df.interpolate(method = 'values', limit =1) # limit=1은 한 개만 바꾸겠다. / default는 'forward'임."
   ]
  },
  {
   "cell_type": "code",
   "execution_count": 133,
   "metadata": {},
   "outputs": [
    {
     "data": {
      "text/html": [
       "<div>\n",
       "<style scoped>\n",
       "    .dataframe tbody tr th:only-of-type {\n",
       "        vertical-align: middle;\n",
       "    }\n",
       "\n",
       "    .dataframe tbody tr th {\n",
       "        vertical-align: top;\n",
       "    }\n",
       "\n",
       "    .dataframe thead th {\n",
       "        text-align: right;\n",
       "    }\n",
       "</style>\n",
       "<table border=\"1\" class=\"dataframe\">\n",
       "  <thead>\n",
       "    <tr style=\"text-align: right;\">\n",
       "      <th></th>\n",
       "      <th>c1</th>\n",
       "      <th>c2</th>\n",
       "    </tr>\n",
       "  </thead>\n",
       "  <tbody>\n",
       "    <tr>\n",
       "      <th>0</th>\n",
       "      <td>1.0</td>\n",
       "      <td>6.0</td>\n",
       "    </tr>\n",
       "    <tr>\n",
       "      <th>1</th>\n",
       "      <td>2.0</td>\n",
       "      <td>8.0</td>\n",
       "    </tr>\n",
       "    <tr>\n",
       "      <th>2</th>\n",
       "      <td>NaN</td>\n",
       "      <td>10.0</td>\n",
       "    </tr>\n",
       "    <tr>\n",
       "      <th>3</th>\n",
       "      <td>4.0</td>\n",
       "      <td>15.0</td>\n",
       "    </tr>\n",
       "    <tr>\n",
       "      <th>4</th>\n",
       "      <td>5.0</td>\n",
       "      <td>20.0</td>\n",
       "    </tr>\n",
       "  </tbody>\n",
       "</table>\n",
       "</div>"
      ],
      "text/plain": [
       "    c1    c2\n",
       "0  1.0   6.0\n",
       "1  2.0   8.0\n",
       "2  NaN  10.0\n",
       "3  4.0  15.0\n",
       "4  5.0  20.0"
      ]
     },
     "execution_count": 133,
     "metadata": {},
     "output_type": "execute_result"
    }
   ],
   "source": [
    "s = df.interpolate(method = 'values', limit =1, limit_direction='backward');s # backward로 설정 가능."
   ]
  },
  {
   "cell_type": "code",
   "execution_count": 134,
   "metadata": {},
   "outputs": [
    {
     "data": {
      "text/html": [
       "<div>\n",
       "<style scoped>\n",
       "    .dataframe tbody tr th:only-of-type {\n",
       "        vertical-align: middle;\n",
       "    }\n",
       "\n",
       "    .dataframe tbody tr th {\n",
       "        vertical-align: top;\n",
       "    }\n",
       "\n",
       "    .dataframe thead th {\n",
       "        text-align: right;\n",
       "    }\n",
       "</style>\n",
       "<table border=\"1\" class=\"dataframe\">\n",
       "  <thead>\n",
       "    <tr style=\"text-align: right;\">\n",
       "      <th></th>\n",
       "      <th>c1</th>\n",
       "      <th>c2</th>\n",
       "    </tr>\n",
       "  </thead>\n",
       "  <tbody>\n",
       "    <tr>\n",
       "      <th>0</th>\n",
       "      <td>1.0</td>\n",
       "      <td>6.0</td>\n",
       "    </tr>\n",
       "    <tr>\n",
       "      <th>1</th>\n",
       "      <td>2.0</td>\n",
       "      <td>8.0</td>\n",
       "    </tr>\n",
       "    <tr>\n",
       "      <th>2</th>\n",
       "      <td>10.0</td>\n",
       "      <td>10.0</td>\n",
       "    </tr>\n",
       "    <tr>\n",
       "      <th>3</th>\n",
       "      <td>4.0</td>\n",
       "      <td>15.0</td>\n",
       "    </tr>\n",
       "    <tr>\n",
       "      <th>4</th>\n",
       "      <td>5.0</td>\n",
       "      <td>20.0</td>\n",
       "    </tr>\n",
       "  </tbody>\n",
       "</table>\n",
       "</div>"
      ],
      "text/plain": [
       "     c1    c2\n",
       "0   1.0   6.0\n",
       "1   2.0   8.0\n",
       "2  10.0  10.0\n",
       "3   4.0  15.0\n",
       "4   5.0  20.0"
      ]
     },
     "execution_count": 134,
     "metadata": {},
     "output_type": "execute_result"
    }
   ],
   "source": [
    "s.replace(np.nan, 10)  # nan을 10으로 대체"
   ]
  },
  {
   "cell_type": "code",
   "execution_count": 135,
   "metadata": {},
   "outputs": [
    {
     "data": {
      "text/html": [
       "<div>\n",
       "<style scoped>\n",
       "    .dataframe tbody tr th:only-of-type {\n",
       "        vertical-align: middle;\n",
       "    }\n",
       "\n",
       "    .dataframe tbody tr th {\n",
       "        vertical-align: top;\n",
       "    }\n",
       "\n",
       "    .dataframe thead th {\n",
       "        text-align: right;\n",
       "    }\n",
       "</style>\n",
       "<table border=\"1\" class=\"dataframe\">\n",
       "  <thead>\n",
       "    <tr style=\"text-align: right;\">\n",
       "      <th></th>\n",
       "      <th>c1</th>\n",
       "      <th>c2</th>\n",
       "    </tr>\n",
       "  </thead>\n",
       "  <tbody>\n",
       "    <tr>\n",
       "      <th>0</th>\n",
       "      <td>1.0</td>\n",
       "      <td>6.0</td>\n",
       "    </tr>\n",
       "    <tr>\n",
       "      <th>1</th>\n",
       "      <td>2.0</td>\n",
       "      <td>8.0</td>\n",
       "    </tr>\n",
       "    <tr>\n",
       "      <th>2</th>\n",
       "      <td>NaN</td>\n",
       "      <td>10.0</td>\n",
       "    </tr>\n",
       "    <tr>\n",
       "      <th>3</th>\n",
       "      <td>4.0</td>\n",
       "      <td>15.0</td>\n",
       "    </tr>\n",
       "    <tr>\n",
       "      <th>4</th>\n",
       "      <td>5.0</td>\n",
       "      <td>20.0</td>\n",
       "    </tr>\n",
       "  </tbody>\n",
       "</table>\n",
       "</div>"
      ],
      "text/plain": [
       "    c1    c2\n",
       "0  1.0   6.0\n",
       "1  2.0   8.0\n",
       "2  NaN  10.0\n",
       "3  4.0  15.0\n",
       "4  5.0  20.0"
      ]
     },
     "execution_count": 135,
     "metadata": {},
     "output_type": "execute_result"
    }
   ],
   "source": [
    "s"
   ]
  },
  {
   "cell_type": "code",
   "execution_count": 136,
   "metadata": {},
   "outputs": [
    {
     "data": {
      "text/html": [
       "<div>\n",
       "<style scoped>\n",
       "    .dataframe tbody tr th:only-of-type {\n",
       "        vertical-align: middle;\n",
       "    }\n",
       "\n",
       "    .dataframe tbody tr th {\n",
       "        vertical-align: top;\n",
       "    }\n",
       "\n",
       "    .dataframe thead th {\n",
       "        text-align: right;\n",
       "    }\n",
       "</style>\n",
       "<table border=\"1\" class=\"dataframe\">\n",
       "  <thead>\n",
       "    <tr style=\"text-align: right;\">\n",
       "      <th></th>\n",
       "      <th>c1</th>\n",
       "      <th>c2</th>\n",
       "    </tr>\n",
       "  </thead>\n",
       "  <tbody>\n",
       "    <tr>\n",
       "      <th>0</th>\n",
       "      <td>5.0</td>\n",
       "      <td>6.0</td>\n",
       "    </tr>\n",
       "    <tr>\n",
       "      <th>1</th>\n",
       "      <td>6.0</td>\n",
       "      <td>8.0</td>\n",
       "    </tr>\n",
       "    <tr>\n",
       "      <th>2</th>\n",
       "      <td>NaN</td>\n",
       "      <td>10.0</td>\n",
       "    </tr>\n",
       "    <tr>\n",
       "      <th>3</th>\n",
       "      <td>4.0</td>\n",
       "      <td>15.0</td>\n",
       "    </tr>\n",
       "    <tr>\n",
       "      <th>4</th>\n",
       "      <td>5.0</td>\n",
       "      <td>20.0</td>\n",
       "    </tr>\n",
       "  </tbody>\n",
       "</table>\n",
       "</div>"
      ],
      "text/plain": [
       "    c1    c2\n",
       "0  5.0   6.0\n",
       "1  6.0   8.0\n",
       "2  NaN  10.0\n",
       "3  4.0  15.0\n",
       "4  5.0  20.0"
      ]
     },
     "execution_count": 136,
     "metadata": {},
     "output_type": "execute_result"
    }
   ],
   "source": [
    "s.replace([1,2], [5,6]) # 1이라는 숫자는 5로, 2라는 숫자는 6으로 바꿔라."
   ]
  },
  {
   "cell_type": "code",
   "execution_count": 137,
   "metadata": {},
   "outputs": [
    {
     "data": {
      "text/html": [
       "<div>\n",
       "<style scoped>\n",
       "    .dataframe tbody tr th:only-of-type {\n",
       "        vertical-align: middle;\n",
       "    }\n",
       "\n",
       "    .dataframe tbody tr th {\n",
       "        vertical-align: top;\n",
       "    }\n",
       "\n",
       "    .dataframe thead th {\n",
       "        text-align: right;\n",
       "    }\n",
       "</style>\n",
       "<table border=\"1\" class=\"dataframe\">\n",
       "  <thead>\n",
       "    <tr style=\"text-align: right;\">\n",
       "      <th></th>\n",
       "      <th>c1</th>\n",
       "      <th>c2</th>\n",
       "    </tr>\n",
       "  </thead>\n",
       "  <tbody>\n",
       "    <tr>\n",
       "      <th>0</th>\n",
       "      <td>10.0</td>\n",
       "      <td>6.0</td>\n",
       "    </tr>\n",
       "    <tr>\n",
       "      <th>1</th>\n",
       "      <td>2.0</td>\n",
       "      <td>8.0</td>\n",
       "    </tr>\n",
       "    <tr>\n",
       "      <th>2</th>\n",
       "      <td>999.0</td>\n",
       "      <td>10.0</td>\n",
       "    </tr>\n",
       "    <tr>\n",
       "      <th>3</th>\n",
       "      <td>4.0</td>\n",
       "      <td>15.0</td>\n",
       "    </tr>\n",
       "    <tr>\n",
       "      <th>4</th>\n",
       "      <td>5.0</td>\n",
       "      <td>20.0</td>\n",
       "    </tr>\n",
       "  </tbody>\n",
       "</table>\n",
       "</div>"
      ],
      "text/plain": [
       "      c1    c2\n",
       "0   10.0   6.0\n",
       "1    2.0   8.0\n",
       "2  999.0  10.0\n",
       "3    4.0  15.0\n",
       "4    5.0  20.0"
      ]
     },
     "execution_count": 137,
     "metadata": {},
     "output_type": "execute_result"
    }
   ],
   "source": [
    "s.replace({1:10, np.nan : 999})   # 1은 10으로 바꾸고, nan은 999로 바꿔라."
   ]
  },
  {
   "cell_type": "code",
   "execution_count": 138,
   "metadata": {},
   "outputs": [
    {
     "data": {
      "text/html": [
       "<div>\n",
       "<style scoped>\n",
       "    .dataframe tbody tr th:only-of-type {\n",
       "        vertical-align: middle;\n",
       "    }\n",
       "\n",
       "    .dataframe tbody tr th {\n",
       "        vertical-align: top;\n",
       "    }\n",
       "\n",
       "    .dataframe thead th {\n",
       "        text-align: right;\n",
       "    }\n",
       "</style>\n",
       "<table border=\"1\" class=\"dataframe\">\n",
       "  <thead>\n",
       "    <tr style=\"text-align: right;\">\n",
       "      <th></th>\n",
       "      <th>k1</th>\n",
       "      <th>k2</th>\n",
       "      <th>c</th>\n",
       "    </tr>\n",
       "  </thead>\n",
       "  <tbody>\n",
       "    <tr>\n",
       "      <th>0</th>\n",
       "      <td>a</td>\n",
       "      <td>v</td>\n",
       "      <td>1</td>\n",
       "    </tr>\n",
       "    <tr>\n",
       "      <th>1</th>\n",
       "      <td>b</td>\n",
       "      <td>w</td>\n",
       "      <td>2</td>\n",
       "    </tr>\n",
       "    <tr>\n",
       "      <th>2</th>\n",
       "      <td>b</td>\n",
       "      <td>w</td>\n",
       "      <td>3</td>\n",
       "    </tr>\n",
       "    <tr>\n",
       "      <th>3</th>\n",
       "      <td>c</td>\n",
       "      <td>x</td>\n",
       "      <td>4</td>\n",
       "    </tr>\n",
       "    <tr>\n",
       "      <th>4</th>\n",
       "      <td>c</td>\n",
       "      <td>y</td>\n",
       "      <td>5</td>\n",
       "    </tr>\n",
       "  </tbody>\n",
       "</table>\n",
       "</div>"
      ],
      "text/plain": [
       "  k1 k2  c\n",
       "0  a  v  1\n",
       "1  b  w  2\n",
       "2  b  w  3\n",
       "3  c  x  4\n",
       "4  c  y  5"
      ]
     },
     "execution_count": 138,
     "metadata": {},
     "output_type": "execute_result"
    }
   ],
   "source": [
    "df = pd.DataFrame({'k1' : ['a','b','b','c','c'],\n",
    "             'k2' : ['v','w','w','x','y'],\n",
    "             'c' : [1,2,3,4,5]});df"
   ]
  },
  {
   "cell_type": "code",
   "execution_count": 139,
   "metadata": {
    "scrolled": true
   },
   "outputs": [
    {
     "data": {
      "text/plain": [
       "0    False\n",
       "1    False\n",
       "2     True\n",
       "3    False\n",
       "4     True\n",
       "dtype: bool"
      ]
     },
     "execution_count": 139,
     "metadata": {},
     "output_type": "execute_result"
    }
   ],
   "source": [
    "#duplicate\n",
    "df.duplicated(['k1'])"
   ]
  },
  {
   "cell_type": "markdown",
   "metadata": {},
   "source": [
    "- forward 방향으로 봤을 때 먼저 나온 값은 중복이 아니기 때문에 False가 나오고, 중복된 값이 나올 때 True로 바뀐다."
   ]
  },
  {
   "cell_type": "code",
   "execution_count": 140,
   "metadata": {},
   "outputs": [],
   "source": [
    "# 중복값 확인"
   ]
  },
  {
   "cell_type": "code",
   "execution_count": 141,
   "metadata": {
    "scrolled": true
   },
   "outputs": [
    {
     "data": {
      "text/plain": [
       "0    False\n",
       "1    False\n",
       "2     True\n",
       "3    False\n",
       "4     True\n",
       "dtype: bool"
      ]
     },
     "execution_count": 141,
     "metadata": {},
     "output_type": "execute_result"
    }
   ],
   "source": [
    "df.duplicated(['k1'], keep = 'first') # 먼저 나오는 친구들은 중복으로 보지 않겠다. / keep = 'first'는 default"
   ]
  },
  {
   "cell_type": "code",
   "execution_count": 142,
   "metadata": {},
   "outputs": [
    {
     "data": {
      "text/plain": [
       "0    False\n",
       "1     True\n",
       "2    False\n",
       "3     True\n",
       "4    False\n",
       "dtype: bool"
      ]
     },
     "execution_count": 142,
     "metadata": {},
     "output_type": "execute_result"
    }
   ],
   "source": [
    "df.duplicated(['k1'], keep = 'last')  # 마지막에 나오는 친구들은 중복으로 보지 않겠다. / keep = 'last'"
   ]
  },
  {
   "cell_type": "code",
   "execution_count": 143,
   "metadata": {
    "scrolled": true
   },
   "outputs": [
    {
     "data": {
      "text/plain": [
       "0    False\n",
       "1     True\n",
       "2     True\n",
       "3     True\n",
       "4     True\n",
       "dtype: bool"
      ]
     },
     "execution_count": 143,
     "metadata": {},
     "output_type": "execute_result"
    }
   ],
   "source": [
    "df.duplicated(['k1'], keep = False)  # 중복된 값은 모두 True로 둔다."
   ]
  },
  {
   "cell_type": "code",
   "execution_count": 144,
   "metadata": {},
   "outputs": [],
   "source": [
    "# 중복값 제거 => 위 중복값 확인했을 때 True로 나오는 부분의 행은 제거한다."
   ]
  },
  {
   "cell_type": "code",
   "execution_count": null,
   "metadata": {},
   "outputs": [],
   "source": []
  },
  {
   "cell_type": "code",
   "execution_count": 145,
   "metadata": {},
   "outputs": [
    {
     "data": {
      "text/html": [
       "<div>\n",
       "<style scoped>\n",
       "    .dataframe tbody tr th:only-of-type {\n",
       "        vertical-align: middle;\n",
       "    }\n",
       "\n",
       "    .dataframe tbody tr th {\n",
       "        vertical-align: top;\n",
       "    }\n",
       "\n",
       "    .dataframe thead th {\n",
       "        text-align: right;\n",
       "    }\n",
       "</style>\n",
       "<table border=\"1\" class=\"dataframe\">\n",
       "  <thead>\n",
       "    <tr style=\"text-align: right;\">\n",
       "      <th></th>\n",
       "      <th>k1</th>\n",
       "      <th>k2</th>\n",
       "      <th>c</th>\n",
       "    </tr>\n",
       "  </thead>\n",
       "  <tbody>\n",
       "    <tr>\n",
       "      <th>0</th>\n",
       "      <td>a</td>\n",
       "      <td>v</td>\n",
       "      <td>1</td>\n",
       "    </tr>\n",
       "    <tr>\n",
       "      <th>1</th>\n",
       "      <td>b</td>\n",
       "      <td>w</td>\n",
       "      <td>2</td>\n",
       "    </tr>\n",
       "    <tr>\n",
       "      <th>3</th>\n",
       "      <td>c</td>\n",
       "      <td>x</td>\n",
       "      <td>4</td>\n",
       "    </tr>\n",
       "  </tbody>\n",
       "</table>\n",
       "</div>"
      ],
      "text/plain": [
       "  k1 k2  c\n",
       "0  a  v  1\n",
       "1  b  w  2\n",
       "3  c  x  4"
      ]
     },
     "execution_count": 145,
     "metadata": {},
     "output_type": "execute_result"
    }
   ],
   "source": [
    "df.drop_duplicates(['k1'], keep = 'first')   # 중복값을 제거한다. / #default"
   ]
  },
  {
   "cell_type": "code",
   "execution_count": 146,
   "metadata": {},
   "outputs": [
    {
     "data": {
      "text/html": [
       "<div>\n",
       "<style scoped>\n",
       "    .dataframe tbody tr th:only-of-type {\n",
       "        vertical-align: middle;\n",
       "    }\n",
       "\n",
       "    .dataframe tbody tr th {\n",
       "        vertical-align: top;\n",
       "    }\n",
       "\n",
       "    .dataframe thead th {\n",
       "        text-align: right;\n",
       "    }\n",
       "</style>\n",
       "<table border=\"1\" class=\"dataframe\">\n",
       "  <thead>\n",
       "    <tr style=\"text-align: right;\">\n",
       "      <th></th>\n",
       "      <th>k1</th>\n",
       "      <th>k2</th>\n",
       "      <th>c</th>\n",
       "    </tr>\n",
       "  </thead>\n",
       "  <tbody>\n",
       "    <tr>\n",
       "      <th>0</th>\n",
       "      <td>a</td>\n",
       "      <td>v</td>\n",
       "      <td>1</td>\n",
       "    </tr>\n",
       "    <tr>\n",
       "      <th>2</th>\n",
       "      <td>b</td>\n",
       "      <td>w</td>\n",
       "      <td>3</td>\n",
       "    </tr>\n",
       "    <tr>\n",
       "      <th>4</th>\n",
       "      <td>c</td>\n",
       "      <td>y</td>\n",
       "      <td>5</td>\n",
       "    </tr>\n",
       "  </tbody>\n",
       "</table>\n",
       "</div>"
      ],
      "text/plain": [
       "  k1 k2  c\n",
       "0  a  v  1\n",
       "2  b  w  3\n",
       "4  c  y  5"
      ]
     },
     "execution_count": 146,
     "metadata": {},
     "output_type": "execute_result"
    }
   ],
   "source": [
    "df.drop_duplicates(['k1'], keep = 'last') "
   ]
  },
  {
   "cell_type": "code",
   "execution_count": 147,
   "metadata": {},
   "outputs": [
    {
     "data": {
      "text/html": [
       "<div>\n",
       "<style scoped>\n",
       "    .dataframe tbody tr th:only-of-type {\n",
       "        vertical-align: middle;\n",
       "    }\n",
       "\n",
       "    .dataframe tbody tr th {\n",
       "        vertical-align: top;\n",
       "    }\n",
       "\n",
       "    .dataframe thead th {\n",
       "        text-align: right;\n",
       "    }\n",
       "</style>\n",
       "<table border=\"1\" class=\"dataframe\">\n",
       "  <thead>\n",
       "    <tr style=\"text-align: right;\">\n",
       "      <th></th>\n",
       "      <th>k1</th>\n",
       "      <th>k2</th>\n",
       "      <th>c</th>\n",
       "    </tr>\n",
       "  </thead>\n",
       "  <tbody>\n",
       "    <tr>\n",
       "      <th>0</th>\n",
       "      <td>a</td>\n",
       "      <td>v</td>\n",
       "      <td>1</td>\n",
       "    </tr>\n",
       "  </tbody>\n",
       "</table>\n",
       "</div>"
      ],
      "text/plain": [
       "  k1 k2  c\n",
       "0  a  v  1"
      ]
     },
     "execution_count": 147,
     "metadata": {},
     "output_type": "execute_result"
    }
   ],
   "source": [
    "df.drop_duplicates(['k1'], keep = False)"
   ]
  },
  {
   "cell_type": "code",
   "execution_count": 148,
   "metadata": {},
   "outputs": [
    {
     "data": {
      "text/html": [
       "<div>\n",
       "<style scoped>\n",
       "    .dataframe tbody tr th:only-of-type {\n",
       "        vertical-align: middle;\n",
       "    }\n",
       "\n",
       "    .dataframe tbody tr th {\n",
       "        vertical-align: top;\n",
       "    }\n",
       "\n",
       "    .dataframe thead th {\n",
       "        text-align: right;\n",
       "    }\n",
       "</style>\n",
       "<table border=\"1\" class=\"dataframe\">\n",
       "  <thead>\n",
       "    <tr style=\"text-align: right;\">\n",
       "      <th></th>\n",
       "      <th>s</th>\n",
       "      <th>d</th>\n",
       "      <th>c</th>\n",
       "    </tr>\n",
       "  </thead>\n",
       "  <tbody>\n",
       "    <tr>\n",
       "      <th>0</th>\n",
       "      <td>f</td>\n",
       "      <td>a</td>\n",
       "      <td>1</td>\n",
       "    </tr>\n",
       "    <tr>\n",
       "      <th>1</th>\n",
       "      <td>m</td>\n",
       "      <td>a</td>\n",
       "      <td>1</td>\n",
       "    </tr>\n",
       "    <tr>\n",
       "      <th>2</th>\n",
       "      <td>m</td>\n",
       "      <td>a</td>\n",
       "      <td>3</td>\n",
       "    </tr>\n",
       "    <tr>\n",
       "      <th>3</th>\n",
       "      <td>f</td>\n",
       "      <td>a</td>\n",
       "      <td>4</td>\n",
       "    </tr>\n",
       "    <tr>\n",
       "      <th>4</th>\n",
       "      <td>m</td>\n",
       "      <td>NaN</td>\n",
       "      <td>4</td>\n",
       "    </tr>\n",
       "  </tbody>\n",
       "</table>\n",
       "</div>"
      ],
      "text/plain": [
       "   s    d  c\n",
       "0  f    a  1\n",
       "1  m    a  1\n",
       "2  m    a  3\n",
       "3  f    a  4\n",
       "4  m  NaN  4"
      ]
     },
     "execution_count": 148,
     "metadata": {},
     "output_type": "execute_result"
    }
   ],
   "source": [
    "# value_counts\n",
    "df = pd.DataFrame({\n",
    "    's' : ['f', 'm', 'm', 'f', 'm'],\n",
    "    'd' : ['a', 'a', 'a', 'a', np.nan],\n",
    "    'c' : [1,1,3,4,4]\n",
    "});df"
   ]
  },
  {
   "cell_type": "code",
   "execution_count": 149,
   "metadata": {},
   "outputs": [
    {
     "name": "stdout",
     "output_type": "stream",
     "text": [
      "<class 'pandas.core.frame.DataFrame'>\n",
      "RangeIndex: 5 entries, 0 to 4\n",
      "Data columns (total 3 columns):\n",
      "s    5 non-null object\n",
      "d    4 non-null object\n",
      "c    5 non-null int64\n",
      "dtypes: int64(1), object(2)\n",
      "memory usage: 200.0+ bytes\n"
     ]
    },
    {
     "data": {
      "text/plain": [
       "array(['a', nan], dtype=object)"
      ]
     },
     "execution_count": 149,
     "metadata": {},
     "output_type": "execute_result"
    }
   ],
   "source": [
    "df.info()\n",
    "df['s'].unique() \n",
    "df['d'].unique() "
   ]
  },
  {
   "cell_type": "code",
   "execution_count": 150,
   "metadata": {
    "scrolled": false
   },
   "outputs": [
    {
     "name": "stdout",
     "output_type": "stream",
     "text": [
      "m    3\n",
      "f    2\n",
      "Name: s, dtype: int64\n",
      "************************\n",
      "a    4\n",
      "Name: d, dtype: int64\n"
     ]
    }
   ],
   "source": [
    "# value_count\n",
    "print(df['s'].value_counts())\n",
    "print(\"************************\")\n",
    "print(df['d'].value_counts())"
   ]
  },
  {
   "cell_type": "markdown",
   "metadata": {},
   "source": [
    "- value_counts()는 Series에서의 메서드에 해당.\n",
    "    - 따라서 df.value_counts()는 말이 안됨.\n",
    "    - nan은 결과가 나오지 않음."
   ]
  },
  {
   "cell_type": "code",
   "execution_count": 151,
   "metadata": {},
   "outputs": [
    {
     "data": {
      "text/plain": [
       "m    0.6\n",
       "f    0.4\n",
       "Name: s, dtype: float64"
      ]
     },
     "execution_count": 151,
     "metadata": {},
     "output_type": "execute_result"
    }
   ],
   "source": [
    "df['s'].value_counts(normalize = True) # 빈도 확률로 나옴."
   ]
  },
  {
   "cell_type": "code",
   "execution_count": 152,
   "metadata": {},
   "outputs": [
    {
     "name": "stdout",
     "output_type": "stream",
     "text": [
      "4    2\n",
      "1    2\n",
      "3    1\n",
      "Name: c, dtype: int64\n",
      "******************************\n",
      "3    1\n",
      "1    2\n",
      "4    2\n",
      "Name: c, dtype: int64\n"
     ]
    }
   ],
   "source": [
    "print(df['c'].value_counts(sort=True))  # default는 내림차순 정렬\n",
    "print(\"******************************\")\n",
    "print(df['c'].value_counts(sort=True, ascending = True))"
   ]
  },
  {
   "cell_type": "code",
   "execution_count": 153,
   "metadata": {},
   "outputs": [
    {
     "name": "stdout",
     "output_type": "stream",
     "text": [
      "a    4\n",
      "Name: d, dtype: int64\n",
      "******************************\n",
      "a      4\n",
      "NaN    1\n",
      "Name: d, dtype: int64\n"
     ]
    }
   ],
   "source": [
    "print(df['d'].value_counts(dropna = True))  # default\n",
    "print(\"******************************\")\n",
    "print(df['d'].value_counts(dropna = False))  # nan 도 보여지도록."
   ]
  },
  {
   "cell_type": "code",
   "execution_count": 154,
   "metadata": {},
   "outputs": [],
   "source": [
    "#오후 연습문제\n",
    "# 캐글 -> 타이타닉 -> 호칭 -> 호칭별 건수 -> 상위 10개 호칭 조사\n",
    "# 나이(age) -> 구간화 -> 구간별 건수 -> sort -> sort 출력\n",
    "# 시각화"
   ]
  },
  {
   "cell_type": "code",
   "execution_count": 175,
   "metadata": {},
   "outputs": [
    {
     "data": {
      "text/plain": [
       "(-0.001, 1.0]    2\n",
       "(1.0, 2.0]       0\n",
       "(2.0, 3.0]       1\n",
       "(3.0, 4.0]       2\n",
       "Name: c, dtype: int64"
      ]
     },
     "execution_count": 175,
     "metadata": {},
     "output_type": "execute_result"
    }
   ],
   "source": [
    "df['c'].value_counts(sort = False, bins = [0,1,2,3,4])"
   ]
  },
  {
   "cell_type": "markdown",
   "metadata": {},
   "source": [
    "- bins는 구간을 의미\n",
    "    - 0~1 / 1~2 / 2~3 / 3~4 구간으로."
   ]
  },
  {
   "cell_type": "code",
   "execution_count": 185,
   "metadata": {
    "scrolled": true
   },
   "outputs": [
    {
     "name": "stdout",
     "output_type": "stream",
     "text": [
      "0    (0, 1]\n",
      "1    (0, 1]\n",
      "2    (2, 3]\n",
      "3    (3, 4]\n",
      "4    (3, 4]\n",
      "Name: c, dtype: category\n",
      "Categories (4, interval[int64]): [(0, 1] < (1, 2] < (2, 3] < (3, 4]]\n",
      "*************구분*************\n",
      "(3, 4]    2\n",
      "(0, 1]    2\n",
      "(2, 3]    1\n",
      "(1, 2]    0\n",
      "Name: c, dtype: int64\n"
     ]
    }
   ],
   "source": [
    "res = pd.cut(df['c'], bins = [0,1,2,3,4]);res   # 해당 값의 구간들을 serial 형태로 출력.\n",
    "print(res)\n",
    "print(\"*************구분*************\")\n",
    "print(pd.value_counts(res))"
   ]
  },
  {
   "cell_type": "markdown",
   "metadata": {},
   "source": [
    "- 정규분포 -> 선형변환 -> 표준정규분포\n",
    "    - 선형변환\n",
    "        - 원래 값에 (+, -, *, /) 등을 수행.\n",
    "    - 표준정규분포\n",
    "        - Zscore =  (x - x바) / Sx\n",
    "        - 평군으로부터 자신의 값이 얼마 만큼 떨어져 있는지 확인."
   ]
  },
  {
   "cell_type": "markdown",
   "metadata": {},
   "source": [
    "# 표준정규분포\n",
    "- standardScaler\n",
    "- robustScaler"
   ]
  },
  {
   "cell_type": "code",
   "execution_count": 192,
   "metadata": {
    "scrolled": true
   },
   "outputs": [
    {
     "data": {
      "text/plain": [
       "array([[10,  4, 17, 13,  6],\n",
       "       [ 0, 15, 18, 12, 14],\n",
       "       [12,  6, 14, 16,  1],\n",
       "       [ 1,  1,  2,  8, 18],\n",
       "       [ 5, 15, 11, 19,  9],\n",
       "       [18, 15, 18, 11,  7]])"
      ]
     },
     "execution_count": 192,
     "metadata": {},
     "output_type": "execute_result"
    }
   ],
   "source": [
    "data = np.random.randint(20, size = (6,5));data"
   ]
  },
  {
   "cell_type": "code",
   "execution_count": 353,
   "metadata": {},
   "outputs": [
    {
     "name": "stdout",
     "output_type": "stream",
     "text": [
      "[ 7.66666667  9.33333333 13.33333333 13.16666667  9.16666667]\n",
      "\n",
      "[[  2.33333333  -5.33333333   3.66666667  -0.16666667  -3.16666667]\n",
      " [ -7.66666667   5.66666667   4.66666667  -1.16666667   4.83333333]\n",
      " [  4.33333333  -3.33333333   0.66666667   2.83333333  -8.16666667]\n",
      " [ -6.66666667  -8.33333333 -11.33333333  -5.16666667   8.83333333]\n",
      " [ -2.66666667   5.66666667  -2.33333333   5.83333333  -0.16666667]\n",
      " [ 10.33333333   5.66666667   4.66666667  -2.16666667  -2.16666667]]\n",
      "\n",
      "[[ 0.36791183 -0.91168461  0.64930947 -0.04719292 -0.57365434]\n",
      " [-1.20885316  0.9686649   0.82639387 -0.33035042  0.87557768]\n",
      " [ 0.68326483 -0.56980288  0.11805627  0.8022796  -1.47942436]\n",
      " [-1.05117666 -1.42450721 -2.00695654 -1.46298045  1.6001937 ]\n",
      " [-0.42047066  0.9686649  -0.41319694  1.65175212 -0.03019233]\n",
      " [ 1.62932383  0.9686649   0.82639387 -0.61350793 -0.39250034]]\n"
     ]
    }
   ],
   "source": [
    "# 표준 정규화 방법1. - 평균으로 정규화\n",
    "import numpy as np\n",
    "#1. numpy 표준화\n",
    "np.mean(data);data # 전체 평균\n",
    "# 표준화 : (각 열의 데이터 - 각 열의 평균) / 표준편차\n",
    "# Z = (x - mean()) / std()\n",
    "print(np.mean(data, axis = 0))\n",
    "print()\n",
    "print(data - np.mean(data, axis = 0))\n",
    "print()\n",
    "print((data - np.mean(data, axis = 0)) / np.std(data, axis = 0 ))  \n",
    "## 주의해야 할 것!!! => 각 열 별로 표준 편차를 구해야 하므로 axis= 0을 꼭 취해야 함.\n",
    "std_data = (data - np.mean(data, axis = 0)) / np.std(data, axis = 0) # 각 열에 표준정규화 된 data"
   ]
  },
  {
   "cell_type": "code",
   "execution_count": 354,
   "metadata": {},
   "outputs": [
    {
     "data": {
      "text/plain": [
       "array([-7.40148683e-17, -1.11022302e-16, -1.29526020e-16,  1.66533454e-16,\n",
       "        8.32667268e-17])"
      ]
     },
     "execution_count": 354,
     "metadata": {},
     "output_type": "execute_result"
    }
   ],
   "source": [
    "np.mean(std_data, axis = 0)"
   ]
  },
  {
   "cell_type": "code",
   "execution_count": 355,
   "metadata": {},
   "outputs": [
    {
     "data": {
      "text/plain": [
       "array([1., 1., 1., 1., 1.])"
      ]
     },
     "execution_count": 355,
     "metadata": {},
     "output_type": "execute_result"
    }
   ],
   "source": [
    "np.std(std_data, axis= 0)"
   ]
  },
  {
   "cell_type": "code",
   "execution_count": 356,
   "metadata": {},
   "outputs": [
    {
     "data": {
      "text/plain": [
       "array([[ 0.36791183, -0.91168461,  0.64930947, -0.04719292, -0.57365434],\n",
       "       [-1.20885316,  0.9686649 ,  0.82639387, -0.33035042,  0.87557768],\n",
       "       [ 0.68326483, -0.56980288,  0.11805627,  0.8022796 , -1.47942436],\n",
       "       [-1.05117666, -1.42450721, -2.00695654, -1.46298045,  1.6001937 ],\n",
       "       [-0.42047066,  0.9686649 , -0.41319694,  1.65175212, -0.03019233],\n",
       "       [ 1.62932383,  0.9686649 ,  0.82639387, -0.61350793, -0.39250034]])"
      ]
     },
     "execution_count": 356,
     "metadata": {},
     "output_type": "execute_result"
    }
   ],
   "source": [
    "# 표준 정규화 방법2.- 평균으로 정규화\n",
    "import scipy.stats as ss\n",
    "ss.zscore(data)"
   ]
  },
  {
   "cell_type": "code",
   "execution_count": 357,
   "metadata": {},
   "outputs": [
    {
     "name": "stderr",
     "output_type": "stream",
     "text": [
      "C:\\Anaconda3\\lib\\site-packages\\sklearn\\utils\\validation.py:595: DataConversionWarning: Data with input dtype int32 was converted to float64 by StandardScaler.\n",
      "  warnings.warn(msg, DataConversionWarning)\n",
      "C:\\Anaconda3\\lib\\site-packages\\sklearn\\utils\\validation.py:595: DataConversionWarning: Data with input dtype int32 was converted to float64 by StandardScaler.\n",
      "  warnings.warn(msg, DataConversionWarning)\n"
     ]
    },
    {
     "data": {
      "text/plain": [
       "array([[ 0.36791183, -0.91168461,  0.64930947, -0.04719292, -0.57365434],\n",
       "       [-1.20885316,  0.9686649 ,  0.82639387, -0.33035042,  0.87557768],\n",
       "       [ 0.68326483, -0.56980288,  0.11805627,  0.8022796 , -1.47942436],\n",
       "       [-1.05117666, -1.42450721, -2.00695654, -1.46298045,  1.6001937 ],\n",
       "       [-0.42047066,  0.9686649 , -0.41319694,  1.65175212, -0.03019233],\n",
       "       [ 1.62932383,  0.9686649 ,  0.82639387, -0.61350793, -0.39250034]])"
      ]
     },
     "execution_count": 357,
     "metadata": {},
     "output_type": "execute_result"
    }
   ],
   "source": [
    "# 표준 정규화 방법3. - 평균으로 정규화\n",
    "from sklearn.preprocessing import StandardScaler\n",
    "std_data = StandardScaler().fit_transform(data)\n",
    "std_data"
   ]
  },
  {
   "cell_type": "markdown",
   "metadata": {},
   "source": [
    "- 이상치, 특이값이 포함되어 있는 데이터의 표준화\n",
    "- 평균, 표준편차는 이상치의 영향을 크게 받음(민감함)\n",
    "- 중앙값, IQR(Q3 - Q1)\n",
    "- robustscaler = (x - median()) / IQR (뒤에서 다시 설명)\n",
    "    - 이상치를 제거 하면 좋지만, 부득이하게 제거가 어려울 때 robustscaler를 사용.\n",
    "    - robustscaler는 '강인하다'는 뜻으로,\n",
    "    - 이상치의 영향을 크게 받지 않음.\n",
    "    "
   ]
  },
  {
   "cell_type": "code",
   "execution_count": 358,
   "metadata": {
    "scrolled": true
   },
   "outputs": [
    {
     "name": "stdout",
     "output_type": "stream",
     "text": [
      "10.147389546015\n"
     ]
    },
    {
     "data": {
      "image/png": "[encoded data removed]",
      "text/plain": [
       "<Figure size 432x288 with 1 Axes>"
      ]
     },
     "metadata": {
      "needs_background": "light"
     },
     "output_type": "display_data"
    }
   ],
   "source": [
    "np.random.seed(73)  \n",
    "mu, sigma = 10, 3\n",
    "x = mu + sigma*np.random.randn(100);x\n",
    "import matplotlib.pyplot as plt\n",
    "plt.hist(x)\n",
    "print(np.mean(x))\n",
    "plt.show()"
   ]
  },
  {
   "cell_type": "markdown",
   "metadata": {},
   "source": [
    "- seed 값을 꼭 줘야 모델의 변화를 확인할 수 있다."
   ]
  },
  {
   "cell_type": "code",
   "execution_count": 359,
   "metadata": {},
   "outputs": [
    {
     "data": {
      "text/plain": [
       "3.014695610662603"
      ]
     },
     "execution_count": 359,
     "metadata": {},
     "output_type": "execute_result"
    }
   ],
   "source": [
    "np.std(x)"
   ]
  },
  {
   "cell_type": "code",
   "execution_count": 360,
   "metadata": {},
   "outputs": [
    {
     "data": {
      "text/plain": [
       "array([1.17304392e+01, 1.63933264e+01, 1.73206590e+01, 1.07899806e+01,\n",
       "       5.51163806e+00, 9.88979408e+00, 1.12920874e+01, 5.41157701e+00,\n",
       "       7.80922097e+00, 1.31539457e+01, 1.48593780e+01, 5.18495989e+00,\n",
       "       1.09930286e+01, 9.36714293e+00, 1.08945301e+01, 6.56177945e+00,\n",
       "       1.17260861e+01, 8.90828010e+00, 1.01091976e+01, 8.43830804e+00,\n",
       "       9.95270700e+00, 9.86247581e+00, 8.14476643e+00, 7.54049167e+00,\n",
       "       1.15294257e+01, 1.31518183e+01, 1.04350957e+01, 8.97743181e+00,\n",
       "       1.37323753e+01, 1.49674550e+01, 9.18100947e+00, 8.92022193e+00,\n",
       "       7.33842885e-02, 1.31550968e+01, 9.32104691e+00, 8.01247213e+00,\n",
       "       1.27391756e+01, 1.27635065e+01, 1.27163572e+01, 8.54749669e+00,\n",
       "       7.85535142e+00, 1.05471619e+01, 1.17301502e+01, 5.30930238e+00,\n",
       "       1.56590461e+01, 6.80288206e+00, 1.03384932e+01, 8.23193967e+00,\n",
       "       1.19328003e+01, 1.09154191e+01, 1.18521557e+01, 1.32972652e+01,\n",
       "       8.69230361e+00, 1.11955065e+01, 1.00184890e+01, 4.93669823e+00,\n",
       "       1.00159642e+01, 1.23676160e+01, 1.17718161e+01, 6.89236123e+00,\n",
       "       1.31223094e+01, 8.03537406e+00, 8.08006912e+00, 1.13229199e+01,\n",
       "       9.03981268e+00, 1.42036144e+01, 1.05615933e+01, 1.29697810e+01,\n",
       "       9.91591744e+00, 1.05035811e+01, 1.15073566e+01, 3.56759120e+00,\n",
       "       8.21116157e+00, 5.44896509e+00, 5.56285490e+00, 1.22580274e+01,\n",
       "       1.24732330e+01, 1.04441867e+01, 9.02892504e+00, 9.76647714e+00,\n",
       "       1.45545959e+01, 8.21246438e+00, 1.11429535e+01, 9.91375489e+00,\n",
       "       1.78803937e+01, 1.23888896e+01, 9.48135079e+00, 1.52441180e+01,\n",
       "       9.54254465e+00, 9.33075236e+00, 7.18685342e+00, 8.42851238e+00,\n",
       "       6.92798126e+00, 1.62176380e+01, 8.87672899e+00, 1.00000000e+02,\n",
       "       1.00000000e+02, 1.00000000e+02, 1.00000000e+02, 1.00000000e+02])"
      ]
     },
     "execution_count": 360,
     "metadata": {},
     "output_type": "execute_result"
    }
   ],
   "source": [
    "x[95:100] = 100; x"
   ]
  },
  {
   "cell_type": "code",
   "execution_count": 361,
   "metadata": {},
   "outputs": [
    {
     "data": {
      "text/plain": [
       "(array([ 1.,  1.,  7.,  8., 29., 25., 14.,  6.,  4.,  0.,  0.,  0.,  0.,\n",
       "         0.,  0.,  0.,  0.,  0.,  0.,  0.,  0.,  0.,  0.,  0.,  0.,  0.,\n",
       "         0.,  0.,  0.,  0.,  0.,  0.,  0.,  0.,  0.,  0.,  0.,  0.,  0.,\n",
       "         0.,  0.,  0.,  0.,  0.,  0.,  0.,  0.,  0.,  0.,  5.]),\n",
       " array([  0,   2,   4,   6,   8,  10,  12,  14,  16,  18,  20,  22,  24,\n",
       "         26,  28,  30,  32,  34,  36,  38,  40,  42,  44,  46,  48,  50,\n",
       "         52,  54,  56,  58,  60,  62,  64,  66,  68,  70,  72,  74,  76,\n",
       "         78,  80,  82,  84,  86,  88,  90,  92,  94,  96,  98, 100]),\n",
       " <a list of 50 Patch objects>)"
      ]
     },
     "execution_count": 361,
     "metadata": {},
     "output_type": "execute_result"
    },
    {
     "data": {
      "image/png": "[encoded data removed]",
      "text/plain": [
       "<Figure size 432x288 with 1 Axes>"
      ]
     },
     "metadata": {
      "needs_background": "light"
     },
     "output_type": "display_data"
    }
   ],
   "source": [
    "# 이상치의 요상함.\n",
    "plt.hist(x, bins = np.arange(0,101, 2))   # bins를 사용하여, 이상치 값을 쉽게 확인해본다."
   ]
  },
  {
   "cell_type": "code",
   "execution_count": 362,
   "metadata": {},
   "outputs": [
    {
     "name": "stdout",
     "output_type": "stream",
     "text": [
      "(100,)\n",
      "(100, 1)\n"
     ]
    }
   ],
   "source": [
    "print(np.shape(x))\n",
    "x = x.reshape(-1, 1)   # -1 : 니가 알아서 계산해.(난 하기 싫어.)\n",
    "print(np.shape(x))"
   ]
  },
  {
   "cell_type": "markdown",
   "metadata": {},
   "source": [
    "cf. Deep Learning에서 -1 => None"
   ]
  },
  {
   "cell_type": "code",
   "execution_count": 363,
   "metadata": {
    "scrolled": true
   },
   "outputs": [
    {
     "data": {
      "text/plain": [
       "array([[-0.15094936],\n",
       "       [ 0.08465915],\n",
       "       [ 0.13151584],\n",
       "       [-0.19846928],\n",
       "       [-0.46517581],\n",
       "       [-0.24395432],\n",
       "       [-0.1730986 ],\n",
       "       [-0.47023174],\n",
       "       [-0.34908248],\n",
       "       [-0.07902176],\n",
       "       [ 0.0071511 ],\n",
       "       [-0.48168235],\n",
       "       [-0.18820958],\n",
       "       [-0.27036308],\n",
       "       [-0.19318656],\n",
       "       [-0.41211378],\n",
       "       [-0.15116931],\n",
       "       [-0.29354871],\n",
       "       [-0.2328682 ],\n",
       "       [-0.31729568],\n",
       "       [-0.24077543],\n",
       "       [-0.24533467],\n",
       "       [-0.33212788],\n",
       "       [-0.36266096],\n",
       "       [-0.16110626],\n",
       "       [-0.07912926],\n",
       "       [-0.21640107],\n",
       "       [-0.29005458],\n",
       "       [-0.04979461],\n",
       "       [ 0.01261207],\n",
       "       [-0.27976812],\n",
       "       [-0.29294531],\n",
       "       [-0.7399624 ],\n",
       "       [-0.0789636 ],\n",
       "       [-0.27269224],\n",
       "       [-0.33881251],\n",
       "       [-0.09997946],\n",
       "       [-0.09875006],\n",
       "       [-0.10113244],\n",
       "       [-0.31177854],\n",
       "       [-0.34675158],\n",
       "       [-0.21073854],\n",
       "       [-0.15096396],\n",
       "       [-0.47539952],\n",
       "       [ 0.0475571 ],\n",
       "       [-0.39993123],\n",
       "       [-0.22128225],\n",
       "       [-0.32772315],\n",
       "       [-0.14072436],\n",
       "       [-0.19213107],\n",
       "       [-0.14479921],\n",
       "       [-0.07178005],\n",
       "       [-0.30446167],\n",
       "       [-0.17797868],\n",
       "       [-0.23745157],\n",
       "       [-0.49422663],\n",
       "       [-0.23757914],\n",
       "       [-0.1187538 ],\n",
       "       [-0.14885864],\n",
       "       [-0.39540999],\n",
       "       [-0.0806203 ],\n",
       "       [-0.33765531],\n",
       "       [-0.33539694],\n",
       "       [-0.17154068],\n",
       "       [-0.28690257],\n",
       "       [-0.02598362],\n",
       "       [-0.21000934],\n",
       "       [-0.08832732],\n",
       "       [-0.24263435],\n",
       "       [-0.21294061],\n",
       "       [-0.16222138],\n",
       "       [-0.5634055 ],\n",
       "       [-0.32877304],\n",
       "       [-0.46834257],\n",
       "       [-0.4625879 ],\n",
       "       [-0.12429114],\n",
       "       [-0.11341713],\n",
       "       [-0.21594172],\n",
       "       [-0.28745271],\n",
       "       [-0.25018534],\n",
       "       [-0.00824906],\n",
       "       [-0.32870721],\n",
       "       [-0.18063411],\n",
       "       [-0.24274362],\n",
       "       [ 0.15979838],\n",
       "       [-0.11767887],\n",
       "       [-0.26459233],\n",
       "       [ 0.02659142],\n",
       "       [-0.2615003 ],\n",
       "       [-0.27220184],\n",
       "       [-0.38052975],\n",
       "       [-0.31779064],\n",
       "       [-0.39361016],\n",
       "       [ 0.07578189],\n",
       "       [-0.29514294],\n",
       "       [ 4.30917567],\n",
       "       [ 4.30917567],\n",
       "       [ 4.30917567],\n",
       "       [ 4.30917567],\n",
       "       [ 4.30917567]])"
      ]
     },
     "execution_count": 363,
     "metadata": {},
     "output_type": "execute_result"
    }
   ],
   "source": [
    "#  StandardScaler()\n",
    "# 잘못된 표준화 -> 왜냐하면 전체로 하면 안되고, 열마다 서로 다르게 해야 함.\n",
    "#그러나 RobustScaler()와 비교를 하기 위해 그냥 하는 것임.\n",
    "std_x = StandardScaler().fit_transform(x); std_x"
   ]
  },
  {
   "cell_type": "code",
   "execution_count": 322,
   "metadata": {},
   "outputs": [
    {
     "name": "stdout",
     "output_type": "stream",
     "text": [
      "5.329070518200751e-17\n",
      "1.0\n"
     ]
    }
   ],
   "source": [
    "print(np.mean(std_x))\n",
    "print(np.std(std_x))"
   ]
  },
  {
   "cell_type": "code",
   "execution_count": 323,
   "metadata": {},
   "outputs": [
    {
     "data": {
      "text/plain": [
       "(array([48., 47.,  0.,  0.,  0.,  0.,  0.,  0.,  0.,  5.]),\n",
       " array([-0.7399624 , -0.23504859,  0.26986522,  0.77477902,  1.27969283,\n",
       "         1.78460664,  2.28952044,  2.79443425,  3.29934806,  3.80426186,\n",
       "         4.30917567]),\n",
       " <a list of 10 Patch objects>)"
      ]
     },
     "execution_count": 323,
     "metadata": {},
     "output_type": "execute_result"
    },
    {
     "data": {
      "image/png": "[encoded data removed]",
      "text/plain": [
       "<Figure size 432x288 with 1 Axes>"
      ]
     },
     "metadata": {
      "needs_background": "light"
     },
     "output_type": "display_data"
    }
   ],
   "source": [
    "plt.hist(std_x)"
   ]
  },
  {
   "cell_type": "code",
   "execution_count": 330,
   "metadata": {},
   "outputs": [
    {
     "data": {
      "text/plain": [
       "array([-0.15094936,  0.08465915,  0.13151584, -0.19846928, -0.46517581,\n",
       "       -0.24395432, -0.1730986 , -0.47023174, -0.34908248, -0.07902176,\n",
       "        0.0071511 , -0.48168235, -0.18820958, -0.27036308, -0.19318656,\n",
       "       -0.41211378, -0.15116931, -0.29354871, -0.2328682 , -0.31729568,\n",
       "       -0.24077543, -0.24533467, -0.33212788, -0.36266096, -0.16110626,\n",
       "       -0.07912926, -0.21640107, -0.29005458, -0.04979461,  0.01261207,\n",
       "       -0.27976812, -0.29294531, -0.7399624 , -0.0789636 , -0.27269224,\n",
       "       -0.33881251, -0.09997946, -0.09875006, -0.10113244, -0.31177854,\n",
       "       -0.34675158, -0.21073854, -0.15096396, -0.47539952,  0.0475571 ,\n",
       "       -0.39993123, -0.22128225, -0.32772315, -0.14072436, -0.19213107,\n",
       "       -0.14479921, -0.07178005, -0.30446167, -0.17797868, -0.23745157,\n",
       "       -0.49422663, -0.23757914, -0.1187538 , -0.14885864, -0.39540999,\n",
       "       -0.0806203 , -0.33765531, -0.33539694, -0.17154068, -0.28690257,\n",
       "       -0.02598362, -0.21000934, -0.08832732, -0.24263435, -0.21294061,\n",
       "       -0.16222138, -0.5634055 , -0.32877304, -0.46834257, -0.4625879 ,\n",
       "       -0.12429114, -0.11341713, -0.21594172, -0.28745271, -0.25018534,\n",
       "       -0.00824906, -0.32870721, -0.18063411, -0.24274362,  0.15979838,\n",
       "       -0.11767887, -0.26459233,  0.02659142, -0.2615003 , -0.27220184,\n",
       "       -0.38052975, -0.31779064, -0.39361016,  0.07578189, -0.29514294])"
      ]
     },
     "execution_count": 330,
     "metadata": {},
     "output_type": "execute_result"
    }
   ],
   "source": [
    "std_o = std_x[std_x < 4];std_o # 이상치 값을 제거."
   ]
  },
  {
   "cell_type": "code",
   "execution_count": 336,
   "metadata": {},
   "outputs": [
    {
     "data": {
      "text/plain": [
       "(array([ 0.,  1.,  9., 45., 32.,  8.,  0.,  0.,  0.]),\n",
       " array([-1.00000000e+00, -8.00000000e-01, -6.00000000e-01, -4.00000000e-01,\n",
       "        -2.00000000e-01, -2.22044605e-16,  2.00000000e-01,  4.00000000e-01,\n",
       "         6.00000000e-01,  8.00000000e-01]),\n",
       " <a list of 9 Patch objects>)"
      ]
     },
     "execution_count": 336,
     "metadata": {},
     "output_type": "execute_result"
    },
    {
     "data": {
      "image/png": "[encoded data removed]",
      "text/plain": [
       "<Figure size 432x288 with 1 Axes>"
      ]
     },
     "metadata": {
      "needs_background": "light"
     },
     "output_type": "display_data"
    }
   ],
   "source": [
    "plt.hist(std_o, bins = np.arange(-1,1, 0.2))"
   ]
  },
  {
   "cell_type": "code",
   "execution_count": 367,
   "metadata": {
    "scrolled": true
   },
   "outputs": [
    {
     "name": "stdout",
     "output_type": "stream",
     "text": [
      "[[ 3.27865765e-01]\n",
      " [ 1.46566736e+00]\n",
      " [ 1.69194788e+00]\n",
      " [ 9.83823630e-02]\n",
      " [-1.18959787e+00]\n",
      " [-1.21274179e-01]\n",
      " [ 2.20902557e-01]\n",
      " [-1.21401399e+00]\n",
      " [-6.28959499e-01]\n",
      " [ 6.75218799e-01]\n",
      " [ 1.09136517e+00]\n",
      " [-1.26931134e+00]\n",
      " [ 1.47928556e-01]\n",
      " [-2.48807460e-01]\n",
      " [ 1.23893718e-01]\n",
      " [-9.33350510e-01]\n",
      " [ 3.26803559e-01]\n",
      " [-3.60775612e-01]\n",
      " [-6.77370358e-02]\n",
      " [-4.75454548e-01]\n",
      " [-1.05922655e-01]\n",
      " [-1.27940169e-01]\n",
      " [-5.47082297e-01]\n",
      " [-6.94532739e-01]\n",
      " [ 2.78816023e-01]\n",
      " [ 6.74699692e-01]\n",
      " [ 1.17861007e-02]\n",
      " [-3.43901747e-01]\n",
      " [ 8.16362710e-01]\n",
      " [ 1.11773727e+00]\n",
      " [-2.94226304e-01]\n",
      " [-3.57861657e-01]\n",
      " [-2.51659840e+00]\n",
      " [ 6.75499676e-01]\n",
      " [-2.60055454e-01]\n",
      " [-5.79363727e-01]\n",
      " [ 5.74009819e-01]\n",
      " [ 5.79946854e-01]\n",
      " [ 5.68441851e-01]\n",
      " [-4.48811180e-01]\n",
      " [-6.17703105e-01]\n",
      " [ 3.91316169e-02]\n",
      " [ 3.27795259e-01]\n",
      " [-1.23897026e+00]\n",
      " [ 1.28649398e+00]\n",
      " [-8.74518518e-01]\n",
      " [-1.17861007e-02]\n",
      " [-5.25810959e-01]\n",
      " [ 3.77244364e-01]\n",
      " [ 1.28990877e-01]\n",
      " [ 3.57566101e-01]\n",
      " [ 7.10190508e-01]\n",
      " [-4.13476520e-01]\n",
      " [ 1.97335640e-01]\n",
      " [-8.98710463e-02]\n",
      " [-1.32989023e+00]\n",
      " [-9.04871228e-02]\n",
      " [ 4.83344709e-01]\n",
      " [ 3.37962251e-01]\n",
      " [-8.52684505e-01]\n",
      " [ 6.67499149e-01]\n",
      " [-5.73775375e-01]\n",
      " [-5.62869234e-01]\n",
      " [ 2.28426070e-01]\n",
      " [-3.28680051e-01]\n",
      " [ 9.31350828e-01]\n",
      " [ 4.26530613e-02]\n",
      " [ 6.30280363e-01]\n",
      " [-1.14899759e-01]\n",
      " [ 2.84973819e-02]\n",
      " [ 2.73430883e-01]\n",
      " [-1.66396912e+00]\n",
      " [-5.30881071e-01]\n",
      " [-1.20489084e+00]\n",
      " [-1.17710034e+00]\n",
      " [ 4.56603751e-01]\n",
      " [ 5.09116565e-01]\n",
      " [ 1.40044146e-02]\n",
      " [-3.31336766e-01]\n",
      " [-1.51365021e-01]\n",
      " [ 1.01699461e+00]\n",
      " [-5.30563169e-01]\n",
      " [ 1.84512064e-01]\n",
      " [-1.15427447e-01]\n",
      " [ 1.82853000e+00]\n",
      " [ 4.88535734e-01]\n",
      " [-2.20939343e-01]\n",
      " [ 1.18524644e+00]\n",
      " [-2.06007291e-01]\n",
      " [-2.57687205e-01]\n",
      " [-7.80824804e-01]\n",
      " [-4.77844810e-01]\n",
      " [-8.43992782e-01]\n",
      " [ 1.42279724e+00]\n",
      " [-3.68474469e-01]\n",
      " [ 2.18667197e+01]\n",
      " [ 2.18667197e+01]\n",
      " [ 2.18667197e+01]\n",
      " [ 2.18667197e+01]\n",
      " [ 2.18667197e+01]]\n"
     ]
    }
   ],
   "source": [
    "# 표준 정규화 방법1.- 중위수로 정규화\n",
    "x\n",
    "np.mean(x)  # 14.7\n",
    "np.median(x) # 10.3 \n",
    "Q1 = np.percentile(x, 25)   # 25% 지점의 수\n",
    "Q3 = np.percentile(x, 75) \n",
    "IQR = Q3 - Q1; IQR\n",
    "print((x - np.median(x)) / IQR)"
   ]
  },
  {
   "cell_type": "markdown",
   "metadata": {},
   "source": [
    "- robustscaler = (x - median()) / IQR (뒤에서 다시 설명)\n",
    "    - 이상치를 제거 하면 좋지만, 부득이하게 제거가 어려울 때 robustscaler를 사용.\n",
    "    - robustscaler는 '강인하다'는 뜻으로,\n",
    "    - 이상치의 영향을 크게 받지 않음.\n",
    "    - standscaler보다 이상치 면에서는 좋음."
   ]
  },
  {
   "cell_type": "code",
   "execution_count": 352,
   "metadata": {
    "scrolled": true
   },
   "outputs": [
    {
     "data": {
      "text/plain": [
       "array([[ 3.27865765e-01],\n",
       "       [ 1.46566736e+00],\n",
       "       [ 1.69194788e+00],\n",
       "       [ 9.83823630e-02],\n",
       "       [-1.18959787e+00],\n",
       "       [-1.21274179e-01],\n",
       "       [ 2.20902557e-01],\n",
       "       [-1.21401399e+00],\n",
       "       [-6.28959499e-01],\n",
       "       [ 6.75218799e-01],\n",
       "       [ 1.09136517e+00],\n",
       "       [-1.26931134e+00],\n",
       "       [ 1.47928556e-01],\n",
       "       [-2.48807460e-01],\n",
       "       [ 1.23893718e-01],\n",
       "       [-9.33350510e-01],\n",
       "       [ 3.26803559e-01],\n",
       "       [-3.60775612e-01],\n",
       "       [-6.77370358e-02],\n",
       "       [-4.75454548e-01],\n",
       "       [-1.05922655e-01],\n",
       "       [-1.27940169e-01],\n",
       "       [-5.47082297e-01],\n",
       "       [-6.94532739e-01],\n",
       "       [ 2.78816023e-01],\n",
       "       [ 6.74699692e-01],\n",
       "       [ 1.17861007e-02],\n",
       "       [-3.43901747e-01],\n",
       "       [ 8.16362710e-01],\n",
       "       [ 1.11773727e+00],\n",
       "       [-2.94226304e-01],\n",
       "       [-3.57861657e-01],\n",
       "       [-2.51659840e+00],\n",
       "       [ 6.75499676e-01],\n",
       "       [-2.60055454e-01],\n",
       "       [-5.79363727e-01],\n",
       "       [ 5.74009819e-01],\n",
       "       [ 5.79946854e-01],\n",
       "       [ 5.68441851e-01],\n",
       "       [-4.48811180e-01],\n",
       "       [-6.17703105e-01],\n",
       "       [ 3.91316169e-02],\n",
       "       [ 3.27795259e-01],\n",
       "       [-1.23897026e+00],\n",
       "       [ 1.28649398e+00],\n",
       "       [-8.74518518e-01],\n",
       "       [-1.17861007e-02],\n",
       "       [-5.25810959e-01],\n",
       "       [ 3.77244364e-01],\n",
       "       [ 1.28990877e-01],\n",
       "       [ 3.57566101e-01],\n",
       "       [ 7.10190508e-01],\n",
       "       [-4.13476520e-01],\n",
       "       [ 1.97335640e-01],\n",
       "       [-8.98710463e-02],\n",
       "       [-1.32989023e+00],\n",
       "       [-9.04871228e-02],\n",
       "       [ 4.83344709e-01],\n",
       "       [ 3.37962251e-01],\n",
       "       [-8.52684505e-01],\n",
       "       [ 6.67499149e-01],\n",
       "       [-5.73775375e-01],\n",
       "       [-5.62869234e-01],\n",
       "       [ 2.28426070e-01],\n",
       "       [-3.28680051e-01],\n",
       "       [ 9.31350828e-01],\n",
       "       [ 4.26530613e-02],\n",
       "       [ 6.30280363e-01],\n",
       "       [-1.14899759e-01],\n",
       "       [ 2.84973819e-02],\n",
       "       [ 2.73430883e-01],\n",
       "       [-1.66396912e+00],\n",
       "       [-5.30881071e-01],\n",
       "       [-1.20489084e+00],\n",
       "       [-1.17710034e+00],\n",
       "       [ 4.56603751e-01],\n",
       "       [ 5.09116565e-01],\n",
       "       [ 1.40044146e-02],\n",
       "       [-3.31336766e-01],\n",
       "       [-1.51365021e-01],\n",
       "       [ 1.01699461e+00],\n",
       "       [-5.30563169e-01],\n",
       "       [ 1.84512064e-01],\n",
       "       [-1.15427447e-01],\n",
       "       [ 1.82853000e+00],\n",
       "       [ 4.88535734e-01],\n",
       "       [-2.20939343e-01],\n",
       "       [ 1.18524644e+00],\n",
       "       [-2.06007291e-01],\n",
       "       [-2.57687205e-01],\n",
       "       [-7.80824804e-01],\n",
       "       [-4.77844810e-01],\n",
       "       [-8.43992782e-01],\n",
       "       [ 1.42279724e+00],\n",
       "       [-3.68474469e-01],\n",
       "       [ 2.18667197e+01],\n",
       "       [ 2.18667197e+01],\n",
       "       [ 2.18667197e+01],\n",
       "       [ 2.18667197e+01],\n",
       "       [ 2.18667197e+01]])"
      ]
     },
     "execution_count": 352,
     "metadata": {},
     "output_type": "execute_result"
    }
   ],
   "source": [
    "# 표준 정규화 방법2.- 중위수로 정규화\n",
    "rbs_x = RobustScaler().fit_transform(x); rbs_x"
   ]
  },
  {
   "cell_type": "code",
   "execution_count": 382,
   "metadata": {},
   "outputs": [
    {
     "data": {
      "text/plain": [
       "0.0"
      ]
     },
     "execution_count": 382,
     "metadata": {},
     "output_type": "execute_result"
    }
   ],
   "source": [
    "np.median(rbs_x)  \n",
    "## median을 기준으로 했기 때문에 0이 나옴.(cf. standscaler는 평균을 기준으로 했기 때문에 평균이 0)"
   ]
  },
  {
   "cell_type": "code",
   "execution_count": 372,
   "metadata": {},
   "outputs": [
    {
     "data": {
      "text/plain": [
       "1.0568310264435923"
      ]
     },
     "execution_count": 372,
     "metadata": {},
     "output_type": "execute_result"
    }
   ],
   "source": [
    "np.mean(rbs_x)"
   ]
  },
  {
   "cell_type": "code",
   "execution_count": 374,
   "metadata": {
    "scrolled": true
   },
   "outputs": [
    {
     "data": {
      "text/plain": [
       "4.829204078863935"
      ]
     },
     "execution_count": 374,
     "metadata": {},
     "output_type": "execute_result"
    }
   ],
   "source": [
    "np.std(rbs_x)"
   ]
  },
  {
   "cell_type": "code",
   "execution_count": 381,
   "metadata": {},
   "outputs": [
    {
     "data": {
      "text/plain": [
       "(array([ 0.,  0.,  1.,  0.,  0.,  0.,  1.,  0.,  5.,  2.,  4.,  4., 11.,\n",
       "        12., 10., 11., 10.,  7.,  6.,  2.,  4.,  1.,  2.,  1.,  1.,  0.,\n",
       "         0.,  0.,  0.]),\n",
       " array([-3.00000000e+00, -2.80000000e+00, -2.60000000e+00, -2.40000000e+00,\n",
       "        -2.20000000e+00, -2.00000000e+00, -1.80000000e+00, -1.60000000e+00,\n",
       "        -1.40000000e+00, -1.20000000e+00, -1.00000000e+00, -8.00000000e-01,\n",
       "        -6.00000000e-01, -4.00000000e-01, -2.00000000e-01,  2.66453526e-15,\n",
       "         2.00000000e-01,  4.00000000e-01,  6.00000000e-01,  8.00000000e-01,\n",
       "         1.00000000e+00,  1.20000000e+00,  1.40000000e+00,  1.60000000e+00,\n",
       "         1.80000000e+00,  2.00000000e+00,  2.20000000e+00,  2.40000000e+00,\n",
       "         2.60000000e+00,  2.80000000e+00]),\n",
       " <a list of 29 Patch objects>)"
      ]
     },
     "execution_count": 381,
     "metadata": {},
     "output_type": "execute_result"
    },
    {
     "data": {
      "image/png": "[encoded data removed]",
      "text/plain": [
       "<Figure size 432x288 with 1 Axes>"
      ]
     },
     "metadata": {
      "needs_background": "light"
     },
     "output_type": "display_data"
    }
   ],
   "source": [
    "rbs_o = rbs_x[rbs_x < 5];rbs_o  # robustscaler 표준 정규 값이 5보다 작은 값들만 추출.\n",
    "plt.hist(rbs_o, bins = np.arange(-3, 3, 0.2))  # -3 ~ 3까지 0.2 간격으로."
   ]
  },
  {
   "cell_type": "markdown",
   "metadata": {},
   "source": [
    "# 정규화\n",
    "- (각 열의 요소값 - 각 열의 최솟값) / (각 열의 최대값 - 각 열의 최솟값)\n",
    "- 0~1 사이의 범위(딥러닝에서 많이 사용)\n",
    "- 연습문제 : 관심 회사 -> 주식 데이터 다운로드(1개월) -> 표준화/정규화\n",
    "     - def myStd 활용"
   ]
  },
  {
   "cell_type": "code",
   "execution_count": 408,
   "metadata": {},
   "outputs": [
    {
     "name": "stdout",
     "output_type": "stream",
     "text": [
      "[[ 9 -9  2]\n",
      " [ 5  0  1]\n",
      " [ 1 10  4]\n",
      " [ 4  7 -2]] \n",
      "\n"
     ]
    },
    {
     "data": {
      "text/plain": [
       "array([[1.        , 0.        , 0.66666667],\n",
       "       [0.5       , 0.47368421, 0.5       ],\n",
       "       [0.        , 1.        , 1.        ],\n",
       "       [0.375     , 0.84210526, 0.        ]])"
      ]
     },
     "execution_count": 408,
     "metadata": {},
     "output_type": "execute_result"
    }
   ],
   "source": [
    "# 정규화 방법1. 기본 정석으로.\n",
    "x = np.array([\n",
    "        [9, -9, 2],\n",
    "        [5,  0, 1],\n",
    "        [1, 10, 4],\n",
    "        [4,  7,-2]\n",
    "]);print(x, '\\n') \n",
    "(x - x.min(axis = 0)) / (x.max(axis = 0) - x.min(axis = 0))"
   ]
  },
  {
   "cell_type": "markdown",
   "metadata": {},
   "source": [
    "- 0열을 보면 9는 1 / 1은 0\n",
    "- 1열을 보면 10은 1 / -9는 0\n",
    "..."
   ]
  },
  {
   "cell_type": "code",
   "execution_count": 409,
   "metadata": {},
   "outputs": [
    {
     "name": "stderr",
     "output_type": "stream",
     "text": [
      "C:\\Anaconda3\\lib\\site-packages\\sklearn\\utils\\validation.py:595: DataConversionWarning: Data with input dtype int32 was converted to float64 by MinMaxScaler.\n",
      "  warnings.warn(msg, DataConversionWarning)\n"
     ]
    },
    {
     "data": {
      "text/plain": [
       "array([[1.        , 0.        , 0.66666667],\n",
       "       [0.5       , 0.47368421, 0.5       ],\n",
       "       [0.        , 1.        , 1.        ],\n",
       "       [0.375     , 0.84210526, 0.        ]])"
      ]
     },
     "execution_count": 409,
     "metadata": {},
     "output_type": "execute_result"
    }
   ],
   "source": [
    "# 정규화 방법2. MinMaxScaler() 사용\n",
    "from sklearn.preprocessing import MinMaxScaler\n",
    "MinMaxScaler().fit_transform(x)"
   ]
  },
  {
   "cell_type": "code",
   "execution_count": 410,
   "metadata": {},
   "outputs": [
    {
     "name": "stderr",
     "output_type": "stream",
     "text": [
      "C:\\Anaconda3\\lib\\site-packages\\sklearn\\utils\\validation.py:595: DataConversionWarning: Data with input dtype int32 was converted to float64.\n",
      "  warnings.warn(msg, DataConversionWarning)\n"
     ]
    },
    {
     "data": {
      "text/plain": [
       "array([[1.        , 0.        , 0.66666667],\n",
       "       [0.5       , 0.47368421, 0.5       ],\n",
       "       [0.        , 1.        , 1.        ],\n",
       "       [0.375     , 0.84210526, 0.        ]])"
      ]
     },
     "execution_count": 410,
     "metadata": {},
     "output_type": "execute_result"
    }
   ],
   "source": [
    "# 정규화 방법3. minmax_scale() 사용\n",
    "from sklearn.preprocessing import minmax_scale\n",
    "minmax_scale(x, axis = 0)"
   ]
  },
  {
   "cell_type": "code",
   "execution_count": 412,
   "metadata": {},
   "outputs": [],
   "source": [
    "# 연습문제 : 이항변수화 변환(타이타닉)\n",
    "# 연속형 변수 값 -> 0 또는 1(2가지) => Threshold를 사용해서 0과 1로 구분한다.\n",
    "from sklearn.preprocessing import Binarizer # 이항변수화 시키는 클래스"
   ]
  },
  {
   "cell_type": "code",
   "execution_count": 415,
   "metadata": {},
   "outputs": [
    {
     "data": {
      "text/plain": [
       "array([[ 5, -3,  2],\n",
       "       [ 7, -1,  0],\n",
       "       [ 0,  9,  5]])"
      ]
     },
     "execution_count": 415,
     "metadata": {},
     "output_type": "execute_result"
    }
   ],
   "source": [
    "x = np.array([[5, -3, 2],\n",
    "         [7, -1, 0],\n",
    "         [0, 9, 5]]);x"
   ]
  },
  {
   "cell_type": "code",
   "execution_count": 417,
   "metadata": {},
   "outputs": [
    {
     "data": {
      "text/plain": [
       "Binarizer(copy=True, threshold=0.0)"
      ]
     },
     "execution_count": 417,
     "metadata": {},
     "output_type": "execute_result"
    }
   ],
   "source": [
    "# 3을 기준(threshold)\n",
    "Binarizer().fit(x)  # threshold의 default는 0"
   ]
  },
  {
   "cell_type": "code",
   "execution_count": 424,
   "metadata": {},
   "outputs": [
    {
     "data": {
      "text/plain": [
       "Binarizer(copy=True, threshold=2)"
      ]
     },
     "execution_count": 424,
     "metadata": {},
     "output_type": "execute_result"
    }
   ],
   "source": [
    "Binarizer(2).fit(x) # threshold 값이 2"
   ]
  },
  {
   "cell_type": "code",
   "execution_count": 425,
   "metadata": {},
   "outputs": [],
   "source": [
    "bnr = Binarizer(2).fit(x)"
   ]
  },
  {
   "cell_type": "code",
   "execution_count": 426,
   "metadata": {},
   "outputs": [
    {
     "data": {
      "text/plain": [
       "array([[1, 0, 0],\n",
       "       [1, 0, 0],\n",
       "       [0, 1, 1]])"
      ]
     },
     "execution_count": 426,
     "metadata": {},
     "output_type": "execute_result"
    }
   ],
   "source": [
    "bnr.transform(x)  "
   ]
  },
  {
   "cell_type": "markdown",
   "metadata": {},
   "source": [
    "- 2이하는 0으로, 2초과는 1로"
   ]
  },
  {
   "cell_type": "code",
   "execution_count": null,
   "metadata": {},
   "outputs": [],
   "source": []
  }
 ],
 "metadata": {
  "kernelspec": {
   "display_name": "Python 3",
   "language": "python",
   "name": "python3"
  },
  "language_info": {
   "codemirror_mode": {
    "name": "ipython",
    "version": 3
   },
   "file_extension": ".py",
   "mimetype": "text/x-python",
   "name": "python",
   "nbconvert_exporter": "python",
   "pygments_lexer": "ipython3",
   "version": "3.7.3"
  }
 },
 "nbformat": 4,
 "nbformat_minor": 2
}

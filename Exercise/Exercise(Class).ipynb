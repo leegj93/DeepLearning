{
 "cells": [
  {
   "cell_type": "code",
   "execution_count": 1,
   "metadata": {},
   "outputs": [],
   "source": [
    "import numpy as np\n",
    "\n",
    "class MulLayer:\n",
    "    def __init__(self):\n",
    "        self.x=None\n",
    "        self.y=None\n",
    "        \n",
    "    def forward(self,x,y):\n",
    "        self.x=x\n",
    "        self.y=y\n",
    "        out= x* y\n",
    "        return out\n",
    "    def forward1(self,x,y):\n",
    "        self.x=x\n",
    "        self.y=y\n",
    "        out = x+ y\n",
    "        return out\n",
    "    def backward(self,dout):\n",
    "        dx=dout*self.y\n",
    "        dy=dout*self.x\n",
    "        return dx,dy\n",
    "        "
   ]
  },
  {
   "cell_type": "code",
   "execution_count": 2,
   "metadata": {},
   "outputs": [],
   "source": [
    "apple= 100\n",
    "appleNum=2\n",
    "orange=150\n",
    "orangeNum=3\n",
    "tax=1.1"
   ]
  },
  {
   "cell_type": "code",
   "execution_count": 3,
   "metadata": {},
   "outputs": [],
   "source": [
    "malQ=MulLayer()\n",
    "molQ=MulLayer()\n",
    "molPQ=MulLayer()\n",
    "mtlQ=MulLayer()"
   ]
  },
  {
   "cell_type": "code",
   "execution_count": 4,
   "metadata": {},
   "outputs": [
    {
     "name": "stdout",
     "output_type": "stream",
     "text": [
      "715.0000000000001\n"
     ]
    }
   ],
   "source": [
    "applePrice=malQ.forward(apple,appleNum)\n",
    "orangePrice=molQ.forward(orange,orangeNum)\n",
    "price=molPQ.forward1(applePrice,orangePrice)\n",
    "price=mtlQ.forward(price,tax)\n",
    "print(price)"
   ]
  },
  {
   "cell_type": "code",
   "execution_count": 5,
   "metadata": {},
   "outputs": [
    {
     "name": "stdout",
     "output_type": "stream",
     "text": [
      "650 1.1\n",
      "220.00000000000003 495.00000000000006\n",
      "3.3000000000000003 165.0\n",
      "2.2 110.00000000000001\n"
     ]
    }
   ],
   "source": [
    "dprice=1\n",
    "dtax, dprice_all=mtlQ.backward(dprice)\n",
    "print(dprice_all,dtax)\n",
    "dorangePrice,dapplePrice, = molPQ.backward(dtax)\n",
    "print(dapplePrice,dorangePrice)\n",
    "dorangeNum, dorange = molQ.backward(dtax)\n",
    "print(dorangeNum, dorange)\n",
    "dappleNum, dapple = malQ.backward(dtax)\n",
    "print(dappleNum, dapple)"
   ]
  },
  {
   "cell_type": "code",
   "execution_count": 6,
   "metadata": {},
   "outputs": [],
   "source": [
    "def googoo(dan):\n",
    "    num = [[dan]]\n",
    "    x = tf.placeholder(dtype=tf.int32, shape=[None,1])\n",
    "    w = tf.Variable(np.arange(1,10))\n",
    "    y = x * w\n",
    "    init = tf.global_variables_initializer()\n",
    "    sess = tf.Session()\n",
    "    sess.run(init)\n",
    "    print(sess.run(y, feed_dict={x:num}))"
   ]
  },
  {
   "cell_type": "code",
   "execution_count": null,
   "metadata": {},
   "outputs": [],
   "source": []
  }
 ],
 "metadata": {
  "kernelspec": {
   "display_name": "Python 3",
   "language": "python",
   "name": "python3"
  },
  "language_info": {
   "codemirror_mode": {
    "name": "ipython",
    "version": 3
   },
   "file_extension": ".py",
   "mimetype": "text/x-python",
   "name": "python",
   "nbconvert_exporter": "python",
   "pygments_lexer": "ipython3",
   "version": "3.7.3"
  }
 },
 "nbformat": 4,
 "nbformat_minor": 2
}

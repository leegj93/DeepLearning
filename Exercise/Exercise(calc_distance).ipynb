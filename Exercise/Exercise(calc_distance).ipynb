{
 "cells": [
  {
   "cell_type": "code",
   "execution_count": 50,
   "metadata": {},
   "outputs": [],
   "source": [
    "import numpy as np\n",
    "import pandas as pd\n",
    "#레벤슈타인 알고리즘\n",
    "def calc_distance(a, b):\n",
    "    #같으면 0\n",
    "    if a == b:\n",
    "        return 0\n",
    "    #문자열 길이\n",
    "    a_len = len(a)\n",
    "    b_len = len(b)\n",
    "    \n",
    "    if a == \"\":\n",
    "        return b_len\n",
    "    if b == \"\":\n",
    "        return a_len\n",
    "    # matrix를 하나씩 크게 설정 및 초기화\n",
    "    matrix = [[] for i in range(a_len+1)]\n",
    "    for i in range(a_len+1):\n",
    "        matrix[i] = [0 for k in range(b_len+1)]\n",
    "    for i in range(a_len+1):\n",
    "        matrix[i][0] = i\n",
    "    for k in range(b_len+1):\n",
    "        matrix[0][k] = k\n",
    "       \n",
    "    for i in range(1, a_len+1):  \n",
    "        #코스트를 0으로 초기화\n",
    "        cost=0\n",
    "        aw=a[i-1]\n",
    "        for k in range(1, b_len+1):\n",
    "            #문자열을 검색해서 같으면 cost가 0, 다르면 1로 설정\n",
    "            bw=b[k-1]\n",
    "            if aw==bw:\n",
    "                cost = 0\n",
    "            else:\n",
    "                cost = 1\n",
    "\n",
    "            matrix[i][k] = min([\n",
    "                matrix[i-1][k]+1,#삽입\n",
    "                matrix[i][k-1]+1,#제거\n",
    "                matrix[i-1][k-1]+cost,#변경\n",
    "                \n",
    "            ])\n",
    "            print(matrix[i],\" || \" ,matrix[i][k])\n",
    "\n",
    "    return matrix[a_len][b_len]#값 리턴\n",
    "\n",
    "  \n",
    "                \n",
    "                    \n",
    "    "
   ]
  },
  {
   "cell_type": "code",
   "execution_count": 51,
   "metadata": {
    "scrolled": true
   },
   "outputs": [
    {
     "name": "stdout",
     "output_type": "stream",
     "text": [
      "[[0, 1, 2, 3, 4], [1, 0, 0, 0, 0], [2, 0, 0, 0, 0], [3, 0, 0, 0, 0], [4, 0, 0, 0, 0]]\n",
      "[1, 0, 0, 0, 0]  ||  0\n",
      "[[0, 1, 2, 3, 4], [1, 0, 0, 0, 0], [2, 0, 0, 0, 0], [3, 0, 0, 0, 0], [4, 0, 0, 0, 0]]\n",
      "[1, 0, 1, 0, 0]  ||  1\n",
      "[[0, 1, 2, 3, 4], [1, 0, 1, 0, 0], [2, 0, 0, 0, 0], [3, 0, 0, 0, 0], [4, 0, 0, 0, 0]]\n",
      "[1, 0, 1, 2, 0]  ||  2\n",
      "[[0, 1, 2, 3, 4], [1, 0, 1, 2, 0], [2, 0, 0, 0, 0], [3, 0, 0, 0, 0], [4, 0, 0, 0, 0]]\n",
      "[1, 0, 1, 2, 3]  ||  3\n",
      "[[0, 1, 2, 3, 4], [1, 0, 1, 2, 3], [2, 0, 0, 0, 0], [3, 0, 0, 0, 0], [4, 0, 0, 0, 0]]\n",
      "[2, 1, 0, 0, 0]  ||  1\n",
      "[[0, 1, 2, 3, 4], [1, 0, 1, 2, 3], [2, 1, 0, 0, 0], [3, 0, 0, 0, 0], [4, 0, 0, 0, 0]]\n",
      "[2, 1, 1, 0, 0]  ||  1\n",
      "[[0, 1, 2, 3, 4], [1, 0, 1, 2, 3], [2, 1, 1, 0, 0], [3, 0, 0, 0, 0], [4, 0, 0, 0, 0]]\n",
      "[2, 1, 1, 2, 0]  ||  2\n",
      "[[0, 1, 2, 3, 4], [1, 0, 1, 2, 3], [2, 1, 1, 2, 0], [3, 0, 0, 0, 0], [4, 0, 0, 0, 0]]\n",
      "[2, 1, 1, 2, 3]  ||  3\n",
      "[[0, 1, 2, 3, 4], [1, 0, 1, 2, 3], [2, 1, 1, 2, 3], [3, 0, 0, 0, 0], [4, 0, 0, 0, 0]]\n",
      "[3, 2, 0, 0, 0]  ||  2\n",
      "[[0, 1, 2, 3, 4], [1, 0, 1, 2, 3], [2, 1, 1, 2, 3], [3, 2, 0, 0, 0], [4, 0, 0, 0, 0]]\n",
      "[3, 2, 2, 0, 0]  ||  2\n",
      "[[0, 1, 2, 3, 4], [1, 0, 1, 2, 3], [2, 1, 1, 2, 3], [3, 2, 2, 0, 0], [4, 0, 0, 0, 0]]\n",
      "[3, 2, 2, 2, 0]  ||  2\n",
      "[[0, 1, 2, 3, 4], [1, 0, 1, 2, 3], [2, 1, 1, 2, 3], [3, 2, 2, 2, 0], [4, 0, 0, 0, 0]]\n",
      "[3, 2, 2, 2, 3]  ||  3\n",
      "[[0, 1, 2, 3, 4], [1, 0, 1, 2, 3], [2, 1, 1, 2, 3], [3, 2, 2, 2, 3], [4, 0, 0, 0, 0]]\n",
      "[4, 3, 0, 0, 0]  ||  3\n",
      "[[0, 1, 2, 3, 4], [1, 0, 1, 2, 3], [2, 1, 1, 2, 3], [3, 2, 2, 2, 3], [4, 3, 0, 0, 0]]\n",
      "[4, 3, 3, 0, 0]  ||  3\n",
      "[[0, 1, 2, 3, 4], [1, 0, 1, 2, 3], [2, 1, 1, 2, 3], [3, 2, 2, 2, 3], [4, 3, 3, 0, 0]]\n",
      "[4, 3, 3, 3, 0]  ||  3\n",
      "[[0, 1, 2, 3, 4], [1, 0, 1, 2, 3], [2, 1, 1, 2, 3], [3, 2, 2, 2, 3], [4, 3, 3, 3, 0]]\n",
      "[4, 3, 3, 3, 2]  ||  2\n",
      "4 4\n",
      "2\n"
     ]
    }
   ],
   "source": [
    "print(calc_distance('가나다라','가바마라'))"
   ]
  },
  {
   "cell_type": "code",
   "execution_count": null,
   "metadata": {},
   "outputs": [],
   "source": []
  },
  {
   "cell_type": "code",
   "execution_count": null,
   "metadata": {},
   "outputs": [],
   "source": []
  }
 ],
 "metadata": {
  "kernelspec": {
   "display_name": "Python 3",
   "language": "python",
   "name": "python3"
  },
  "language_info": {
   "codemirror_mode": {
    "name": "ipython",
    "version": 3
   },
   "file_extension": ".py",
   "mimetype": "text/x-python",
   "name": "python",
   "nbconvert_exporter": "python",
   "pygments_lexer": "ipython3",
   "version": "3.7.3"
  }
 },
 "nbformat": 4,
 "nbformat_minor": 2
}

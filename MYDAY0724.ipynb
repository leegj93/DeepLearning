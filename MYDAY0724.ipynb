{
 "cells": [
  {
   "cell_type": "code",
   "execution_count": 1,
   "metadata": {},
   "outputs": [
    {
     "name": "stdout",
     "output_type": "stream",
     "text": [
      "(0, 0) -> 0\n",
      "(0, 1) -> 0\n",
      "(1, 0) -> 0\n",
      "(1, 1) -> 1\n"
     ]
    }
   ],
   "source": [
    "import numpy as np\n",
    "\n",
    "def AND(x1, x2):\n",
    "    x=np.array([x1, x2])\n",
    "    w=np.array([0.5,0.5])\n",
    "    b=-0.7\n",
    "    hf=np.sum(w*x)+b\n",
    "    if hf<=0:\n",
    "        return 0\n",
    "    else:\n",
    "        return 1\n",
    "    \n",
    "    #모델 (hf=w1x1+w2x2+b)\n",
    "  \n",
    "for xs in [(0,0),(0,1),(1,0),(1,1)]:\n",
    "    y=AND(xs[0],xs[1])\n",
    "    print(str(xs)+ \" -> \"+ str(y))"
   ]
  },
  {
   "cell_type": "code",
   "execution_count": 8,
   "metadata": {},
   "outputs": [
    {
     "name": "stdout",
     "output_type": "stream",
     "text": [
      "(0, 0) -> 0\n",
      "(0, 1) -> 1\n",
      "(1, 0) -> 1\n",
      "(1, 1) -> 1\n"
     ]
    }
   ],
   "source": [
    "def OR(x1, x2):\n",
    "    x=np.array([x1, x2])\n",
    "    w=np.array([0.5,0.5])\n",
    "    b=-0.2 # b와 w 값을 조정해서 함수를 조정\n",
    "    hf=np.sum(w*x)+b\n",
    "    if hf<=0:\n",
    "        return 0\n",
    "    else:\n",
    "        return 1\n",
    "    \n",
    "    #모델 (hf=w1x1+w2x2+b)\n",
    "  \n",
    "for xs in [(0,0),(0,1),(1,0),(1,1)]:\n",
    "    y=OR(xs[0],xs[1])\n",
    "    print(str(xs)+ \" -> \"+ str(y))"
   ]
  },
  {
   "cell_type": "code",
   "execution_count": 13,
   "metadata": {},
   "outputs": [
    {
     "name": "stdout",
     "output_type": "stream",
     "text": [
      "(0, 0) -> 1\n",
      "(0, 1) -> 1\n",
      "(1, 0) -> 1\n",
      "(1, 1) -> 0\n"
     ]
    }
   ],
   "source": [
    "def NAND(x1, x2):\n",
    "    x=np.array([x1, x2])\n",
    "    w=np.array([-0.5,-0.5])\n",
    "    b=0.7 # b와 w 값을 조정해서 함수를 조정\n",
    "    hf=np.sum(w*x)+b\n",
    "    if hf<=0:\n",
    "        return 0\n",
    "    else:\n",
    "        return 1\n",
    "    \n",
    "    #모델 (hf=w1x1+w2x2+b)\n",
    "  \n",
    "for xs in [(0,0),(0,1),(1,0),(1,1)]:\n",
    "    y=NAND(xs[0],xs[1])\n",
    "    print(str(xs)+ \" -> \"+ str(y))"
   ]
  },
  {
   "cell_type": "code",
   "execution_count": 14,
   "metadata": {},
   "outputs": [],
   "source": [
    "def XOR(x1,x2):\n",
    "    t=NAND(x1,x2)\n",
    "    j=OR(x1,x2)\n",
    "    y=AND(t,j)\n",
    "    \n",
    "    return y"
   ]
  },
  {
   "cell_type": "code",
   "execution_count": 16,
   "metadata": {},
   "outputs": [
    {
     "name": "stdout",
     "output_type": "stream",
     "text": [
      "0\n",
      "1\n",
      "1\n",
      "0\n"
     ]
    }
   ],
   "source": [
    "print(XOR(0,0))\n",
    "print(XOR(0,1))\n",
    "print(XOR(1,0))\n",
    "print(XOR(1,1))"
   ]
  },
  {
   "cell_type": "code",
   "execution_count": null,
   "metadata": {},
   "outputs": [],
   "source": []
  }
 ],
 "metadata": {
  "kernelspec": {
   "display_name": "Python 3",
   "language": "python",
   "name": "python3"
  },
  "language_info": {
   "codemirror_mode": {
    "name": "ipython",
    "version": 3
   },
   "file_extension": ".py",
   "mimetype": "text/x-python",
   "name": "python",
   "nbconvert_exporter": "python",
   "pygments_lexer": "ipython3",
   "version": "3.7.3"
  }
 },
 "nbformat": 4,
 "nbformat_minor": 2
}

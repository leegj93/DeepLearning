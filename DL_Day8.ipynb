{
 "cells": [
  {
   "cell_type": "code",
   "execution_count": 13,
   "metadata": {},
   "outputs": [],
   "source": [
    "from keras.models import Sequentialuential"
   ]
  },
  {
   "cell_type": "code",
   "execution_count": 14,
   "metadata": {},
   "outputs": [
    {
     "name": "stderr",
     "output_type": "stream",
     "text": [
      "WARNING: Logging before flag parsing goes to stderr.\n",
      "W0816 09:31:27.921162  9792 deprecation_wrapper.py:119] From C:\\Users\\user\\Anaconda3\\lib\\site-packages\\keras\\backend\\tensorflow_backend.py:74: The name tf.get_default_graph is deprecated. Please use tf.compat.v1.get_default_graph instead.\n",
      "\n"
     ]
    },
    {
     "data": {
      "text/plain": [
       "<keras.engine.sequential.Sequential at 0x2e9840bccc0>"
      ]
     },
     "execution_count": 14,
     "metadata": {},
     "output_type": "execute_result"
    }
   ],
   "source": [
    "model=Sequential()\n",
    "model.add(Embedding(voc, hidden_size, input_length))"
   ]
  },
  {
   "cell_type": "code",
   "execution_count": null,
   "metadata": {},
   "outputs": [],
   "source": [
    "#model.add(Dense(2,inputt_dim=4, init='uniform', activation='linear'))\n",
    "model=Sequential()\n",
    "model.add(Dense(4, input_dim=10, init='normal', acitviation='relu'))\n",
    "model.add(Dense(1, activation='sigmoid'))\n",
    "model.summary():요약정보\n",
    "model.compile():함수설정\n",
    "model.fit():학습\n",
    "model.evalute():모델 평가\n",
    "model.predict():예측\n",
    "model.save(), load_model(): 모델 저장&불러오기"
   ]
  },
  {
   "cell_type": "code",
   "execution_count": 17,
   "metadata": {},
   "outputs": [
    {
     "data": {
      "text/plain": [
       "<tensorflow.python.framework.ops.Graph at 0x2e9840bcac8>"
      ]
     },
     "execution_count": 17,
     "metadata": {},
     "output_type": "execute_result"
    }
   ],
   "source": [
    "import tensorflow as tf\n",
    "tf.__version__\n",
    "tf.get_default_graph() #기본 그래프 정보"
   ]
  },
  {
   "cell_type": "code",
   "execution_count": 34,
   "metadata": {},
   "outputs": [],
   "source": [
    "testGraph=tf.Graph() #사용자 그래프 생성\n",
    "with testGraph.as_default(): #사용자 그래프에 노드 정의\n",
    "    x=tf.constant(10)\n",
    "    y=x+20"
   ]
  },
  {
   "cell_type": "code",
   "execution_count": 30,
   "metadata": {},
   "outputs": [
    {
     "name": "stdout",
     "output_type": "stream",
     "text": [
      "5\n",
      "15\n"
     ]
    }
   ],
   "source": [
    "# Session():세션객체생성, 분산처리환경 노드를 연결\n",
    "# run():연산 수행 -> 결과를 리턴\n",
    "# close():세션 종료\n",
    "x=tf.constant(5)\n",
    "y=x+10\n",
    "sess=tf.Session()\n",
    "print(sess.run(x))\n",
    "print(sess.run(y))\n",
    "sess.close()"
   ]
  },
  {
   "cell_type": "code",
   "execution_count": 31,
   "metadata": {},
   "outputs": [
    {
     "name": "stdout",
     "output_type": "stream",
     "text": [
      "5\n"
     ]
    }
   ],
   "source": [
    "with tf.Session() as sess: #특별히 그래프를 지정하지 않았으므로, 기본그래프를 사용해서 세션을 실행\n",
    "    print(sess.run(x))"
   ]
  },
  {
   "cell_type": "code",
   "execution_count": 35,
   "metadata": {},
   "outputs": [
    {
     "name": "stdout",
     "output_type": "stream",
     "text": [
      "10\n"
     ]
    }
   ],
   "source": [
    "with tf.Session(graph=testGraph) as sess: #특별히 그래프를 지정하지 않았으므로, 기본그래프를 사용해서 세션을 실행\n",
    "    print(sess.run(x))"
   ]
  },
  {
   "cell_type": "code",
   "execution_count": 38,
   "metadata": {},
   "outputs": [],
   "source": [
    "# sess=tf.InteractiveSession()\n",
    "# x.eval()\n",
    "# y.eval()"
   ]
  },
  {
   "cell_type": "code",
   "execution_count": 39,
   "metadata": {},
   "outputs": [
    {
     "data": {
      "text/plain": [
       "'var1'"
      ]
     },
     "execution_count": 39,
     "metadata": {},
     "output_type": "execute_result"
    }
   ],
   "source": [
    "var1=tf.Variable(5, name=\"var1\")\n",
    "var2=tf.add(var1, 5, name=\"var2\")\n",
    "var1.op.name"
   ]
  },
  {
   "cell_type": "code",
   "execution_count": 41,
   "metadata": {},
   "outputs": [
    {
     "name": "stdout",
     "output_type": "stream",
     "text": [
      "ns1_1/var3\n"
     ]
    }
   ],
   "source": [
    "#이름공간(name space,폴더와 비슷)을 이용한 노드 이름 중복 방지\n",
    "#tf.name_scope():이름 공간 생성\n",
    "with tf.name_scope(\"ns1\"):\n",
    "    v3=tf.Variable(1, name=\"var3\")\n",
    "    v4=tf.add(v3, 2,name=\"var4\")\n",
    "print(v3.op.name)"
   ]
  },
  {
   "cell_type": "code",
   "execution_count": 139,
   "metadata": {},
   "outputs": [
    {
     "name": "stdout",
     "output_type": "stream",
     "text": [
      "step: 0 cost: 1.6100149 prediction: [[3 3 3 3 3 3]] true Y: [[1, 0, 2, 3, 3, 4]]\n",
      "predction str: llllll\n",
      "step: 1 cost: 1.5471888 prediction: [[3 3 3 3 3 3]] true Y: [[1, 0, 2, 3, 3, 4]]\n",
      "predction str: llllll\n",
      "step: 2 cost: 1.4851211 prediction: [[3 3 3 3 3 3]] true Y: [[1, 0, 2, 3, 3, 4]]\n",
      "predction str: llllll\n",
      "step: 3 cost: 1.4394479 prediction: [[3 3 3 3 3 3]] true Y: [[1, 0, 2, 3, 3, 4]]\n",
      "predction str: llllll\n",
      "step: 4 cost: 1.3958031 prediction: [[3 3 3 3 3 3]] true Y: [[1, 0, 2, 3, 3, 4]]\n",
      "predction str: llllll\n",
      "step: 5 cost: 1.3304477 prediction: [[3 3 3 3 3 3]] true Y: [[1, 0, 2, 3, 3, 4]]\n",
      "predction str: llllll\n",
      "step: 6 cost: 1.2376846 prediction: [[3 0 3 3 3 3]] true Y: [[1, 0, 2, 3, 3, 4]]\n",
      "predction str: lhllll\n",
      "step: 7 cost: 1.1362847 prediction: [[2 0 2 3 3 3]] true Y: [[1, 0, 2, 3, 3, 4]]\n",
      "predction str: ehelll\n",
      "step: 8 cost: 1.0371956 prediction: [[2 0 2 3 3 4]] true Y: [[1, 0, 2, 3, 3, 4]]\n",
      "predction str: ehello\n",
      "step: 9 cost: 0.93446547 prediction: [[2 0 2 3 4 4]] true Y: [[1, 0, 2, 3, 3, 4]]\n",
      "predction str: eheloo\n",
      "step: 10 cost: 0.83611584 prediction: [[2 0 2 3 3 4]] true Y: [[1, 0, 2, 3, 3, 4]]\n",
      "predction str: ehello\n",
      "step: 11 cost: 0.74058676 prediction: [[2 0 2 3 3 4]] true Y: [[1, 0, 2, 3, 3, 4]]\n",
      "predction str: ehello\n",
      "step: 12 cost: 0.6415372 prediction: [[2 0 2 3 3 4]] true Y: [[1, 0, 2, 3, 3, 4]]\n",
      "predction str: ehello\n",
      "step: 13 cost: 0.56235105 prediction: [[2 0 2 3 3 4]] true Y: [[1, 0, 2, 3, 3, 4]]\n",
      "predction str: ehello\n",
      "step: 14 cost: 0.48783496 prediction: [[2 0 2 3 3 4]] true Y: [[1, 0, 2, 3, 3, 4]]\n",
      "predction str: ehello\n",
      "step: 15 cost: 0.4215872 prediction: [[2 0 2 3 3 4]] true Y: [[1, 0, 2, 3, 3, 4]]\n",
      "predction str: ehello\n",
      "step: 16 cost: 0.37315342 prediction: [[1 0 2 3 3 4]] true Y: [[1, 0, 2, 3, 3, 4]]\n",
      "predction str: ihello\n",
      "step: 17 cost: 0.32802358 prediction: [[1 0 2 3 3 4]] true Y: [[1, 0, 2, 3, 3, 4]]\n",
      "predction str: ihello\n",
      "step: 18 cost: 0.29615164 prediction: [[1 0 2 3 3 4]] true Y: [[1, 0, 2, 3, 3, 4]]\n",
      "predction str: ihello\n",
      "step: 19 cost: 0.26822713 prediction: [[1 0 2 3 3 4]] true Y: [[1, 0, 2, 3, 3, 4]]\n",
      "predction str: ihello\n",
      "step: 20 cost: 0.24231471 prediction: [[1 0 2 3 3 4]] true Y: [[1, 0, 2, 3, 3, 4]]\n",
      "predction str: ihello\n",
      "step: 21 cost: 0.22019549 prediction: [[1 0 2 3 3 4]] true Y: [[1, 0, 2, 3, 3, 4]]\n",
      "predction str: ihello\n",
      "step: 22 cost: 0.2007619 prediction: [[1 0 2 3 3 4]] true Y: [[1, 0, 2, 3, 3, 4]]\n",
      "predction str: ihello\n",
      "step: 23 cost: 0.18209009 prediction: [[1 0 2 3 3 4]] true Y: [[1, 0, 2, 3, 3, 4]]\n",
      "predction str: ihello\n",
      "step: 24 cost: 0.16337037 prediction: [[1 0 2 3 3 4]] true Y: [[1, 0, 2, 3, 3, 4]]\n",
      "predction str: ihello\n",
      "step: 25 cost: 0.14485593 prediction: [[1 0 2 3 3 4]] true Y: [[1, 0, 2, 3, 3, 4]]\n",
      "predction str: ihello\n",
      "step: 26 cost: 0.12684749 prediction: [[1 0 2 3 3 4]] true Y: [[1, 0, 2, 3, 3, 4]]\n",
      "predction str: ihello\n",
      "step: 27 cost: 0.10911664 prediction: [[1 0 2 3 3 4]] true Y: [[1, 0, 2, 3, 3, 4]]\n",
      "predction str: ihello\n",
      "step: 28 cost: 0.09162354 prediction: [[1 0 2 3 3 4]] true Y: [[1, 0, 2, 3, 3, 4]]\n",
      "predction str: ihello\n",
      "step: 29 cost: 0.07543542 prediction: [[1 0 2 3 3 4]] true Y: [[1, 0, 2, 3, 3, 4]]\n",
      "predction str: ihello\n",
      "step: 30 cost: 0.062155798 prediction: [[1 0 2 3 3 4]] true Y: [[1, 0, 2, 3, 3, 4]]\n",
      "predction str: ihello\n",
      "step: 31 cost: 0.051700246 prediction: [[1 0 2 3 3 4]] true Y: [[1, 0, 2, 3, 3, 4]]\n",
      "predction str: ihello\n",
      "step: 32 cost: 0.04296467 prediction: [[1 0 2 3 3 4]] true Y: [[1, 0, 2, 3, 3, 4]]\n",
      "predction str: ihello\n",
      "step: 33 cost: 0.035511017 prediction: [[1 0 2 3 3 4]] true Y: [[1, 0, 2, 3, 3, 4]]\n",
      "predction str: ihello\n",
      "step: 34 cost: 0.0293485 prediction: [[1 0 2 3 3 4]] true Y: [[1, 0, 2, 3, 3, 4]]\n",
      "predction str: ihello\n",
      "step: 35 cost: 0.024410727 prediction: [[1 0 2 3 3 4]] true Y: [[1, 0, 2, 3, 3, 4]]\n",
      "predction str: ihello\n",
      "step: 36 cost: 0.020526944 prediction: [[1 0 2 3 3 4]] true Y: [[1, 0, 2, 3, 3, 4]]\n",
      "predction str: ihello\n",
      "step: 37 cost: 0.017510174 prediction: [[1 0 2 3 3 4]] true Y: [[1, 0, 2, 3, 3, 4]]\n",
      "predction str: ihello\n",
      "step: 38 cost: 0.015197436 prediction: [[1 0 2 3 3 4]] true Y: [[1, 0, 2, 3, 3, 4]]\n",
      "predction str: ihello\n",
      "step: 39 cost: 0.0134502975 prediction: [[1 0 2 3 3 4]] true Y: [[1, 0, 2, 3, 3, 4]]\n",
      "predction str: ihello\n",
      "step: 40 cost: 0.012144831 prediction: [[1 0 2 3 3 4]] true Y: [[1, 0, 2, 3, 3, 4]]\n",
      "predction str: ihello\n",
      "step: 41 cost: 0.011164598 prediction: [[1 0 2 3 3 4]] true Y: [[1, 0, 2, 3, 3, 4]]\n",
      "predction str: ihello\n",
      "step: 42 cost: 0.010400702 prediction: [[1 0 2 3 3 4]] true Y: [[1, 0, 2, 3, 3, 4]]\n",
      "predction str: ihello\n",
      "step: 43 cost: 0.009761346 prediction: [[1 0 2 3 3 4]] true Y: [[1, 0, 2, 3, 3, 4]]\n",
      "predction str: ihello\n",
      "step: 44 cost: 0.009185341 prediction: [[1 0 2 3 3 4]] true Y: [[1, 0, 2, 3, 3, 4]]\n",
      "predction str: ihello\n",
      "step: 45 cost: 0.008646237 prediction: [[1 0 2 3 3 4]] true Y: [[1, 0, 2, 3, 3, 4]]\n",
      "predction str: ihello\n",
      "step: 46 cost: 0.008140717 prediction: [[1 0 2 3 3 4]] true Y: [[1, 0, 2, 3, 3, 4]]\n",
      "predction str: ihello\n",
      "step: 47 cost: 0.0076728133 prediction: [[1 0 2 3 3 4]] true Y: [[1, 0, 2, 3, 3, 4]]\n",
      "predction str: ihello\n",
      "step: 48 cost: 0.007243676 prediction: [[1 0 2 3 3 4]] true Y: [[1, 0, 2, 3, 3, 4]]\n",
      "predction str: ihello\n",
      "step: 49 cost: 0.006850702 prediction: [[1 0 2 3 3 4]] true Y: [[1, 0, 2, 3, 3, 4]]\n",
      "predction str: ihello\n",
      "step: 50 cost: 0.006489866 prediction: [[1 0 2 3 3 4]] true Y: [[1, 0, 2, 3, 3, 4]]\n",
      "predction str: ihello\n",
      "step: 51 cost: 0.0061575603 prediction: [[1 0 2 3 3 4]] true Y: [[1, 0, 2, 3, 3, 4]]\n",
      "predction str: ihello\n",
      "step: 52 cost: 0.005851486 prediction: [[1 0 2 3 3 4]] true Y: [[1, 0, 2, 3, 3, 4]]\n",
      "predction str: ihello\n",
      "step: 53 cost: 0.0055701653 prediction: [[1 0 2 3 3 4]] true Y: [[1, 0, 2, 3, 3, 4]]\n",
      "predction str: ihello\n",
      "step: 54 cost: 0.0053122602 prediction: [[1 0 2 3 3 4]] true Y: [[1, 0, 2, 3, 3, 4]]\n",
      "predction str: ihello\n",
      "step: 55 cost: 0.0050763 prediction: [[1 0 2 3 3 4]] true Y: [[1, 0, 2, 3, 3, 4]]\n",
      "predction str: ihello\n",
      "step: 56 cost: 0.0048605213 prediction: [[1 0 2 3 3 4]] true Y: [[1, 0, 2, 3, 3, 4]]\n",
      "predction str: ihello\n",
      "step: 57 cost: 0.004662786 prediction: [[1 0 2 3 3 4]] true Y: [[1, 0, 2, 3, 3, 4]]\n",
      "predction str: ihello\n",
      "step: 58 cost: 0.004480781 prediction: [[1 0 2 3 3 4]] true Y: [[1, 0, 2, 3, 3, 4]]\n",
      "predction str: ihello\n",
      "step: 59 cost: 0.0043120715 prediction: [[1 0 2 3 3 4]] true Y: [[1, 0, 2, 3, 3, 4]]\n",
      "predction str: ihello\n",
      "step: 60 cost: 0.004154812 prediction: [[1 0 2 3 3 4]] true Y: [[1, 0, 2, 3, 3, 4]]\n",
      "predction str: ihello\n",
      "step: 61 cost: 0.0040072114 prediction: [[1 0 2 3 3 4]] true Y: [[1, 0, 2, 3, 3, 4]]\n",
      "predction str: ihello\n",
      "step: 62 cost: 0.0038682653 prediction: [[1 0 2 3 3 4]] true Y: [[1, 0, 2, 3, 3, 4]]\n",
      "predction str: ihello\n",
      "step: 63 cost: 0.0037373814 prediction: [[1 0 2 3 3 4]] true Y: [[1, 0, 2, 3, 3, 4]]\n",
      "predction str: ihello\n",
      "step: 64 cost: 0.0036140634 prediction: [[1 0 2 3 3 4]] true Y: [[1, 0, 2, 3, 3, 4]]\n",
      "predction str: ihello\n",
      "step: 65 cost: 0.0034982897 prediction: [[1 0 2 3 3 4]] true Y: [[1, 0, 2, 3, 3, 4]]\n",
      "predction str: ihello\n",
      "step: 66 cost: 0.0033897406 prediction: [[1 0 2 3 3 4]] true Y: [[1, 0, 2, 3, 3, 4]]\n",
      "predction str: ihello\n",
      "step: 67 cost: 0.003288515 prediction: [[1 0 2 3 3 4]] true Y: [[1, 0, 2, 3, 3, 4]]\n",
      "predction str: ihello\n",
      "step: 68 cost: 0.0031942746 prediction: [[1 0 2 3 3 4]] true Y: [[1, 0, 2, 3, 3, 4]]\n",
      "predction str: ihello\n",
      "step: 69 cost: 0.0031066064 prediction: [[1 0 2 3 3 4]] true Y: [[1, 0, 2, 3, 3, 4]]\n",
      "predction str: ihello\n",
      "step: 70 cost: 0.0030251544 prediction: [[1 0 2 3 3 4]] true Y: [[1, 0, 2, 3, 3, 4]]\n",
      "predction str: ihello\n",
      "step: 71 cost: 0.0029493459 prediction: [[1 0 2 3 3 4]] true Y: [[1, 0, 2, 3, 3, 4]]\n",
      "predction str: ihello\n",
      "step: 72 cost: 0.0028787085 prediction: [[1 0 2 3 3 4]] true Y: [[1, 0, 2, 3, 3, 4]]\n",
      "predction str: ihello\n",
      "step: 73 cost: 0.0028127886 prediction: [[1 0 2 3 3 4]] true Y: [[1, 0, 2, 3, 3, 4]]\n",
      "predction str: ihello\n",
      "step: 74 cost: 0.0027510328 prediction: [[1 0 2 3 3 4]] true Y: [[1, 0, 2, 3, 3, 4]]\n",
      "predction str: ihello\n",
      "step: 75 cost: 0.002693087 prediction: [[1 0 2 3 3 4]] true Y: [[1, 0, 2, 3, 3, 4]]\n",
      "predction str: ihello\n",
      "step: 76 cost: 0.002638437 prediction: [[1 0 2 3 3 4]] true Y: [[1, 0, 2, 3, 3, 4]]\n",
      "predction str: ihello\n",
      "step: 77 cost: 0.0025868465 prediction: [[1 0 2 3 3 4]] true Y: [[1, 0, 2, 3, 3, 4]]\n",
      "predction str: ihello\n",
      "step: 78 cost: 0.0025379201 prediction: [[1 0 2 3 3 4]] true Y: [[1, 0, 2, 3, 3, 4]]\n",
      "predction str: ihello\n",
      "step: 79 cost: 0.002491421 prediction: [[1 0 2 3 3 4]] true Y: [[1, 0, 2, 3, 3, 4]]\n",
      "predction str: ihello\n",
      "step: 80 cost: 0.0024471125 prediction: [[1 0 2 3 3 4]] true Y: [[1, 0, 2, 3, 3, 4]]\n",
      "predction str: ihello\n",
      "step: 81 cost: 0.002404658 prediction: [[1 0 2 3 3 4]] true Y: [[1, 0, 2, 3, 3, 4]]\n",
      "predction str: ihello\n",
      "step: 82 cost: 0.0023640387 prediction: [[1 0 2 3 3 4]] true Y: [[1, 0, 2, 3, 3, 4]]\n",
      "predction str: ihello\n",
      "step: 83 cost: 0.002324978 prediction: [[1 0 2 3 3 4]] true Y: [[1, 0, 2, 3, 3, 4]]\n",
      "predction str: ihello\n",
      "step: 84 cost: 0.0022873175 prediction: [[1 0 2 3 3 4]] true Y: [[1, 0, 2, 3, 3, 4]]\n",
      "predction str: ihello\n",
      "step: 85 cost: 0.0022509592 prediction: [[1 0 2 3 3 4]] true Y: [[1, 0, 2, 3, 3, 4]]\n",
      "predction str: ihello\n",
      "step: 86 cost: 0.0022158239 prediction: [[1 0 2 3 3 4]] true Y: [[1, 0, 2, 3, 3, 4]]\n",
      "predction str: ihello\n",
      "step: 87 cost: 0.0021818136 prediction: [[1 0 2 3 3 4]] true Y: [[1, 0, 2, 3, 3, 4]]\n",
      "predction str: ihello\n",
      "step: 88 cost: 0.0021488888 prediction: [[1 0 2 3 3 4]] true Y: [[1, 0, 2, 3, 3, 4]]\n",
      "predction str: ihello\n",
      "step: 89 cost: 0.0021169512 prediction: [[1 0 2 3 3 4]] true Y: [[1, 0, 2, 3, 3, 4]]\n",
      "predction str: ihello\n"
     ]
    },
    {
     "name": "stdout",
     "output_type": "stream",
     "text": [
      "step: 90 cost: 0.0020860608 prediction: [[1 0 2 3 3 4]] true Y: [[1, 0, 2, 3, 3, 4]]\n",
      "predction str: ihello\n",
      "step: 91 cost: 0.0020560394 prediction: [[1 0 2 3 3 4]] true Y: [[1, 0, 2, 3, 3, 4]]\n",
      "predction str: ihello\n",
      "step: 92 cost: 0.0020270066 prediction: [[1 0 2 3 3 4]] true Y: [[1, 0, 2, 3, 3, 4]]\n",
      "predction str: ihello\n",
      "step: 93 cost: 0.0019987447 prediction: [[1 0 2 3 3 4]] true Y: [[1, 0, 2, 3, 3, 4]]\n",
      "predction str: ihello\n",
      "step: 94 cost: 0.001971333 prediction: [[1 0 2 3 3 4]] true Y: [[1, 0, 2, 3, 3, 4]]\n",
      "predction str: ihello\n",
      "step: 95 cost: 0.0019447127 prediction: [[1 0 2 3 3 4]] true Y: [[1, 0, 2, 3, 3, 4]]\n",
      "predction str: ihello\n",
      "step: 96 cost: 0.001918884 prediction: [[1 0 2 3 3 4]] true Y: [[1, 0, 2, 3, 3, 4]]\n",
      "predction str: ihello\n",
      "step: 97 cost: 0.0018937476 prediction: [[1 0 2 3 3 4]] true Y: [[1, 0, 2, 3, 3, 4]]\n",
      "predction str: ihello\n",
      "step: 98 cost: 0.0018693238 prediction: [[1 0 2 3 3 4]] true Y: [[1, 0, 2, 3, 3, 4]]\n",
      "predction str: ihello\n",
      "step: 99 cost: 0.0018455532 prediction: [[1 0 2 3 3 4]] true Y: [[1, 0, 2, 3, 3, 4]]\n",
      "predction str: ihello\n",
      "step: 100 cost: 0.0018222973 prediction: [[1 0 2 3 3 4]] true Y: [[1, 0, 2, 3, 3, 4]]\n",
      "predction str: ihello\n"
     ]
    }
   ],
   "source": [
    "#입력 4개 -> 출력 2개(hidden_size)\n",
    "\n",
    "#\"hihello\"\n",
    "# \"hihell\" => 입력\n",
    "# \"ihello\" => 출력\n",
    "#time_step:6, input_dim:5, hidden_size:5\n",
    "\n",
    "idx2char=['h', 'i', 'e', 'l', 'o']\n",
    "xdata=[[0,1,0,2,3,3]] # xdata=\"hihell\"\n",
    "                     #        \"ihello\"\n",
    "        #   cell -> ihello\n",
    "x_onehot=[[\n",
    "     [1,0,0,0,0],\n",
    "     [0,1,0,0,0],\n",
    "     [1,0,0,0,0],\n",
    "     [0,0,1,0,0],\n",
    "     [0,0,0,1,0],\n",
    "     [0,0,0,1,0]]]\n",
    "ydata=[[1,0,2,3,3,4]] #\"ihello\"\n",
    "\n",
    "tf.reset_default_graph()\n",
    "\n",
    "num_classes=5\n",
    "input_dim=5 #입력데이터의 차원(단어벡터의 길이)\n",
    "hidden_size=5\n",
    "batch_size=1\n",
    "sequence_length=6 #hihell\n",
    "learning_rate=0.1\n",
    "\n",
    "x=tf.placeholder(tf.float32, [None,sequence_length,input_dim])\n",
    "y=tf.placeholder(tf.int32, [None,sequence_length])\n",
    "\n",
    "cell=tf.contrib.rnn.BasicLSTMCell(num_units=hidden_size)\n",
    "ini_state=cell.zero_state(batch_size, tf.float32)\n",
    "outputs, _states=tf.nn.dynamic_rnn(cell, x, initial_state=ini_state, dtype=tf.float32)\n",
    "\n",
    "x_fc=tf.reshape(outputs, [-1, hidden_size])\n",
    "outputs=tf.contrib.layers.fully_connected(inputs=x_fc, num_outputs=num_classes)\n",
    "outputs=tf.reshape(outputs, [batch_size,sequence_length,num_classes])\n",
    "#                           [1, 6, 5] =>[[[0.1,0.2,0.5,0.1,0.1] ],[ ],...,[ ]]\n",
    "\n",
    "weights=tf.ones([batch_size, sequence_length])\n",
    "sequence_loss=tf.contrib.seq2seq.sequence_loss(logits=outputs,targets=y, weights=weights)\n",
    "loss=tf.reduce_mean(sequence_loss)\n",
    "\n",
    "prediction=  tf.argmax(outputs,axis=2)\n",
    "\n",
    "train=tf.train.AdamOptimizer(learning_rate=learning_rate).minimize(loss)\n",
    "with tf.Session() as sess:\n",
    "    sess.run(tf.global_variables_initializer())\n",
    "    for i in range(101):\n",
    "        lv, _=sess.run([loss, train], \n",
    "                       feed_dict={x:x_onehot, y:ydata})\n",
    "        res=sess.run(prediction,feed_dict={x:x_onehot})\n",
    "        print(\"step:\",i,\"cost:\",lv, \"prediction:\", res, \n",
    "              \"true Y:\", ydata)\n",
    "        resStr=[idx2char[c] for c in np.squeeze(res)]\n",
    "        print(\"predction str:\",\"\".join(resStr))\n",
    "        # prediction:[[1 0 2 2 3 1]]  true Y: [[1 0 2 3 3 4]]\n",
    "        #....\n",
    "        # prediction:[[1 0 2 3 3 4]]  true Y: [[1 0 2 3 3 4]]\n",
    "        \n",
    "        \n",
    "\n",
    "\n",
    "#num_units는 출력개수\n",
    "\n",
    "\n",
    "\n",
    "\n",
    "#학습 hihell -> ihello\n",
    "\n",
    "# hihell -> elhill\n",
    "# ...\n",
    "# hihell -> ihehho\n",
    "# ...\n",
    "# hihell -> ihello\n"
   ]
  },
  {
   "cell_type": "code",
   "execution_count": null,
   "metadata": {},
   "outputs": [],
   "source": [
    "#\"honggildong\""
   ]
  },
  {
   "cell_type": "code",
   "execution_count": 134,
   "metadata": {},
   "outputs": [
    {
     "data": {
      "text/plain": [
       "['l', 'i', 'h', 'e', 'i']"
      ]
     },
     "execution_count": 134,
     "metadata": {},
     "output_type": "execute_result"
    }
   ],
   "source": [
    "test=[[3,1,0,2,1]]\n",
    "#np.squeeze(test)\n",
    "test2=[idx2char[c] for c in np.squeeze(test)]\n",
    "test2"
   ]
  },
  {
   "cell_type": "code",
   "execution_count": null,
   "metadata": {},
   "outputs": [],
   "source": []
  },
  {
   "cell_type": "code",
   "execution_count": null,
   "metadata": {},
   "outputs": [],
   "source": []
  },
  {
   "cell_type": "code",
   "execution_count": 107,
   "metadata": {},
   "outputs": [],
   "source": [
    "import numpy as np\n",
    "from tensorflow.contrib import rnn\n",
    "import pprint\n",
    "\n",
    "tf.reset_default_graph()\n",
    "pp=pprint.PrettyPrinter(indent=4)\n",
    "sess=tf.InteractiveSession()\n"
   ]
  },
  {
   "cell_type": "code",
   "execution_count": 108,
   "metadata": {},
   "outputs": [],
   "source": [
    "h=[1,0,0,0] #hello => 4글자\n",
    "e=[0,1,0,0]\n",
    "l=[0,0,1,0]\n",
    "o=[0,0,0,1]"
   ]
  },
  {
   "cell_type": "code",
   "execution_count": 97,
   "metadata": {},
   "outputs": [
    {
     "name": "stdout",
     "output_type": "stream",
     "text": [
      "2 2\n",
      "array([[[-0.59038234, -0.32656184]]], dtype=float32)\n",
      "array([[-0.59038234, -0.32656184]], dtype=float32)\n"
     ]
    }
   ],
   "source": [
    "with tf.variable_scope('first_cell') as scope:\n",
    "    hidden_size=2\n",
    "    cell=tf.contrib.rnn.BasicRNNCell(num_units=hidden_size)\n",
    "    print(cell.output_size, cell.state_size)\n",
    "    xdata=np.array([[h]], dtype=np.float32)\n",
    "    outputs, _states=tf.nn.dynamic_rnn(cell,xdata, dtype=tf.float32)\n",
    "    sess.run(tf.global_variables_initializer())\n",
    "    pp.pprint(outputs.eval())\n",
    "    pp.pprint(_states.eval())\n",
    "    \n",
    "    "
   ]
  },
  {
   "cell_type": "code",
   "execution_count": 104,
   "metadata": {},
   "outputs": [
    {
     "name": "stdout",
     "output_type": "stream",
     "text": [
      "(1, 5, 4)\n",
      "array([[[1., 0., 0., 0.],\n",
      "        [0., 1., 0., 0.],\n",
      "        [0., 0., 1., 0.],\n",
      "        [0., 0., 1., 0.],\n",
      "        [0., 0., 0., 1.]]], dtype=float32)\n",
      "array([[[ 0.39774477,  0.5468991 ],\n",
      "        [ 0.8928871 , -0.04237348],\n",
      "        [-0.01551964, -0.12247499],\n",
      "        [-0.57187355, -0.40627557],\n",
      "        [-0.80547315, -0.36207783]]], dtype=float32)\n"
     ]
    }
   ],
   "source": [
    "with tf.variable_scope('sec_cell') as scope:\n",
    "    hidden_size=6\n",
    "    cell=tf.contrib.rnn.BasicRNNCell(num_units=hidden_size)\n",
    "    xdata=np.array([[h,e,l,l,o]], dtype=np.float32)\n",
    "    print(xdata.shape)\n",
    "#(1,5,4)\n",
    "#(batch_size,seq_len,input_dim)\n",
    "    pp.pprint(xdata)\n",
    "    outputs, _states=tf.nn.dynamic_rnn(cell,xdata, dtype=tf.float32)\n",
    "    sess.run(tf.global_variables_initializer())\n",
    "    pp.pprint(outputs.eval())   \n",
    "    "
   ]
  },
  {
   "cell_type": "code",
   "execution_count": 109,
   "metadata": {},
   "outputs": [
    {
     "name": "stdout",
     "output_type": "stream",
     "text": [
      "array([[[1., 0., 0., 0.],\n",
      "        [0., 1., 0., 0.],\n",
      "        [0., 0., 1., 0.],\n",
      "        [0., 0., 1., 0.],\n",
      "        [0., 0., 0., 1.]],\n",
      "\n",
      "       [[0., 1., 0., 0.],\n",
      "        [0., 0., 0., 1.],\n",
      "        [0., 0., 1., 0.],\n",
      "        [0., 0., 1., 0.],\n",
      "        [0., 0., 1., 0.]],\n",
      "\n",
      "       [[0., 0., 1., 0.],\n",
      "        [0., 0., 1., 0.],\n",
      "        [0., 1., 0., 0.],\n",
      "        [0., 1., 0., 0.],\n",
      "        [0., 0., 1., 0.]]], dtype=float32)\n",
      "array([[[ 0.5933645 ,  0.33998343],\n",
      "        [-0.3217429 ,  0.6085877 ],\n",
      "        [ 0.32240725,  0.33100843],\n",
      "        [ 0.5205061 ,  0.32865316],\n",
      "        [ 0.5103742 ,  0.41573536]],\n",
      "\n",
      "       [[-0.15534404,  0.6055428 ],\n",
      "        [ 0.30791327,  0.41788206],\n",
      "        [ 0.47565743,  0.32958195],\n",
      "        [ 0.53085035,  0.32879436],\n",
      "        [ 0.5346692 ,  0.32884225]],\n",
      "\n",
      "       [[ 0.64783275,  0.32472104],\n",
      "        [ 0.54383093,  0.32891762],\n",
      "        [-0.3189336 ,  0.60846704],\n",
      "        [-0.5324154 ,  0.6099864 ],\n",
      "        [ 0.30503196,  0.33080855]]], dtype=float32)\n"
     ]
    }
   ],
   "source": [
    "with tf.variable_scope('thr_cell') as scope:    \n",
    "    hidden_size=2\n",
    "    cell=tf.contrib.rnn.BasicRNNCell(num_units=hidden_size)\n",
    "    xdata=np.array([[h,e,l,l,o],\n",
    "                   [e,o,l,l,l],\n",
    "                   [l,l,e,e,l]], dtype=np.float32)\n",
    "    pp.pprint(xdata)    \n",
    "    outputs, _states=tf.nn.dynamic_rnn(cell,xdata, dtype=tf.float32)\n",
    "    sess.run(tf.global_variables_initializer())\n",
    "    pp.pprint(outputs.eval())   \n",
    "    "
   ]
  },
  {
   "cell_type": "code",
   "execution_count": 110,
   "metadata": {},
   "outputs": [
    {
     "name": "stderr",
     "output_type": "stream",
     "text": [
      "W0816 14:47:28.700894  9792 deprecation.py:323] From <ipython-input-110-2a466152e999>:5: BasicLSTMCell.__init__ (from tensorflow.python.ops.rnn_cell_impl) is deprecated and will be removed in a future version.\n",
      "Instructions for updating:\n",
      "This class is equivalent as tf.keras.layers.LSTMCell, and will be replaced by that in Tensorflow 2.0.\n"
     ]
    },
    {
     "name": "stdout",
     "output_type": "stream",
     "text": [
      "array([[[1., 0., 0., 0.],\n",
      "        [0., 1., 0., 0.],\n",
      "        [0., 0., 1., 0.],\n",
      "        [0., 0., 1., 0.],\n",
      "        [0., 0., 0., 1.]],\n",
      "\n",
      "       [[0., 1., 0., 0.],\n",
      "        [0., 0., 0., 1.],\n",
      "        [0., 0., 1., 0.],\n",
      "        [0., 0., 1., 0.],\n",
      "        [0., 0., 1., 0.]],\n",
      "\n",
      "       [[0., 0., 1., 0.],\n",
      "        [0., 0., 1., 0.],\n",
      "        [0., 1., 0., 0.],\n",
      "        [0., 1., 0., 0.],\n",
      "        [0., 0., 1., 0.]]], dtype=float32)\n",
      "array([[[-0.1322009 ,  0.04252621],\n",
      "        [-0.16804105, -0.04627199],\n",
      "        [-0.01589115, -0.12874529],\n",
      "        [ 0.15109849, -0.18411236],\n",
      "        [ 0.10181877, -0.20873772]],\n",
      "\n",
      "       [[-0.09788718, -0.06387524],\n",
      "        [-0.02616269, -0.14750491],\n",
      "        [ 0.13693146, -0.21632285],\n",
      "        [ 0.26180714, -0.24035087],\n",
      "        [ 0.34520617, -0.2489305 ]],\n",
      "\n",
      "       [[ 0.1574434 , -0.0753042 ],\n",
      "        [ 0.26998237, -0.12255721],\n",
      "        [ 0.09413569, -0.15500641],\n",
      "        [-0.02562424, -0.18844967],\n",
      "        [ 0.14212008, -0.22042999]]], dtype=float32)\n"
     ]
    }
   ],
   "source": [
    "#M(시트),V(그래프),C(컨트롤러(막대)) 분리\n",
    "\n",
    "with tf.variable_scope('lstm_thr_cell') as scope:    \n",
    "    hidden_size=2\n",
    "    cell=tf.contrib.rnn.BasicLSTMCell(num_units=hidden_size)\n",
    "    xdata=np.array([[h,e,l,l,o],\n",
    "                   [e,o,l,l,l],\n",
    "                   [l,l,e,e,l]], dtype=np.float32)\n",
    "    pp.pprint(xdata)    \n",
    "    outputs, _states=tf.nn.dynamic_rnn(cell,xdata, dtype=tf.float32)\n",
    "    sess.run(tf.global_variables_initializer())\n",
    "    pp.pprint(outputs.eval())   \n",
    "    "
   ]
  },
  {
   "cell_type": "code",
   "execution_count": null,
   "metadata": {},
   "outputs": [],
   "source": [
    "with tf.variable_scope('lstm_thr_cell_2') as scope:    \n",
    "    hidden_size=2\n",
    "    cell=tf.contrib.rnn.BasicLSTMCell(num_units=hidden_size)\n",
    "    xdata=np.array([[h,e,l,l,o],\n",
    "                   [e,o,l,l,l],\n",
    "                   [l,l,e,e,l]], dtype=np.float32)\n",
    "    pp.pprint(xdata)    \n",
    "    outputs, _states=tf.nn.dynamic_rnn(cell,xdata,sequence_length=[5,3,4], dtype=tf.float32)\n",
    "    sess.run(tf.global_variables_initializer())\n",
    "    pp.pprint(outputs.eval())   \n",
    "    "
   ]
  },
  {
   "cell_type": "code",
   "execution_count": null,
   "metadata": {},
   "outputs": [],
   "source": [
    "\n",
    "with tf.variable_scope('init_lstm_thr_cell') as scope:    \n",
    "    hidden_size=2\n",
    "    batch_size=3\n",
    "    cell=tf.contrib.rnn.BasicLSTMCell(num_units=hidden_size)\n",
    "    xdata=np.array([[h,e,l,l,o],\n",
    "                   [e,o,l,l,l],\n",
    "                   [l,l,e,e,l]], dtype=np.float32)\n",
    "    pp.pprint(xdata)    \n",
    "    init_state=cell.zero_state(batch_size, tf.float32)\n",
    "    outputs, _states=tf.nn.dynamic_rnn(cell,xdata,initial_state=init_state ,dtype=tf.float32)\n",
    "    sess.run(tf.global_variables_initializer())\n",
    "    pp.pprint(outputs.eval())   \n",
    "    \n",
    "    \n",
    "#     데이터:100개\n",
    "#         1에폭:100개 데이터를 학습\n",
    "#     batch_size:1개, batch_length:100/20=5번\n",
    "#             (20개 단위로 학습(forward,backward))\n",
    "        \n",
    "    \n",
    "    "
   ]
  },
  {
   "cell_type": "code",
   "execution_count": 117,
   "metadata": {},
   "outputs": [
    {
     "name": "stdout",
     "output_type": "stream",
     "text": [
      "[[[ 0.  1.  2.]\n",
      "  [ 3.  4.  5.]\n",
      "  [ 6.  7.  8.]\n",
      "  [ 9. 10. 11.]\n",
      "  [12. 13. 14.]]\n",
      "\n",
      " [[15. 16. 17.]\n",
      "  [18. 19. 20.]\n",
      "  [21. 22. 23.]\n",
      "  [24. 25. 26.]\n",
      "  [27. 28. 29.]]\n",
      "\n",
      " [[30. 31. 32.]\n",
      "  [33. 34. 35.]\n",
      "  [36. 37. 38.]\n",
      "  [39. 40. 41.]\n",
      "  [42. 43. 44.]]]\n"
     ]
    }
   ],
   "source": [
    "batch_size=3\n",
    "seq_len=5\n",
    "in_dim=3\n",
    "xdata=np.arange(45,dtype=np.float32).reshape(batch_size,seq_len,in_dim)\n",
    "print(xdata)"
   ]
  },
  {
   "cell_type": "code",
   "execution_count": 118,
   "metadata": {},
   "outputs": [
    {
     "ename": "ValueError",
     "evalue": "in converted code:\n    relative to C:\\Users\\user\\Anaconda3\\lib\\site-packages\\tensorflow\\python:\n\n    ops\\rnn_cell_impl.py:1719 call *\n        cur_inp, new_state = cell(cur_inp, cur_state)\n    ops\\rnn_cell_impl.py:385 __call__\n        self, inputs, state, scope=scope, *args, **kwargs)\n    ops\\rnn_cell_impl.py:766 call *\n        gate_inputs = math_ops.matmul(\n    util\\dispatch.py:180 wrapper\n        return target(*args, **kwargs)\n    ops\\math_ops.py:2647 matmul\n        a, b, transpose_a=transpose_a, transpose_b=transpose_b, name=name)\n    ops\\gen_math_ops.py:6294 mat_mul\n        name=name)\n    framework\\op_def_library.py:788 _apply_op_helper\n        op_def=op_def)\n    util\\deprecation.py:507 new_func\n        return func(*args, **kwargs)\n    framework\\ops.py:3616 create_op\n        op_def=op_def)\n    framework\\ops.py:2027 __init__\n        control_input_ops)\n    framework\\ops.py:1867 _create_c_op\n        raise ValueError(str(e))\n\n    ValueError: Dimensions must be equal, but are 10 and 8 for 'multi_rnn_cell_3/rnn/while/rnn/multi_rnn_cell/cell_0/basic_lstm_cell/MatMul_1' (op: 'MatMul') with input shapes: [3,10], [8,20].\n",
     "output_type": "error",
     "traceback": [
      "\u001b[1;31m---------------------------------------------------------------------------\u001b[0m",
      "\u001b[1;31mValueError\u001b[0m                                Traceback (most recent call last)",
      "\u001b[1;32m<ipython-input-118-c129fa356877>\u001b[0m in \u001b[0;36m<module>\u001b[1;34m\u001b[0m\n\u001b[0;32m      4\u001b[0m     \u001b[0mcell\u001b[0m\u001b[1;33m=\u001b[0m\u001b[0mtf\u001b[0m\u001b[1;33m.\u001b[0m\u001b[0mcontrib\u001b[0m\u001b[1;33m.\u001b[0m\u001b[0mrnn\u001b[0m\u001b[1;33m.\u001b[0m\u001b[0mBasicLSTMCell\u001b[0m\u001b[1;33m(\u001b[0m\u001b[0mnum_units\u001b[0m\u001b[1;33m=\u001b[0m\u001b[1;36m5\u001b[0m\u001b[1;33m)\u001b[0m\u001b[1;33m\u001b[0m\u001b[1;33m\u001b[0m\u001b[0m\n\u001b[0;32m      5\u001b[0m     \u001b[0mcell\u001b[0m\u001b[1;33m=\u001b[0m\u001b[0mtf\u001b[0m\u001b[1;33m.\u001b[0m\u001b[0mcontrib\u001b[0m\u001b[1;33m.\u001b[0m\u001b[0mrnn\u001b[0m\u001b[1;33m.\u001b[0m\u001b[0mMultiRNNCell\u001b[0m\u001b[1;33m(\u001b[0m\u001b[1;33m[\u001b[0m\u001b[0mcell\u001b[0m\u001b[1;33m]\u001b[0m\u001b[1;33m*\u001b[0m\u001b[1;36m3\u001b[0m\u001b[1;33m)\u001b[0m\u001b[1;31m#layer 3개\u001b[0m\u001b[1;33m\u001b[0m\u001b[1;33m\u001b[0m\u001b[0m\n\u001b[1;32m----> 6\u001b[1;33m     \u001b[0moutputs\u001b[0m\u001b[1;33m,\u001b[0m \u001b[0m_states\u001b[0m\u001b[1;33m=\u001b[0m\u001b[0mtf\u001b[0m\u001b[1;33m.\u001b[0m\u001b[0mnn\u001b[0m\u001b[1;33m.\u001b[0m\u001b[0mdynamic_rnn\u001b[0m\u001b[1;33m(\u001b[0m\u001b[0mcell\u001b[0m\u001b[1;33m,\u001b[0m \u001b[0mxdata\u001b[0m\u001b[1;33m,\u001b[0m\u001b[0mdtype\u001b[0m\u001b[1;33m=\u001b[0m\u001b[0mtf\u001b[0m\u001b[1;33m.\u001b[0m\u001b[0mfloat32\u001b[0m\u001b[1;33m)\u001b[0m\u001b[1;33m\u001b[0m\u001b[1;33m\u001b[0m\u001b[0m\n\u001b[0m\u001b[0;32m      7\u001b[0m     \u001b[0msess\u001b[0m\u001b[1;33m.\u001b[0m\u001b[0mrun\u001b[0m\u001b[1;33m(\u001b[0m\u001b[0mtf\u001b[0m\u001b[1;33m.\u001b[0m\u001b[0mglobal_variables_initializer\u001b[0m\u001b[1;33m(\u001b[0m\u001b[1;33m)\u001b[0m\u001b[1;33m)\u001b[0m\u001b[1;33m\u001b[0m\u001b[1;33m\u001b[0m\u001b[0m\n\u001b[0;32m      8\u001b[0m     \u001b[0mpp\u001b[0m\u001b[1;33m.\u001b[0m\u001b[0mprint\u001b[0m\u001b[1;33m(\u001b[0m\u001b[0moutputs\u001b[0m\u001b[1;33m.\u001b[0m\u001b[0meval\u001b[0m\u001b[1;33m(\u001b[0m\u001b[1;33m)\u001b[0m\u001b[1;33m)\u001b[0m\u001b[1;33m\u001b[0m\u001b[1;33m\u001b[0m\u001b[0m\n",
      "\u001b[1;32m~\\Anaconda3\\lib\\site-packages\\tensorflow\\python\\util\\deprecation.py\u001b[0m in \u001b[0;36mnew_func\u001b[1;34m(*args, **kwargs)\u001b[0m\n\u001b[0;32m    322\u001b[0m               \u001b[1;34m'in a future version'\u001b[0m \u001b[1;32mif\u001b[0m \u001b[0mdate\u001b[0m \u001b[1;32mis\u001b[0m \u001b[1;32mNone\u001b[0m \u001b[1;32melse\u001b[0m \u001b[1;33m(\u001b[0m\u001b[1;34m'after %s'\u001b[0m \u001b[1;33m%\u001b[0m \u001b[0mdate\u001b[0m\u001b[1;33m)\u001b[0m\u001b[1;33m,\u001b[0m\u001b[1;33m\u001b[0m\u001b[1;33m\u001b[0m\u001b[0m\n\u001b[0;32m    323\u001b[0m               instructions)\n\u001b[1;32m--> 324\u001b[1;33m       \u001b[1;32mreturn\u001b[0m \u001b[0mfunc\u001b[0m\u001b[1;33m(\u001b[0m\u001b[1;33m*\u001b[0m\u001b[0margs\u001b[0m\u001b[1;33m,\u001b[0m \u001b[1;33m**\u001b[0m\u001b[0mkwargs\u001b[0m\u001b[1;33m)\u001b[0m\u001b[1;33m\u001b[0m\u001b[1;33m\u001b[0m\u001b[0m\n\u001b[0m\u001b[0;32m    325\u001b[0m     return tf_decorator.make_decorator(\n\u001b[0;32m    326\u001b[0m         \u001b[0mfunc\u001b[0m\u001b[1;33m,\u001b[0m \u001b[0mnew_func\u001b[0m\u001b[1;33m,\u001b[0m \u001b[1;34m'deprecated'\u001b[0m\u001b[1;33m,\u001b[0m\u001b[1;33m\u001b[0m\u001b[1;33m\u001b[0m\u001b[0m\n",
      "\u001b[1;32m~\\Anaconda3\\lib\\site-packages\\tensorflow\\python\\ops\\rnn.py\u001b[0m in \u001b[0;36mdynamic_rnn\u001b[1;34m(cell, inputs, sequence_length, initial_state, dtype, parallel_iterations, swap_memory, time_major, scope)\u001b[0m\n\u001b[0;32m    705\u001b[0m         \u001b[0mswap_memory\u001b[0m\u001b[1;33m=\u001b[0m\u001b[0mswap_memory\u001b[0m\u001b[1;33m,\u001b[0m\u001b[1;33m\u001b[0m\u001b[1;33m\u001b[0m\u001b[0m\n\u001b[0;32m    706\u001b[0m         \u001b[0msequence_length\u001b[0m\u001b[1;33m=\u001b[0m\u001b[0msequence_length\u001b[0m\u001b[1;33m,\u001b[0m\u001b[1;33m\u001b[0m\u001b[1;33m\u001b[0m\u001b[0m\n\u001b[1;32m--> 707\u001b[1;33m         dtype=dtype)\n\u001b[0m\u001b[0;32m    708\u001b[0m \u001b[1;33m\u001b[0m\u001b[0m\n\u001b[0;32m    709\u001b[0m     \u001b[1;31m# Outputs of _dynamic_rnn_loop are always shaped [time, batch, depth].\u001b[0m\u001b[1;33m\u001b[0m\u001b[1;33m\u001b[0m\u001b[1;33m\u001b[0m\u001b[0m\n",
      "\u001b[1;32m~\\Anaconda3\\lib\\site-packages\\tensorflow\\python\\ops\\rnn.py\u001b[0m in \u001b[0;36m_dynamic_rnn_loop\u001b[1;34m(cell, inputs, initial_state, parallel_iterations, swap_memory, sequence_length, dtype)\u001b[0m\n\u001b[0;32m    914\u001b[0m       \u001b[0mparallel_iterations\u001b[0m\u001b[1;33m=\u001b[0m\u001b[0mparallel_iterations\u001b[0m\u001b[1;33m,\u001b[0m\u001b[1;33m\u001b[0m\u001b[1;33m\u001b[0m\u001b[0m\n\u001b[0;32m    915\u001b[0m       \u001b[0mmaximum_iterations\u001b[0m\u001b[1;33m=\u001b[0m\u001b[0mtime_steps\u001b[0m\u001b[1;33m,\u001b[0m\u001b[1;33m\u001b[0m\u001b[1;33m\u001b[0m\u001b[0m\n\u001b[1;32m--> 916\u001b[1;33m       swap_memory=swap_memory)\n\u001b[0m\u001b[0;32m    917\u001b[0m \u001b[1;33m\u001b[0m\u001b[0m\n\u001b[0;32m    918\u001b[0m   \u001b[1;31m# Unpack final output if not using output tuples.\u001b[0m\u001b[1;33m\u001b[0m\u001b[1;33m\u001b[0m\u001b[1;33m\u001b[0m\u001b[0m\n",
      "\u001b[1;32m~\\Anaconda3\\lib\\site-packages\\tensorflow\\python\\ops\\control_flow_ops.py\u001b[0m in \u001b[0;36mwhile_loop\u001b[1;34m(cond, body, loop_vars, shape_invariants, parallel_iterations, back_prop, swap_memory, name, maximum_iterations, return_same_structure)\u001b[0m\n\u001b[0;32m   3499\u001b[0m       \u001b[0mops\u001b[0m\u001b[1;33m.\u001b[0m\u001b[0madd_to_collection\u001b[0m\u001b[1;33m(\u001b[0m\u001b[0mops\u001b[0m\u001b[1;33m.\u001b[0m\u001b[0mGraphKeys\u001b[0m\u001b[1;33m.\u001b[0m\u001b[0mWHILE_CONTEXT\u001b[0m\u001b[1;33m,\u001b[0m \u001b[0mloop_context\u001b[0m\u001b[1;33m)\u001b[0m\u001b[1;33m\u001b[0m\u001b[1;33m\u001b[0m\u001b[0m\n\u001b[0;32m   3500\u001b[0m     result = loop_context.BuildLoop(cond, body, loop_vars, shape_invariants,\n\u001b[1;32m-> 3501\u001b[1;33m                                     return_same_structure)\n\u001b[0m\u001b[0;32m   3502\u001b[0m     \u001b[1;32mif\u001b[0m \u001b[0mmaximum_iterations\u001b[0m \u001b[1;32mis\u001b[0m \u001b[1;32mnot\u001b[0m \u001b[1;32mNone\u001b[0m\u001b[1;33m:\u001b[0m\u001b[1;33m\u001b[0m\u001b[1;33m\u001b[0m\u001b[0m\n\u001b[0;32m   3503\u001b[0m       \u001b[1;32mreturn\u001b[0m \u001b[0mresult\u001b[0m\u001b[1;33m[\u001b[0m\u001b[1;36m1\u001b[0m\u001b[1;33m]\u001b[0m\u001b[1;33m\u001b[0m\u001b[1;33m\u001b[0m\u001b[0m\n",
      "\u001b[1;32m~\\Anaconda3\\lib\\site-packages\\tensorflow\\python\\ops\\control_flow_ops.py\u001b[0m in \u001b[0;36mBuildLoop\u001b[1;34m(self, pred, body, loop_vars, shape_invariants, return_same_structure)\u001b[0m\n\u001b[0;32m   3010\u001b[0m       \u001b[1;32mwith\u001b[0m \u001b[0mops\u001b[0m\u001b[1;33m.\u001b[0m\u001b[0mget_default_graph\u001b[0m\u001b[1;33m(\u001b[0m\u001b[1;33m)\u001b[0m\u001b[1;33m.\u001b[0m\u001b[0m_mutation_lock\u001b[0m\u001b[1;33m(\u001b[0m\u001b[1;33m)\u001b[0m\u001b[1;33m:\u001b[0m  \u001b[1;31m# pylint: disable=protected-access\u001b[0m\u001b[1;33m\u001b[0m\u001b[1;33m\u001b[0m\u001b[0m\n\u001b[0;32m   3011\u001b[0m         original_body_result, exit_vars = self._BuildLoop(\n\u001b[1;32m-> 3012\u001b[1;33m             pred, body, original_loop_vars, loop_vars, shape_invariants)\n\u001b[0m\u001b[0;32m   3013\u001b[0m     \u001b[1;32mfinally\u001b[0m\u001b[1;33m:\u001b[0m\u001b[1;33m\u001b[0m\u001b[1;33m\u001b[0m\u001b[0m\n\u001b[0;32m   3014\u001b[0m       \u001b[0mself\u001b[0m\u001b[1;33m.\u001b[0m\u001b[0mExit\u001b[0m\u001b[1;33m(\u001b[0m\u001b[1;33m)\u001b[0m\u001b[1;33m\u001b[0m\u001b[1;33m\u001b[0m\u001b[0m\n",
      "\u001b[1;32m~\\Anaconda3\\lib\\site-packages\\tensorflow\\python\\ops\\control_flow_ops.py\u001b[0m in \u001b[0;36m_BuildLoop\u001b[1;34m(self, pred, body, original_loop_vars, loop_vars, shape_invariants)\u001b[0m\n\u001b[0;32m   2935\u001b[0m         expand_composites=True)\n\u001b[0;32m   2936\u001b[0m     \u001b[0mpre_summaries\u001b[0m \u001b[1;33m=\u001b[0m \u001b[0mops\u001b[0m\u001b[1;33m.\u001b[0m\u001b[0mget_collection\u001b[0m\u001b[1;33m(\u001b[0m\u001b[0mops\u001b[0m\u001b[1;33m.\u001b[0m\u001b[0mGraphKeys\u001b[0m\u001b[1;33m.\u001b[0m\u001b[0m_SUMMARY_COLLECTION\u001b[0m\u001b[1;33m)\u001b[0m  \u001b[1;31m# pylint: disable=protected-access\u001b[0m\u001b[1;33m\u001b[0m\u001b[1;33m\u001b[0m\u001b[0m\n\u001b[1;32m-> 2937\u001b[1;33m     \u001b[0mbody_result\u001b[0m \u001b[1;33m=\u001b[0m \u001b[0mbody\u001b[0m\u001b[1;33m(\u001b[0m\u001b[1;33m*\u001b[0m\u001b[0mpacked_vars_for_body\u001b[0m\u001b[1;33m)\u001b[0m\u001b[1;33m\u001b[0m\u001b[1;33m\u001b[0m\u001b[0m\n\u001b[0m\u001b[0;32m   2938\u001b[0m     \u001b[0mpost_summaries\u001b[0m \u001b[1;33m=\u001b[0m \u001b[0mops\u001b[0m\u001b[1;33m.\u001b[0m\u001b[0mget_collection\u001b[0m\u001b[1;33m(\u001b[0m\u001b[0mops\u001b[0m\u001b[1;33m.\u001b[0m\u001b[0mGraphKeys\u001b[0m\u001b[1;33m.\u001b[0m\u001b[0m_SUMMARY_COLLECTION\u001b[0m\u001b[1;33m)\u001b[0m  \u001b[1;31m# pylint: disable=protected-access\u001b[0m\u001b[1;33m\u001b[0m\u001b[1;33m\u001b[0m\u001b[0m\n\u001b[0;32m   2939\u001b[0m     \u001b[1;32mif\u001b[0m \u001b[1;32mnot\u001b[0m \u001b[0mnest\u001b[0m\u001b[1;33m.\u001b[0m\u001b[0mis_sequence_or_composite\u001b[0m\u001b[1;33m(\u001b[0m\u001b[0mbody_result\u001b[0m\u001b[1;33m)\u001b[0m\u001b[1;33m:\u001b[0m\u001b[1;33m\u001b[0m\u001b[1;33m\u001b[0m\u001b[0m\n",
      "\u001b[1;32m~\\Anaconda3\\lib\\site-packages\\tensorflow\\python\\ops\\control_flow_ops.py\u001b[0m in \u001b[0;36m<lambda>\u001b[1;34m(i, lv)\u001b[0m\n\u001b[0;32m   3454\u001b[0m         cond = lambda i, lv: (  # pylint: disable=g-long-lambda\n\u001b[0;32m   3455\u001b[0m             math_ops.logical_and(i < maximum_iterations, orig_cond(*lv)))\n\u001b[1;32m-> 3456\u001b[1;33m         \u001b[0mbody\u001b[0m \u001b[1;33m=\u001b[0m \u001b[1;32mlambda\u001b[0m \u001b[0mi\u001b[0m\u001b[1;33m,\u001b[0m \u001b[0mlv\u001b[0m\u001b[1;33m:\u001b[0m \u001b[1;33m(\u001b[0m\u001b[0mi\u001b[0m \u001b[1;33m+\u001b[0m \u001b[1;36m1\u001b[0m\u001b[1;33m,\u001b[0m \u001b[0morig_body\u001b[0m\u001b[1;33m(\u001b[0m\u001b[1;33m*\u001b[0m\u001b[0mlv\u001b[0m\u001b[1;33m)\u001b[0m\u001b[1;33m)\u001b[0m\u001b[1;33m\u001b[0m\u001b[1;33m\u001b[0m\u001b[0m\n\u001b[0m\u001b[0;32m   3457\u001b[0m \u001b[1;33m\u001b[0m\u001b[0m\n\u001b[0;32m   3458\u001b[0m     \u001b[1;32mif\u001b[0m \u001b[0mexecuting_eagerly\u001b[0m\u001b[1;33m:\u001b[0m\u001b[1;33m\u001b[0m\u001b[1;33m\u001b[0m\u001b[0m\n",
      "\u001b[1;32m~\\Anaconda3\\lib\\site-packages\\tensorflow\\python\\ops\\rnn.py\u001b[0m in \u001b[0;36m_time_step\u001b[1;34m(time, output_ta_t, state)\u001b[0m\n\u001b[0;32m    882\u001b[0m           skip_conditionals=True)\n\u001b[0;32m    883\u001b[0m     \u001b[1;32melse\u001b[0m\u001b[1;33m:\u001b[0m\u001b[1;33m\u001b[0m\u001b[1;33m\u001b[0m\u001b[0m\n\u001b[1;32m--> 884\u001b[1;33m       \u001b[1;33m(\u001b[0m\u001b[0moutput\u001b[0m\u001b[1;33m,\u001b[0m \u001b[0mnew_state\u001b[0m\u001b[1;33m)\u001b[0m \u001b[1;33m=\u001b[0m \u001b[0mcall_cell\u001b[0m\u001b[1;33m(\u001b[0m\u001b[1;33m)\u001b[0m\u001b[1;33m\u001b[0m\u001b[1;33m\u001b[0m\u001b[0m\n\u001b[0m\u001b[0;32m    885\u001b[0m \u001b[1;33m\u001b[0m\u001b[0m\n\u001b[0;32m    886\u001b[0m     \u001b[1;31m# Keras cells always wrap state as list, even if it's a single tensor.\u001b[0m\u001b[1;33m\u001b[0m\u001b[1;33m\u001b[0m\u001b[1;33m\u001b[0m\u001b[0m\n",
      "\u001b[1;32m~\\Anaconda3\\lib\\site-packages\\tensorflow\\python\\ops\\rnn.py\u001b[0m in \u001b[0;36m<lambda>\u001b[1;34m()\u001b[0m\n\u001b[0;32m    868\u001b[0m     \u001b[1;32mif\u001b[0m \u001b[0mis_keras_rnn_cell\u001b[0m \u001b[1;32mand\u001b[0m \u001b[1;32mnot\u001b[0m \u001b[0mnest\u001b[0m\u001b[1;33m.\u001b[0m\u001b[0mis_sequence\u001b[0m\u001b[1;33m(\u001b[0m\u001b[0mstate\u001b[0m\u001b[1;33m)\u001b[0m\u001b[1;33m:\u001b[0m\u001b[1;33m\u001b[0m\u001b[1;33m\u001b[0m\u001b[0m\n\u001b[0;32m    869\u001b[0m       \u001b[0mstate\u001b[0m \u001b[1;33m=\u001b[0m \u001b[1;33m[\u001b[0m\u001b[0mstate\u001b[0m\u001b[1;33m]\u001b[0m\u001b[1;33m\u001b[0m\u001b[1;33m\u001b[0m\u001b[0m\n\u001b[1;32m--> 870\u001b[1;33m     \u001b[0mcall_cell\u001b[0m \u001b[1;33m=\u001b[0m \u001b[1;32mlambda\u001b[0m\u001b[1;33m:\u001b[0m \u001b[0mcell\u001b[0m\u001b[1;33m(\u001b[0m\u001b[0minput_t\u001b[0m\u001b[1;33m,\u001b[0m \u001b[0mstate\u001b[0m\u001b[1;33m)\u001b[0m\u001b[1;33m\u001b[0m\u001b[1;33m\u001b[0m\u001b[0m\n\u001b[0m\u001b[0;32m    871\u001b[0m \u001b[1;33m\u001b[0m\u001b[0m\n\u001b[0;32m    872\u001b[0m     \u001b[1;32mif\u001b[0m \u001b[0msequence_length\u001b[0m \u001b[1;32mis\u001b[0m \u001b[1;32mnot\u001b[0m \u001b[1;32mNone\u001b[0m\u001b[1;33m:\u001b[0m\u001b[1;33m\u001b[0m\u001b[1;33m\u001b[0m\u001b[0m\n",
      "\u001b[1;32m~\\Anaconda3\\lib\\site-packages\\tensorflow\\python\\ops\\rnn_cell_impl.py\u001b[0m in \u001b[0;36m__call__\u001b[1;34m(self, inputs, state, scope)\u001b[0m\n\u001b[0;32m    246\u001b[0m         \u001b[0msetattr\u001b[0m\u001b[1;33m(\u001b[0m\u001b[0mself\u001b[0m\u001b[1;33m,\u001b[0m \u001b[0mscope_attrname\u001b[0m\u001b[1;33m,\u001b[0m \u001b[0mscope\u001b[0m\u001b[1;33m)\u001b[0m\u001b[1;33m\u001b[0m\u001b[1;33m\u001b[0m\u001b[0m\n\u001b[0;32m    247\u001b[0m       \u001b[1;32mwith\u001b[0m \u001b[0mscope\u001b[0m\u001b[1;33m:\u001b[0m\u001b[1;33m\u001b[0m\u001b[1;33m\u001b[0m\u001b[0m\n\u001b[1;32m--> 248\u001b[1;33m         \u001b[1;32mreturn\u001b[0m \u001b[0msuper\u001b[0m\u001b[1;33m(\u001b[0m\u001b[0mRNNCell\u001b[0m\u001b[1;33m,\u001b[0m \u001b[0mself\u001b[0m\u001b[1;33m)\u001b[0m\u001b[1;33m.\u001b[0m\u001b[0m__call__\u001b[0m\u001b[1;33m(\u001b[0m\u001b[0minputs\u001b[0m\u001b[1;33m,\u001b[0m \u001b[0mstate\u001b[0m\u001b[1;33m)\u001b[0m\u001b[1;33m\u001b[0m\u001b[1;33m\u001b[0m\u001b[0m\n\u001b[0m\u001b[0;32m    249\u001b[0m \u001b[1;33m\u001b[0m\u001b[0m\n\u001b[0;32m    250\u001b[0m   \u001b[1;32mdef\u001b[0m \u001b[0m_rnn_get_variable\u001b[0m\u001b[1;33m(\u001b[0m\u001b[0mself\u001b[0m\u001b[1;33m,\u001b[0m \u001b[0mgetter\u001b[0m\u001b[1;33m,\u001b[0m \u001b[1;33m*\u001b[0m\u001b[0margs\u001b[0m\u001b[1;33m,\u001b[0m \u001b[1;33m**\u001b[0m\u001b[0mkwargs\u001b[0m\u001b[1;33m)\u001b[0m\u001b[1;33m:\u001b[0m\u001b[1;33m\u001b[0m\u001b[1;33m\u001b[0m\u001b[0m\n",
      "\u001b[1;32m~\\Anaconda3\\lib\\site-packages\\tensorflow\\python\\layers\\base.py\u001b[0m in \u001b[0;36m__call__\u001b[1;34m(self, inputs, *args, **kwargs)\u001b[0m\n\u001b[0;32m    535\u001b[0m \u001b[1;33m\u001b[0m\u001b[0m\n\u001b[0;32m    536\u001b[0m       \u001b[1;31m# Actually call layer\u001b[0m\u001b[1;33m\u001b[0m\u001b[1;33m\u001b[0m\u001b[1;33m\u001b[0m\u001b[0m\n\u001b[1;32m--> 537\u001b[1;33m       \u001b[0moutputs\u001b[0m \u001b[1;33m=\u001b[0m \u001b[0msuper\u001b[0m\u001b[1;33m(\u001b[0m\u001b[0mLayer\u001b[0m\u001b[1;33m,\u001b[0m \u001b[0mself\u001b[0m\u001b[1;33m)\u001b[0m\u001b[1;33m.\u001b[0m\u001b[0m__call__\u001b[0m\u001b[1;33m(\u001b[0m\u001b[0minputs\u001b[0m\u001b[1;33m,\u001b[0m \u001b[1;33m*\u001b[0m\u001b[0margs\u001b[0m\u001b[1;33m,\u001b[0m \u001b[1;33m**\u001b[0m\u001b[0mkwargs\u001b[0m\u001b[1;33m)\u001b[0m\u001b[1;33m\u001b[0m\u001b[1;33m\u001b[0m\u001b[0m\n\u001b[0m\u001b[0;32m    538\u001b[0m \u001b[1;33m\u001b[0m\u001b[0m\n\u001b[0;32m    539\u001b[0m     \u001b[1;32mif\u001b[0m \u001b[1;32mnot\u001b[0m \u001b[0mcontext\u001b[0m\u001b[1;33m.\u001b[0m\u001b[0mexecuting_eagerly\u001b[0m\u001b[1;33m(\u001b[0m\u001b[1;33m)\u001b[0m\u001b[1;33m:\u001b[0m\u001b[1;33m\u001b[0m\u001b[1;33m\u001b[0m\u001b[0m\n",
      "\u001b[1;32m~\\Anaconda3\\lib\\site-packages\\tensorflow\\python\\keras\\engine\\base_layer.py\u001b[0m in \u001b[0;36m__call__\u001b[1;34m(self, inputs, *args, **kwargs)\u001b[0m\n\u001b[0;32m    632\u001b[0m                     \u001b[0moutputs\u001b[0m \u001b[1;33m=\u001b[0m \u001b[0mbase_layer_utils\u001b[0m\u001b[1;33m.\u001b[0m\u001b[0mmark_as_return\u001b[0m\u001b[1;33m(\u001b[0m\u001b[0moutputs\u001b[0m\u001b[1;33m,\u001b[0m \u001b[0macd\u001b[0m\u001b[1;33m)\u001b[0m\u001b[1;33m\u001b[0m\u001b[1;33m\u001b[0m\u001b[0m\n\u001b[0;32m    633\u001b[0m                 \u001b[1;32melse\u001b[0m\u001b[1;33m:\u001b[0m\u001b[1;33m\u001b[0m\u001b[1;33m\u001b[0m\u001b[0m\n\u001b[1;32m--> 634\u001b[1;33m                   \u001b[0moutputs\u001b[0m \u001b[1;33m=\u001b[0m \u001b[0mcall_fn\u001b[0m\u001b[1;33m(\u001b[0m\u001b[0minputs\u001b[0m\u001b[1;33m,\u001b[0m \u001b[1;33m*\u001b[0m\u001b[0margs\u001b[0m\u001b[1;33m,\u001b[0m \u001b[1;33m**\u001b[0m\u001b[0mkwargs\u001b[0m\u001b[1;33m)\u001b[0m\u001b[1;33m\u001b[0m\u001b[1;33m\u001b[0m\u001b[0m\n\u001b[0m\u001b[0;32m    635\u001b[0m \u001b[1;33m\u001b[0m\u001b[0m\n\u001b[0;32m    636\u001b[0m             \u001b[1;32mexcept\u001b[0m \u001b[0mTypeError\u001b[0m \u001b[1;32mas\u001b[0m \u001b[0me\u001b[0m\u001b[1;33m:\u001b[0m\u001b[1;33m\u001b[0m\u001b[1;33m\u001b[0m\u001b[0m\n",
      "\u001b[1;32m~\\Anaconda3\\lib\\site-packages\\tensorflow\\python\\autograph\\impl\\api.py\u001b[0m in \u001b[0;36mwrapper\u001b[1;34m(*args, **kwargs)\u001b[0m\n\u001b[0;32m    147\u001b[0m       \u001b[1;32mexcept\u001b[0m \u001b[0mException\u001b[0m \u001b[1;32mas\u001b[0m \u001b[0me\u001b[0m\u001b[1;33m:\u001b[0m  \u001b[1;31m# pylint:disable=broad-except\u001b[0m\u001b[1;33m\u001b[0m\u001b[1;33m\u001b[0m\u001b[0m\n\u001b[0;32m    148\u001b[0m         \u001b[1;32mif\u001b[0m \u001b[0mhasattr\u001b[0m\u001b[1;33m(\u001b[0m\u001b[0me\u001b[0m\u001b[1;33m,\u001b[0m \u001b[1;34m'ag_error_metadata'\u001b[0m\u001b[1;33m)\u001b[0m\u001b[1;33m:\u001b[0m\u001b[1;33m\u001b[0m\u001b[1;33m\u001b[0m\u001b[0m\n\u001b[1;32m--> 149\u001b[1;33m           \u001b[1;32mraise\u001b[0m \u001b[0me\u001b[0m\u001b[1;33m.\u001b[0m\u001b[0mag_error_metadata\u001b[0m\u001b[1;33m.\u001b[0m\u001b[0mto_exception\u001b[0m\u001b[1;33m(\u001b[0m\u001b[0mtype\u001b[0m\u001b[1;33m(\u001b[0m\u001b[0me\u001b[0m\u001b[1;33m)\u001b[0m\u001b[1;33m)\u001b[0m\u001b[1;33m\u001b[0m\u001b[1;33m\u001b[0m\u001b[0m\n\u001b[0m\u001b[0;32m    150\u001b[0m         \u001b[1;32melse\u001b[0m\u001b[1;33m:\u001b[0m\u001b[1;33m\u001b[0m\u001b[1;33m\u001b[0m\u001b[0m\n\u001b[0;32m    151\u001b[0m           \u001b[1;32mraise\u001b[0m\u001b[1;33m\u001b[0m\u001b[1;33m\u001b[0m\u001b[0m\n",
      "\u001b[1;31mValueError\u001b[0m: in converted code:\n    relative to C:\\Users\\user\\Anaconda3\\lib\\site-packages\\tensorflow\\python:\n\n    ops\\rnn_cell_impl.py:1719 call *\n        cur_inp, new_state = cell(cur_inp, cur_state)\n    ops\\rnn_cell_impl.py:385 __call__\n        self, inputs, state, scope=scope, *args, **kwargs)\n    ops\\rnn_cell_impl.py:766 call *\n        gate_inputs = math_ops.matmul(\n    util\\dispatch.py:180 wrapper\n        return target(*args, **kwargs)\n    ops\\math_ops.py:2647 matmul\n        a, b, transpose_a=transpose_a, transpose_b=transpose_b, name=name)\n    ops\\gen_math_ops.py:6294 mat_mul\n        name=name)\n    framework\\op_def_library.py:788 _apply_op_helper\n        op_def=op_def)\n    util\\deprecation.py:507 new_func\n        return func(*args, **kwargs)\n    framework\\ops.py:3616 create_op\n        op_def=op_def)\n    framework\\ops.py:2027 __init__\n        control_input_ops)\n    framework\\ops.py:1867 _create_c_op\n        raise ValueError(str(e))\n\n    ValueError: Dimensions must be equal, but are 10 and 8 for 'multi_rnn_cell_3/rnn/while/rnn/multi_rnn_cell/cell_0/basic_lstm_cell/MatMul_1' (op: 'MatMul') with input shapes: [3,10], [8,20].\n"
     ]
    }
   ],
   "source": [
    "\n",
    "with tf.variable_scope('multi_rnn_cell') as scope:    \n",
    "\n",
    "    cell=tf.contrib.rnn.BasicLSTMCell(num_units=5)\n",
    "    cell=tf.contrib.rnn.MultiRNNCell([cell]*3)#layer 3개\n",
    "    outputs, _states=tf.nn.dynamic_rnn(cell, xdata,dtype=tf.float32)\n",
    "    sess.run(tf.global_variables_initializer())\n",
    "    pp.print(outputs.eval())  \n",
    "    \n",
    "    "
   ]
  },
  {
   "cell_type": "code",
   "execution_count": null,
   "metadata": {},
   "outputs": [],
   "source": [
    "ydata=tf.constant([[1,1,1]])\n",
    "prediction1=tf.constant([[[0.3, 0.7], [0.1, 0.9], [0.3, 0.7]])\n",
    "prediction2=tf.constant([[[0.4, 0.6], [0.4, 0.6], [0.6, 0.4]])                         \n",
    "                         \n",
    "loss1=tf.contrib.seq2seq.sequence_loss(prediction1, ydata)\n",
    "sess.run(tf.global_variables_initializer())\n",
    "loss1.eval()                         \n",
    "                                     "
   ]
  },
  {
   "cell_type": "code",
   "execution_count": null,
   "metadata": {},
   "outputs": [],
   "source": []
  },
  {
   "cell_type": "code",
   "execution_count": null,
   "metadata": {},
   "outputs": [],
   "source": []
  },
  {
   "cell_type": "code",
   "execution_count": null,
   "metadata": {},
   "outputs": [],
   "source": []
  }
 ],
 "metadata": {
  "kernelspec": {
   "display_name": "Python 3",
   "language": "python",
   "name": "python3"
  },
  "language_info": {
   "codemirror_mode": {
    "name": "ipython",
    "version": 3
   },
   "file_extension": ".py",
   "mimetype": "text/x-python",
   "name": "python",
   "nbconvert_exporter": "python",
   "pygments_lexer": "ipython3",
   "version": "3.7.3"
  }
 },
 "nbformat": 4,
 "nbformat_minor": 2
}
